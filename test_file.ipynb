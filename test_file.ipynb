{
 "cells": [
  {
   "cell_type": "code",
   "execution_count": 2,
   "metadata": {},
   "outputs": [],
   "source": [
    "from utils.fetch import fetchdata\n",
    "from utils.dataframe import df_jobs\n",
    "\n",
    "import pandas as pd\n",
    "import plotly.express as px"
   ]
  },
  {
   "cell_type": "code",
   "execution_count": 3,
   "metadata": {},
   "outputs": [
    {
     "data": {
      "text/plain": [
       "state\n",
       "Dado Não Disponível    14\n",
       "São Paulo              12\n",
       "Minas Gerais            5\n",
       "Santa Catarina          4\n",
       "Rio Grande do Sul       3\n",
       "Paraná                  3\n",
       "Ceará                   2\n",
       "Mato Grosso do Sul      2\n",
       "Espírito Santo          2\n",
       "Rio de Janeiro          1\n",
       "Distrito Federal        1\n",
       "Goiás                   1\n",
       "Name: count, dtype: int64"
      ]
     },
     "execution_count": 3,
     "metadata": {},
     "output_type": "execute_result"
    }
   ],
   "source": [
    "df_jobs['state'].value_counts()"
   ]
  },
  {
   "cell_type": "code",
   "execution_count": 6,
   "metadata": {},
   "outputs": [
    {
     "data": {
      "text/plain": [
       "state\n",
       "Alagoas                                          [ADM]\n",
       "Bahia                                             [RH]\n",
       "Ceará                                            [ADM]\n",
       "Dado Não Disponível             [DADOS, UX/UI, FRTEND]\n",
       "Distrito Federal                                 [ADM]\n",
       "Espírito Santo                                 [UX/UI]\n",
       "Maranhão                                          [RH]\n",
       "Minas Gerais                                 [ADM, RH]\n",
       "Paraná                                            [RH]\n",
       "Pernambuco                                       [ADM]\n",
       "Rio Grande do Sul                              [UX/UI]\n",
       "Santa Catarina                                    [RH]\n",
       "São Paulo              [DADOS, UX/UI, ADM, RH, FRTEND]\n",
       "Name: job_type, dtype: object"
      ]
     },
     "execution_count": 6,
     "metadata": {},
     "output_type": "execute_result"
    }
   ],
   "source": [
    "df_jobs.groupby('state')['job_type'].unique()"
   ]
  },
  {
   "cell_type": "code",
   "execution_count": 114,
   "metadata": {},
   "outputs": [
    {
     "data": {
      "text/html": [
       "<div>\n",
       "<style scoped>\n",
       "    .dataframe tbody tr th:only-of-type {\n",
       "        vertical-align: middle;\n",
       "    }\n",
       "\n",
       "    .dataframe tbody tr th {\n",
       "        vertical-align: top;\n",
       "    }\n",
       "\n",
       "    .dataframe thead th {\n",
       "        text-align: right;\n",
       "    }\n",
       "</style>\n",
       "<table border=\"1\" class=\"dataframe\">\n",
       "  <thead>\n",
       "    <tr style=\"text-align: right;\">\n",
       "      <th></th>\n",
       "      <th>state</th>\n",
       "      <th>job_type</th>\n",
       "      <th>job_quantity</th>\n",
       "    </tr>\n",
       "  </thead>\n",
       "  <tbody>\n",
       "    <tr>\n",
       "      <th>0</th>\n",
       "      <td>Alagoas</td>\n",
       "      <td>ADM</td>\n",
       "      <td>1</td>\n",
       "    </tr>\n",
       "    <tr>\n",
       "      <th>1</th>\n",
       "      <td>Bahia</td>\n",
       "      <td>RH</td>\n",
       "      <td>2</td>\n",
       "    </tr>\n",
       "    <tr>\n",
       "      <th>2</th>\n",
       "      <td>Ceará</td>\n",
       "      <td>ADM</td>\n",
       "      <td>1</td>\n",
       "    </tr>\n",
       "    <tr>\n",
       "      <th>3</th>\n",
       "      <td>Dado Não Disponível</td>\n",
       "      <td>DADOS</td>\n",
       "      <td>4</td>\n",
       "    </tr>\n",
       "    <tr>\n",
       "      <th>4</th>\n",
       "      <td>Dado Não Disponível</td>\n",
       "      <td>FRTEND</td>\n",
       "      <td>9</td>\n",
       "    </tr>\n",
       "    <tr>\n",
       "      <th>5</th>\n",
       "      <td>Dado Não Disponível</td>\n",
       "      <td>UX/UI</td>\n",
       "      <td>6</td>\n",
       "    </tr>\n",
       "    <tr>\n",
       "      <th>6</th>\n",
       "      <td>Distrito Federal</td>\n",
       "      <td>ADM</td>\n",
       "      <td>1</td>\n",
       "    </tr>\n",
       "    <tr>\n",
       "      <th>7</th>\n",
       "      <td>Espírito Santo</td>\n",
       "      <td>UX/UI</td>\n",
       "      <td>1</td>\n",
       "    </tr>\n",
       "    <tr>\n",
       "      <th>8</th>\n",
       "      <td>Maranhão</td>\n",
       "      <td>RH</td>\n",
       "      <td>1</td>\n",
       "    </tr>\n",
       "    <tr>\n",
       "      <th>9</th>\n",
       "      <td>Minas Gerais</td>\n",
       "      <td>ADM</td>\n",
       "      <td>1</td>\n",
       "    </tr>\n",
       "    <tr>\n",
       "      <th>10</th>\n",
       "      <td>Minas Gerais</td>\n",
       "      <td>RH</td>\n",
       "      <td>2</td>\n",
       "    </tr>\n",
       "    <tr>\n",
       "      <th>11</th>\n",
       "      <td>Paraná</td>\n",
       "      <td>RH</td>\n",
       "      <td>1</td>\n",
       "    </tr>\n",
       "    <tr>\n",
       "      <th>12</th>\n",
       "      <td>Pernambuco</td>\n",
       "      <td>ADM</td>\n",
       "      <td>1</td>\n",
       "    </tr>\n",
       "    <tr>\n",
       "      <th>13</th>\n",
       "      <td>Rio Grande do Sul</td>\n",
       "      <td>UX/UI</td>\n",
       "      <td>1</td>\n",
       "    </tr>\n",
       "    <tr>\n",
       "      <th>14</th>\n",
       "      <td>Santa Catarina</td>\n",
       "      <td>RH</td>\n",
       "      <td>1</td>\n",
       "    </tr>\n",
       "    <tr>\n",
       "      <th>15</th>\n",
       "      <td>São Paulo</td>\n",
       "      <td>ADM</td>\n",
       "      <td>5</td>\n",
       "    </tr>\n",
       "    <tr>\n",
       "      <th>16</th>\n",
       "      <td>São Paulo</td>\n",
       "      <td>DADOS</td>\n",
       "      <td>6</td>\n",
       "    </tr>\n",
       "    <tr>\n",
       "      <th>17</th>\n",
       "      <td>São Paulo</td>\n",
       "      <td>FRTEND</td>\n",
       "      <td>1</td>\n",
       "    </tr>\n",
       "    <tr>\n",
       "      <th>18</th>\n",
       "      <td>São Paulo</td>\n",
       "      <td>RH</td>\n",
       "      <td>3</td>\n",
       "    </tr>\n",
       "    <tr>\n",
       "      <th>19</th>\n",
       "      <td>São Paulo</td>\n",
       "      <td>UX/UI</td>\n",
       "      <td>2</td>\n",
       "    </tr>\n",
       "  </tbody>\n",
       "</table>\n",
       "</div>"
      ],
      "text/plain": [
       "                  state job_type  job_quantity\n",
       "0               Alagoas      ADM             1\n",
       "1                 Bahia       RH             2\n",
       "2                 Ceará      ADM             1\n",
       "3   Dado Não Disponível    DADOS             4\n",
       "4   Dado Não Disponível   FRTEND             9\n",
       "5   Dado Não Disponível    UX/UI             6\n",
       "6      Distrito Federal      ADM             1\n",
       "7        Espírito Santo    UX/UI             1\n",
       "8              Maranhão       RH             1\n",
       "9          Minas Gerais      ADM             1\n",
       "10         Minas Gerais       RH             2\n",
       "11               Paraná       RH             1\n",
       "12           Pernambuco      ADM             1\n",
       "13    Rio Grande do Sul    UX/UI             1\n",
       "14       Santa Catarina       RH             1\n",
       "15            São Paulo      ADM             5\n",
       "16            São Paulo    DADOS             6\n",
       "17            São Paulo   FRTEND             1\n",
       "18            São Paulo       RH             3\n",
       "19            São Paulo    UX/UI             2"
      ]
     },
     "execution_count": 114,
     "metadata": {},
     "output_type": "execute_result"
    }
   ],
   "source": [
    "df_jobs_per_state = (df_jobs.groupby(['state', 'job_type'])\n",
    "                     .agg(\n",
    "                         job_quantity = ('job_type', 'count')\n",
    "                         )\n",
    "                         .reset_index()\n",
    ")\n",
    "\n",
    "df_jobs_per_state"
   ]
  },
  {
   "cell_type": "code",
   "execution_count": 127,
   "metadata": {},
   "outputs": [
    {
     "ename": "ValueError",
     "evalue": "Mime type rendering requires nbformat>=4.2.0 but it is not installed",
     "output_type": "error",
     "traceback": [
      "\u001b[1;31m---------------------------------------------------------------------------\u001b[0m",
      "\u001b[1;31mValueError\u001b[0m                                Traceback (most recent call last)",
      "File \u001b[1;32mc:\\Users\\sbelo\\Documents\\vscode\\python\\estudo\\gupy_web_app\\.venv\\Lib\\site-packages\\IPython\\core\\formatters.py:984\u001b[0m, in \u001b[0;36mIPythonDisplayFormatter.__call__\u001b[1;34m(self, obj)\u001b[0m\n\u001b[0;32m    982\u001b[0m method \u001b[38;5;241m=\u001b[39m get_real_method(obj, \u001b[38;5;28mself\u001b[39m\u001b[38;5;241m.\u001b[39mprint_method)\n\u001b[0;32m    983\u001b[0m \u001b[38;5;28;01mif\u001b[39;00m method \u001b[38;5;129;01mis\u001b[39;00m \u001b[38;5;129;01mnot\u001b[39;00m \u001b[38;5;28;01mNone\u001b[39;00m:\n\u001b[1;32m--> 984\u001b[0m     \u001b[43mmethod\u001b[49m\u001b[43m(\u001b[49m\u001b[43m)\u001b[49m\n\u001b[0;32m    985\u001b[0m     \u001b[38;5;28;01mreturn\u001b[39;00m \u001b[38;5;28;01mTrue\u001b[39;00m\n",
      "File \u001b[1;32mc:\\Users\\sbelo\\Documents\\vscode\\python\\estudo\\gupy_web_app\\.venv\\Lib\\site-packages\\plotly\\basedatatypes.py:832\u001b[0m, in \u001b[0;36mBaseFigure._ipython_display_\u001b[1;34m(self)\u001b[0m\n\u001b[0;32m    829\u001b[0m \u001b[38;5;28;01mimport\u001b[39;00m \u001b[38;5;21;01mplotly\u001b[39;00m\u001b[38;5;21;01m.\u001b[39;00m\u001b[38;5;21;01mio\u001b[39;00m \u001b[38;5;28;01mas\u001b[39;00m \u001b[38;5;21;01mpio\u001b[39;00m\n\u001b[0;32m    831\u001b[0m \u001b[38;5;28;01mif\u001b[39;00m pio\u001b[38;5;241m.\u001b[39mrenderers\u001b[38;5;241m.\u001b[39mrender_on_display \u001b[38;5;129;01mand\u001b[39;00m pio\u001b[38;5;241m.\u001b[39mrenderers\u001b[38;5;241m.\u001b[39mdefault:\n\u001b[1;32m--> 832\u001b[0m     \u001b[43mpio\u001b[49m\u001b[38;5;241;43m.\u001b[39;49m\u001b[43mshow\u001b[49m\u001b[43m(\u001b[49m\u001b[38;5;28;43mself\u001b[39;49m\u001b[43m)\u001b[49m\n\u001b[0;32m    833\u001b[0m \u001b[38;5;28;01melse\u001b[39;00m:\n\u001b[0;32m    834\u001b[0m     \u001b[38;5;28mprint\u001b[39m(\u001b[38;5;28mrepr\u001b[39m(\u001b[38;5;28mself\u001b[39m))\n",
      "File \u001b[1;32mc:\\Users\\sbelo\\Documents\\vscode\\python\\estudo\\gupy_web_app\\.venv\\Lib\\site-packages\\plotly\\io\\_renderers.py:394\u001b[0m, in \u001b[0;36mshow\u001b[1;34m(fig, renderer, validate, **kwargs)\u001b[0m\n\u001b[0;32m    389\u001b[0m         \u001b[38;5;28;01mraise\u001b[39;00m \u001b[38;5;167;01mValueError\u001b[39;00m(\n\u001b[0;32m    390\u001b[0m             \u001b[38;5;124m\"\u001b[39m\u001b[38;5;124mMime type rendering requires ipython but it is not installed\u001b[39m\u001b[38;5;124m\"\u001b[39m\n\u001b[0;32m    391\u001b[0m         )\n\u001b[0;32m    393\u001b[0m     \u001b[38;5;28;01mif\u001b[39;00m \u001b[38;5;129;01mnot\u001b[39;00m nbformat \u001b[38;5;129;01mor\u001b[39;00m Version(nbformat\u001b[38;5;241m.\u001b[39m__version__) \u001b[38;5;241m<\u001b[39m Version(\u001b[38;5;124m\"\u001b[39m\u001b[38;5;124m4.2.0\u001b[39m\u001b[38;5;124m\"\u001b[39m):\n\u001b[1;32m--> 394\u001b[0m         \u001b[38;5;28;01mraise\u001b[39;00m \u001b[38;5;167;01mValueError\u001b[39;00m(\n\u001b[0;32m    395\u001b[0m             \u001b[38;5;124m\"\u001b[39m\u001b[38;5;124mMime type rendering requires nbformat>=4.2.0 but it is not installed\u001b[39m\u001b[38;5;124m\"\u001b[39m\n\u001b[0;32m    396\u001b[0m         )\n\u001b[0;32m    398\u001b[0m     ipython_display\u001b[38;5;241m.\u001b[39mdisplay(bundle, raw\u001b[38;5;241m=\u001b[39m\u001b[38;5;28;01mTrue\u001b[39;00m)\n\u001b[0;32m    400\u001b[0m \u001b[38;5;66;03m# external renderers\u001b[39;00m\n",
      "\u001b[1;31mValueError\u001b[0m: Mime type rendering requires nbformat>=4.2.0 but it is not installed"
     ]
    },
    {
     "data": {
      "application/vnd.plotly.v1+json": {
       "config": {
        "plotlyServerURL": "https://plot.ly"
       },
       "data": [
        {
         "alignmentgroup": "True",
         "cliponaxis": false,
         "hovertemplate": "Tipo de Vaga=ADM<br>Estados=%{x}<br> =%{y}<extra></extra>",
         "legendgroup": "ADM",
         "marker": {
          "color": "#636efa",
          "pattern": {
           "shape": ""
          }
         },
         "name": "ADM",
         "offsetgroup": "ADM",
         "orientation": "v",
         "showlegend": true,
         "textangle": 90,
         "textfont": {
          "size": 6
         },
         "textposition": "auto",
         "texttemplate": "%{y:.2s}",
         "type": "bar",
         "x": [
          "Alagoas",
          "Ceará",
          "Distrito Federal",
          "Minas Gerais",
          "Pernambuco",
          "São Paulo"
         ],
         "xaxis": "x",
         "y": [
          1,
          1,
          1,
          1,
          1,
          5
         ],
         "yaxis": "y"
        },
        {
         "alignmentgroup": "True",
         "cliponaxis": false,
         "hovertemplate": "Tipo de Vaga=RH<br>Estados=%{x}<br> =%{y}<extra></extra>",
         "legendgroup": "RH",
         "marker": {
          "color": "#EF553B",
          "pattern": {
           "shape": ""
          }
         },
         "name": "RH",
         "offsetgroup": "RH",
         "orientation": "v",
         "showlegend": true,
         "textangle": 90,
         "textfont": {
          "size": 6
         },
         "textposition": "auto",
         "texttemplate": "%{y:.2s}",
         "type": "bar",
         "x": [
          "Bahia",
          "Maranhão",
          "Minas Gerais",
          "Paraná",
          "Santa Catarina",
          "São Paulo"
         ],
         "xaxis": "x",
         "y": [
          2,
          1,
          2,
          1,
          1,
          3
         ],
         "yaxis": "y"
        },
        {
         "alignmentgroup": "True",
         "cliponaxis": false,
         "hovertemplate": "Tipo de Vaga=DADOS<br>Estados=%{x}<br> =%{y}<extra></extra>",
         "legendgroup": "DADOS",
         "marker": {
          "color": "#00cc96",
          "pattern": {
           "shape": ""
          }
         },
         "name": "DADOS",
         "offsetgroup": "DADOS",
         "orientation": "v",
         "showlegend": true,
         "textangle": 90,
         "textfont": {
          "size": 6
         },
         "textposition": "auto",
         "texttemplate": "%{y:.2s}",
         "type": "bar",
         "x": [
          "Dado Não Disponível",
          "São Paulo"
         ],
         "xaxis": "x",
         "y": [
          4,
          6
         ],
         "yaxis": "y"
        },
        {
         "alignmentgroup": "True",
         "cliponaxis": false,
         "hovertemplate": "Tipo de Vaga=FRTEND<br>Estados=%{x}<br> =%{y}<extra></extra>",
         "legendgroup": "FRTEND",
         "marker": {
          "color": "#ab63fa",
          "pattern": {
           "shape": ""
          }
         },
         "name": "FRTEND",
         "offsetgroup": "FRTEND",
         "orientation": "v",
         "showlegend": true,
         "textangle": 90,
         "textfont": {
          "size": 6
         },
         "textposition": "auto",
         "texttemplate": "%{y:.2s}",
         "type": "bar",
         "x": [
          "Dado Não Disponível",
          "São Paulo"
         ],
         "xaxis": "x",
         "y": [
          9,
          1
         ],
         "yaxis": "y"
        },
        {
         "alignmentgroup": "True",
         "cliponaxis": false,
         "hovertemplate": "Tipo de Vaga=UX/UI<br>Estados=%{x}<br> =%{y}<extra></extra>",
         "legendgroup": "UX/UI",
         "marker": {
          "color": "#FFA15A",
          "pattern": {
           "shape": ""
          }
         },
         "name": "UX/UI",
         "offsetgroup": "UX/UI",
         "orientation": "v",
         "showlegend": true,
         "textangle": 90,
         "textfont": {
          "size": 6
         },
         "textposition": "auto",
         "texttemplate": "%{y:.2s}",
         "type": "bar",
         "x": [
          "Dado Não Disponível",
          "Espírito Santo",
          "Rio Grande do Sul",
          "São Paulo"
         ],
         "xaxis": "x",
         "y": [
          6,
          1,
          1,
          2
         ],
         "yaxis": "y"
        }
       ],
       "layout": {
        "barmode": "group",
        "legend": {
         "title": {
          "text": "Tipo de Vaga"
         },
         "tracegroupgap": 0
        },
        "margin": {
         "t": 60
        },
        "template": {
         "data": {
          "bar": [
           {
            "error_x": {
             "color": "#2a3f5f"
            },
            "error_y": {
             "color": "#2a3f5f"
            },
            "marker": {
             "line": {
              "color": "#E5ECF6",
              "width": 0.5
             },
             "pattern": {
              "fillmode": "overlay",
              "size": 10,
              "solidity": 0.2
             }
            },
            "type": "bar"
           }
          ],
          "barpolar": [
           {
            "marker": {
             "line": {
              "color": "#E5ECF6",
              "width": 0.5
             },
             "pattern": {
              "fillmode": "overlay",
              "size": 10,
              "solidity": 0.2
             }
            },
            "type": "barpolar"
           }
          ],
          "carpet": [
           {
            "aaxis": {
             "endlinecolor": "#2a3f5f",
             "gridcolor": "white",
             "linecolor": "white",
             "minorgridcolor": "white",
             "startlinecolor": "#2a3f5f"
            },
            "baxis": {
             "endlinecolor": "#2a3f5f",
             "gridcolor": "white",
             "linecolor": "white",
             "minorgridcolor": "white",
             "startlinecolor": "#2a3f5f"
            },
            "type": "carpet"
           }
          ],
          "choropleth": [
           {
            "colorbar": {
             "outlinewidth": 0,
             "ticks": ""
            },
            "type": "choropleth"
           }
          ],
          "contour": [
           {
            "colorbar": {
             "outlinewidth": 0,
             "ticks": ""
            },
            "colorscale": [
             [
              0,
              "#0d0887"
             ],
             [
              0.1111111111111111,
              "#46039f"
             ],
             [
              0.2222222222222222,
              "#7201a8"
             ],
             [
              0.3333333333333333,
              "#9c179e"
             ],
             [
              0.4444444444444444,
              "#bd3786"
             ],
             [
              0.5555555555555556,
              "#d8576b"
             ],
             [
              0.6666666666666666,
              "#ed7953"
             ],
             [
              0.7777777777777778,
              "#fb9f3a"
             ],
             [
              0.8888888888888888,
              "#fdca26"
             ],
             [
              1,
              "#f0f921"
             ]
            ],
            "type": "contour"
           }
          ],
          "contourcarpet": [
           {
            "colorbar": {
             "outlinewidth": 0,
             "ticks": ""
            },
            "type": "contourcarpet"
           }
          ],
          "heatmap": [
           {
            "colorbar": {
             "outlinewidth": 0,
             "ticks": ""
            },
            "colorscale": [
             [
              0,
              "#0d0887"
             ],
             [
              0.1111111111111111,
              "#46039f"
             ],
             [
              0.2222222222222222,
              "#7201a8"
             ],
             [
              0.3333333333333333,
              "#9c179e"
             ],
             [
              0.4444444444444444,
              "#bd3786"
             ],
             [
              0.5555555555555556,
              "#d8576b"
             ],
             [
              0.6666666666666666,
              "#ed7953"
             ],
             [
              0.7777777777777778,
              "#fb9f3a"
             ],
             [
              0.8888888888888888,
              "#fdca26"
             ],
             [
              1,
              "#f0f921"
             ]
            ],
            "type": "heatmap"
           }
          ],
          "heatmapgl": [
           {
            "colorbar": {
             "outlinewidth": 0,
             "ticks": ""
            },
            "colorscale": [
             [
              0,
              "#0d0887"
             ],
             [
              0.1111111111111111,
              "#46039f"
             ],
             [
              0.2222222222222222,
              "#7201a8"
             ],
             [
              0.3333333333333333,
              "#9c179e"
             ],
             [
              0.4444444444444444,
              "#bd3786"
             ],
             [
              0.5555555555555556,
              "#d8576b"
             ],
             [
              0.6666666666666666,
              "#ed7953"
             ],
             [
              0.7777777777777778,
              "#fb9f3a"
             ],
             [
              0.8888888888888888,
              "#fdca26"
             ],
             [
              1,
              "#f0f921"
             ]
            ],
            "type": "heatmapgl"
           }
          ],
          "histogram": [
           {
            "marker": {
             "pattern": {
              "fillmode": "overlay",
              "size": 10,
              "solidity": 0.2
             }
            },
            "type": "histogram"
           }
          ],
          "histogram2d": [
           {
            "colorbar": {
             "outlinewidth": 0,
             "ticks": ""
            },
            "colorscale": [
             [
              0,
              "#0d0887"
             ],
             [
              0.1111111111111111,
              "#46039f"
             ],
             [
              0.2222222222222222,
              "#7201a8"
             ],
             [
              0.3333333333333333,
              "#9c179e"
             ],
             [
              0.4444444444444444,
              "#bd3786"
             ],
             [
              0.5555555555555556,
              "#d8576b"
             ],
             [
              0.6666666666666666,
              "#ed7953"
             ],
             [
              0.7777777777777778,
              "#fb9f3a"
             ],
             [
              0.8888888888888888,
              "#fdca26"
             ],
             [
              1,
              "#f0f921"
             ]
            ],
            "type": "histogram2d"
           }
          ],
          "histogram2dcontour": [
           {
            "colorbar": {
             "outlinewidth": 0,
             "ticks": ""
            },
            "colorscale": [
             [
              0,
              "#0d0887"
             ],
             [
              0.1111111111111111,
              "#46039f"
             ],
             [
              0.2222222222222222,
              "#7201a8"
             ],
             [
              0.3333333333333333,
              "#9c179e"
             ],
             [
              0.4444444444444444,
              "#bd3786"
             ],
             [
              0.5555555555555556,
              "#d8576b"
             ],
             [
              0.6666666666666666,
              "#ed7953"
             ],
             [
              0.7777777777777778,
              "#fb9f3a"
             ],
             [
              0.8888888888888888,
              "#fdca26"
             ],
             [
              1,
              "#f0f921"
             ]
            ],
            "type": "histogram2dcontour"
           }
          ],
          "mesh3d": [
           {
            "colorbar": {
             "outlinewidth": 0,
             "ticks": ""
            },
            "type": "mesh3d"
           }
          ],
          "parcoords": [
           {
            "line": {
             "colorbar": {
              "outlinewidth": 0,
              "ticks": ""
             }
            },
            "type": "parcoords"
           }
          ],
          "pie": [
           {
            "automargin": true,
            "type": "pie"
           }
          ],
          "scatter": [
           {
            "fillpattern": {
             "fillmode": "overlay",
             "size": 10,
             "solidity": 0.2
            },
            "type": "scatter"
           }
          ],
          "scatter3d": [
           {
            "line": {
             "colorbar": {
              "outlinewidth": 0,
              "ticks": ""
             }
            },
            "marker": {
             "colorbar": {
              "outlinewidth": 0,
              "ticks": ""
             }
            },
            "type": "scatter3d"
           }
          ],
          "scattercarpet": [
           {
            "marker": {
             "colorbar": {
              "outlinewidth": 0,
              "ticks": ""
             }
            },
            "type": "scattercarpet"
           }
          ],
          "scattergeo": [
           {
            "marker": {
             "colorbar": {
              "outlinewidth": 0,
              "ticks": ""
             }
            },
            "type": "scattergeo"
           }
          ],
          "scattergl": [
           {
            "marker": {
             "colorbar": {
              "outlinewidth": 0,
              "ticks": ""
             }
            },
            "type": "scattergl"
           }
          ],
          "scattermapbox": [
           {
            "marker": {
             "colorbar": {
              "outlinewidth": 0,
              "ticks": ""
             }
            },
            "type": "scattermapbox"
           }
          ],
          "scatterpolar": [
           {
            "marker": {
             "colorbar": {
              "outlinewidth": 0,
              "ticks": ""
             }
            },
            "type": "scatterpolar"
           }
          ],
          "scatterpolargl": [
           {
            "marker": {
             "colorbar": {
              "outlinewidth": 0,
              "ticks": ""
             }
            },
            "type": "scatterpolargl"
           }
          ],
          "scatterternary": [
           {
            "marker": {
             "colorbar": {
              "outlinewidth": 0,
              "ticks": ""
             }
            },
            "type": "scatterternary"
           }
          ],
          "surface": [
           {
            "colorbar": {
             "outlinewidth": 0,
             "ticks": ""
            },
            "colorscale": [
             [
              0,
              "#0d0887"
             ],
             [
              0.1111111111111111,
              "#46039f"
             ],
             [
              0.2222222222222222,
              "#7201a8"
             ],
             [
              0.3333333333333333,
              "#9c179e"
             ],
             [
              0.4444444444444444,
              "#bd3786"
             ],
             [
              0.5555555555555556,
              "#d8576b"
             ],
             [
              0.6666666666666666,
              "#ed7953"
             ],
             [
              0.7777777777777778,
              "#fb9f3a"
             ],
             [
              0.8888888888888888,
              "#fdca26"
             ],
             [
              1,
              "#f0f921"
             ]
            ],
            "type": "surface"
           }
          ],
          "table": [
           {
            "cells": {
             "fill": {
              "color": "#EBF0F8"
             },
             "line": {
              "color": "white"
             }
            },
            "header": {
             "fill": {
              "color": "#C8D4E3"
             },
             "line": {
              "color": "white"
             }
            },
            "type": "table"
           }
          ]
         },
         "layout": {
          "annotationdefaults": {
           "arrowcolor": "#2a3f5f",
           "arrowhead": 0,
           "arrowwidth": 1
          },
          "autotypenumbers": "strict",
          "coloraxis": {
           "colorbar": {
            "outlinewidth": 0,
            "ticks": ""
           }
          },
          "colorscale": {
           "diverging": [
            [
             0,
             "#8e0152"
            ],
            [
             0.1,
             "#c51b7d"
            ],
            [
             0.2,
             "#de77ae"
            ],
            [
             0.3,
             "#f1b6da"
            ],
            [
             0.4,
             "#fde0ef"
            ],
            [
             0.5,
             "#f7f7f7"
            ],
            [
             0.6,
             "#e6f5d0"
            ],
            [
             0.7,
             "#b8e186"
            ],
            [
             0.8,
             "#7fbc41"
            ],
            [
             0.9,
             "#4d9221"
            ],
            [
             1,
             "#276419"
            ]
           ],
           "sequential": [
            [
             0,
             "#0d0887"
            ],
            [
             0.1111111111111111,
             "#46039f"
            ],
            [
             0.2222222222222222,
             "#7201a8"
            ],
            [
             0.3333333333333333,
             "#9c179e"
            ],
            [
             0.4444444444444444,
             "#bd3786"
            ],
            [
             0.5555555555555556,
             "#d8576b"
            ],
            [
             0.6666666666666666,
             "#ed7953"
            ],
            [
             0.7777777777777778,
             "#fb9f3a"
            ],
            [
             0.8888888888888888,
             "#fdca26"
            ],
            [
             1,
             "#f0f921"
            ]
           ],
           "sequentialminus": [
            [
             0,
             "#0d0887"
            ],
            [
             0.1111111111111111,
             "#46039f"
            ],
            [
             0.2222222222222222,
             "#7201a8"
            ],
            [
             0.3333333333333333,
             "#9c179e"
            ],
            [
             0.4444444444444444,
             "#bd3786"
            ],
            [
             0.5555555555555556,
             "#d8576b"
            ],
            [
             0.6666666666666666,
             "#ed7953"
            ],
            [
             0.7777777777777778,
             "#fb9f3a"
            ],
            [
             0.8888888888888888,
             "#fdca26"
            ],
            [
             1,
             "#f0f921"
            ]
           ]
          },
          "colorway": [
           "#636efa",
           "#EF553B",
           "#00cc96",
           "#ab63fa",
           "#FFA15A",
           "#19d3f3",
           "#FF6692",
           "#B6E880",
           "#FF97FF",
           "#FECB52"
          ],
          "font": {
           "color": "#2a3f5f"
          },
          "geo": {
           "bgcolor": "white",
           "lakecolor": "white",
           "landcolor": "#E5ECF6",
           "showlakes": true,
           "showland": true,
           "subunitcolor": "white"
          },
          "hoverlabel": {
           "align": "left"
          },
          "hovermode": "closest",
          "mapbox": {
           "style": "light"
          },
          "paper_bgcolor": "white",
          "plot_bgcolor": "#E5ECF6",
          "polar": {
           "angularaxis": {
            "gridcolor": "white",
            "linecolor": "white",
            "ticks": ""
           },
           "bgcolor": "#E5ECF6",
           "radialaxis": {
            "gridcolor": "white",
            "linecolor": "white",
            "ticks": ""
           }
          },
          "scene": {
           "xaxis": {
            "backgroundcolor": "#E5ECF6",
            "gridcolor": "white",
            "gridwidth": 2,
            "linecolor": "white",
            "showbackground": true,
            "ticks": "",
            "zerolinecolor": "white"
           },
           "yaxis": {
            "backgroundcolor": "#E5ECF6",
            "gridcolor": "white",
            "gridwidth": 2,
            "linecolor": "white",
            "showbackground": true,
            "ticks": "",
            "zerolinecolor": "white"
           },
           "zaxis": {
            "backgroundcolor": "#E5ECF6",
            "gridcolor": "white",
            "gridwidth": 2,
            "linecolor": "white",
            "showbackground": true,
            "ticks": "",
            "zerolinecolor": "white"
           }
          },
          "shapedefaults": {
           "line": {
            "color": "#2a3f5f"
           }
          },
          "ternary": {
           "aaxis": {
            "gridcolor": "white",
            "linecolor": "white",
            "ticks": ""
           },
           "baxis": {
            "gridcolor": "white",
            "linecolor": "white",
            "ticks": ""
           },
           "bgcolor": "#E5ECF6",
           "caxis": {
            "gridcolor": "white",
            "linecolor": "white",
            "ticks": ""
           }
          },
          "title": {
           "x": 0.05
          },
          "xaxis": {
           "automargin": true,
           "gridcolor": "white",
           "linecolor": "white",
           "ticks": "",
           "title": {
            "standoff": 15
           },
           "zerolinecolor": "white",
           "zerolinewidth": 2
          },
          "yaxis": {
           "automargin": true,
           "gridcolor": "white",
           "linecolor": "white",
           "ticks": "",
           "title": {
            "standoff": 15
           },
           "zerolinecolor": "white",
           "zerolinewidth": 2
          }
         }
        },
        "xaxis": {
         "anchor": "y",
         "domain": [
          0,
          1
         ],
         "title": {
          "text": "Estados"
         }
        },
        "yaxis": {
         "anchor": "x",
         "domain": [
          0,
          1
         ],
         "title": {
          "text": " "
         }
        }
       }
      },
      "text/html": [
       "<div>                        <script type=\"text/javascript\">window.PlotlyConfig = {MathJaxConfig: 'local'};</script>\n",
       "        <script charset=\"utf-8\" src=\"https://cdn.plot.ly/plotly-2.35.2.min.js\"></script>                <div id=\"a1e78c5d-0d9a-402b-85a7-5d31ad564764\" class=\"plotly-graph-div\" style=\"height:100%; width:100%;\"></div>            <script type=\"text/javascript\">                                    window.PLOTLYENV=window.PLOTLYENV || {};                                    if (document.getElementById(\"a1e78c5d-0d9a-402b-85a7-5d31ad564764\")) {                    Plotly.newPlot(                        \"a1e78c5d-0d9a-402b-85a7-5d31ad564764\",                        [{\"alignmentgroup\":\"True\",\"hovertemplate\":\"Tipo de Vaga=ADM\\u003cbr\\u003eEstados=%{x}\\u003cbr\\u003e =%{y}\\u003cextra\\u003e\\u003c\\u002fextra\\u003e\",\"legendgroup\":\"ADM\",\"marker\":{\"color\":\"#636efa\",\"pattern\":{\"shape\":\"\"}},\"name\":\"ADM\",\"offsetgroup\":\"ADM\",\"orientation\":\"v\",\"showlegend\":true,\"textposition\":\"auto\",\"texttemplate\":\"%{y:.2s}\",\"x\":[\"Alagoas\",\"Cear\\u00e1\",\"Distrito Federal\",\"Minas Gerais\",\"Pernambuco\",\"S\\u00e3o Paulo\"],\"xaxis\":\"x\",\"y\":[1,1,1,1,1,5],\"yaxis\":\"y\",\"type\":\"bar\",\"textfont\":{\"size\":6},\"cliponaxis\":false,\"textangle\":90},{\"alignmentgroup\":\"True\",\"hovertemplate\":\"Tipo de Vaga=RH\\u003cbr\\u003eEstados=%{x}\\u003cbr\\u003e =%{y}\\u003cextra\\u003e\\u003c\\u002fextra\\u003e\",\"legendgroup\":\"RH\",\"marker\":{\"color\":\"#EF553B\",\"pattern\":{\"shape\":\"\"}},\"name\":\"RH\",\"offsetgroup\":\"RH\",\"orientation\":\"v\",\"showlegend\":true,\"textposition\":\"auto\",\"texttemplate\":\"%{y:.2s}\",\"x\":[\"Bahia\",\"Maranh\\u00e3o\",\"Minas Gerais\",\"Paran\\u00e1\",\"Santa Catarina\",\"S\\u00e3o Paulo\"],\"xaxis\":\"x\",\"y\":[2,1,2,1,1,3],\"yaxis\":\"y\",\"type\":\"bar\",\"textfont\":{\"size\":6},\"cliponaxis\":false,\"textangle\":90},{\"alignmentgroup\":\"True\",\"hovertemplate\":\"Tipo de Vaga=DADOS\\u003cbr\\u003eEstados=%{x}\\u003cbr\\u003e =%{y}\\u003cextra\\u003e\\u003c\\u002fextra\\u003e\",\"legendgroup\":\"DADOS\",\"marker\":{\"color\":\"#00cc96\",\"pattern\":{\"shape\":\"\"}},\"name\":\"DADOS\",\"offsetgroup\":\"DADOS\",\"orientation\":\"v\",\"showlegend\":true,\"textposition\":\"auto\",\"texttemplate\":\"%{y:.2s}\",\"x\":[\"Dado N\\u00e3o Dispon\\u00edvel\",\"S\\u00e3o Paulo\"],\"xaxis\":\"x\",\"y\":[4,6],\"yaxis\":\"y\",\"type\":\"bar\",\"textfont\":{\"size\":6},\"cliponaxis\":false,\"textangle\":90},{\"alignmentgroup\":\"True\",\"hovertemplate\":\"Tipo de Vaga=FRTEND\\u003cbr\\u003eEstados=%{x}\\u003cbr\\u003e =%{y}\\u003cextra\\u003e\\u003c\\u002fextra\\u003e\",\"legendgroup\":\"FRTEND\",\"marker\":{\"color\":\"#ab63fa\",\"pattern\":{\"shape\":\"\"}},\"name\":\"FRTEND\",\"offsetgroup\":\"FRTEND\",\"orientation\":\"v\",\"showlegend\":true,\"textposition\":\"auto\",\"texttemplate\":\"%{y:.2s}\",\"x\":[\"Dado N\\u00e3o Dispon\\u00edvel\",\"S\\u00e3o Paulo\"],\"xaxis\":\"x\",\"y\":[9,1],\"yaxis\":\"y\",\"type\":\"bar\",\"textfont\":{\"size\":6},\"cliponaxis\":false,\"textangle\":90},{\"alignmentgroup\":\"True\",\"hovertemplate\":\"Tipo de Vaga=UX\\u002fUI\\u003cbr\\u003eEstados=%{x}\\u003cbr\\u003e =%{y}\\u003cextra\\u003e\\u003c\\u002fextra\\u003e\",\"legendgroup\":\"UX\\u002fUI\",\"marker\":{\"color\":\"#FFA15A\",\"pattern\":{\"shape\":\"\"}},\"name\":\"UX\\u002fUI\",\"offsetgroup\":\"UX\\u002fUI\",\"orientation\":\"v\",\"showlegend\":true,\"textposition\":\"auto\",\"texttemplate\":\"%{y:.2s}\",\"x\":[\"Dado N\\u00e3o Dispon\\u00edvel\",\"Esp\\u00edrito Santo\",\"Rio Grande do Sul\",\"S\\u00e3o Paulo\"],\"xaxis\":\"x\",\"y\":[6,1,1,2],\"yaxis\":\"y\",\"type\":\"bar\",\"textfont\":{\"size\":6},\"cliponaxis\":false,\"textangle\":90}],                        {\"template\":{\"data\":{\"histogram2dcontour\":[{\"type\":\"histogram2dcontour\",\"colorbar\":{\"outlinewidth\":0,\"ticks\":\"\"},\"colorscale\":[[0.0,\"#0d0887\"],[0.1111111111111111,\"#46039f\"],[0.2222222222222222,\"#7201a8\"],[0.3333333333333333,\"#9c179e\"],[0.4444444444444444,\"#bd3786\"],[0.5555555555555556,\"#d8576b\"],[0.6666666666666666,\"#ed7953\"],[0.7777777777777778,\"#fb9f3a\"],[0.8888888888888888,\"#fdca26\"],[1.0,\"#f0f921\"]]}],\"choropleth\":[{\"type\":\"choropleth\",\"colorbar\":{\"outlinewidth\":0,\"ticks\":\"\"}}],\"histogram2d\":[{\"type\":\"histogram2d\",\"colorbar\":{\"outlinewidth\":0,\"ticks\":\"\"},\"colorscale\":[[0.0,\"#0d0887\"],[0.1111111111111111,\"#46039f\"],[0.2222222222222222,\"#7201a8\"],[0.3333333333333333,\"#9c179e\"],[0.4444444444444444,\"#bd3786\"],[0.5555555555555556,\"#d8576b\"],[0.6666666666666666,\"#ed7953\"],[0.7777777777777778,\"#fb9f3a\"],[0.8888888888888888,\"#fdca26\"],[1.0,\"#f0f921\"]]}],\"heatmap\":[{\"type\":\"heatmap\",\"colorbar\":{\"outlinewidth\":0,\"ticks\":\"\"},\"colorscale\":[[0.0,\"#0d0887\"],[0.1111111111111111,\"#46039f\"],[0.2222222222222222,\"#7201a8\"],[0.3333333333333333,\"#9c179e\"],[0.4444444444444444,\"#bd3786\"],[0.5555555555555556,\"#d8576b\"],[0.6666666666666666,\"#ed7953\"],[0.7777777777777778,\"#fb9f3a\"],[0.8888888888888888,\"#fdca26\"],[1.0,\"#f0f921\"]]}],\"heatmapgl\":[{\"type\":\"heatmapgl\",\"colorbar\":{\"outlinewidth\":0,\"ticks\":\"\"},\"colorscale\":[[0.0,\"#0d0887\"],[0.1111111111111111,\"#46039f\"],[0.2222222222222222,\"#7201a8\"],[0.3333333333333333,\"#9c179e\"],[0.4444444444444444,\"#bd3786\"],[0.5555555555555556,\"#d8576b\"],[0.6666666666666666,\"#ed7953\"],[0.7777777777777778,\"#fb9f3a\"],[0.8888888888888888,\"#fdca26\"],[1.0,\"#f0f921\"]]}],\"contourcarpet\":[{\"type\":\"contourcarpet\",\"colorbar\":{\"outlinewidth\":0,\"ticks\":\"\"}}],\"contour\":[{\"type\":\"contour\",\"colorbar\":{\"outlinewidth\":0,\"ticks\":\"\"},\"colorscale\":[[0.0,\"#0d0887\"],[0.1111111111111111,\"#46039f\"],[0.2222222222222222,\"#7201a8\"],[0.3333333333333333,\"#9c179e\"],[0.4444444444444444,\"#bd3786\"],[0.5555555555555556,\"#d8576b\"],[0.6666666666666666,\"#ed7953\"],[0.7777777777777778,\"#fb9f3a\"],[0.8888888888888888,\"#fdca26\"],[1.0,\"#f0f921\"]]}],\"surface\":[{\"type\":\"surface\",\"colorbar\":{\"outlinewidth\":0,\"ticks\":\"\"},\"colorscale\":[[0.0,\"#0d0887\"],[0.1111111111111111,\"#46039f\"],[0.2222222222222222,\"#7201a8\"],[0.3333333333333333,\"#9c179e\"],[0.4444444444444444,\"#bd3786\"],[0.5555555555555556,\"#d8576b\"],[0.6666666666666666,\"#ed7953\"],[0.7777777777777778,\"#fb9f3a\"],[0.8888888888888888,\"#fdca26\"],[1.0,\"#f0f921\"]]}],\"mesh3d\":[{\"type\":\"mesh3d\",\"colorbar\":{\"outlinewidth\":0,\"ticks\":\"\"}}],\"scatter\":[{\"fillpattern\":{\"fillmode\":\"overlay\",\"size\":10,\"solidity\":0.2},\"type\":\"scatter\"}],\"parcoords\":[{\"type\":\"parcoords\",\"line\":{\"colorbar\":{\"outlinewidth\":0,\"ticks\":\"\"}}}],\"scatterpolargl\":[{\"type\":\"scatterpolargl\",\"marker\":{\"colorbar\":{\"outlinewidth\":0,\"ticks\":\"\"}}}],\"bar\":[{\"error_x\":{\"color\":\"#2a3f5f\"},\"error_y\":{\"color\":\"#2a3f5f\"},\"marker\":{\"line\":{\"color\":\"#E5ECF6\",\"width\":0.5},\"pattern\":{\"fillmode\":\"overlay\",\"size\":10,\"solidity\":0.2}},\"type\":\"bar\"}],\"scattergeo\":[{\"type\":\"scattergeo\",\"marker\":{\"colorbar\":{\"outlinewidth\":0,\"ticks\":\"\"}}}],\"scatterpolar\":[{\"type\":\"scatterpolar\",\"marker\":{\"colorbar\":{\"outlinewidth\":0,\"ticks\":\"\"}}}],\"histogram\":[{\"marker\":{\"pattern\":{\"fillmode\":\"overlay\",\"size\":10,\"solidity\":0.2}},\"type\":\"histogram\"}],\"scattergl\":[{\"type\":\"scattergl\",\"marker\":{\"colorbar\":{\"outlinewidth\":0,\"ticks\":\"\"}}}],\"scatter3d\":[{\"type\":\"scatter3d\",\"line\":{\"colorbar\":{\"outlinewidth\":0,\"ticks\":\"\"}},\"marker\":{\"colorbar\":{\"outlinewidth\":0,\"ticks\":\"\"}}}],\"scattermapbox\":[{\"type\":\"scattermapbox\",\"marker\":{\"colorbar\":{\"outlinewidth\":0,\"ticks\":\"\"}}}],\"scatterternary\":[{\"type\":\"scatterternary\",\"marker\":{\"colorbar\":{\"outlinewidth\":0,\"ticks\":\"\"}}}],\"scattercarpet\":[{\"type\":\"scattercarpet\",\"marker\":{\"colorbar\":{\"outlinewidth\":0,\"ticks\":\"\"}}}],\"carpet\":[{\"aaxis\":{\"endlinecolor\":\"#2a3f5f\",\"gridcolor\":\"white\",\"linecolor\":\"white\",\"minorgridcolor\":\"white\",\"startlinecolor\":\"#2a3f5f\"},\"baxis\":{\"endlinecolor\":\"#2a3f5f\",\"gridcolor\":\"white\",\"linecolor\":\"white\",\"minorgridcolor\":\"white\",\"startlinecolor\":\"#2a3f5f\"},\"type\":\"carpet\"}],\"table\":[{\"cells\":{\"fill\":{\"color\":\"#EBF0F8\"},\"line\":{\"color\":\"white\"}},\"header\":{\"fill\":{\"color\":\"#C8D4E3\"},\"line\":{\"color\":\"white\"}},\"type\":\"table\"}],\"barpolar\":[{\"marker\":{\"line\":{\"color\":\"#E5ECF6\",\"width\":0.5},\"pattern\":{\"fillmode\":\"overlay\",\"size\":10,\"solidity\":0.2}},\"type\":\"barpolar\"}],\"pie\":[{\"automargin\":true,\"type\":\"pie\"}]},\"layout\":{\"autotypenumbers\":\"strict\",\"colorway\":[\"#636efa\",\"#EF553B\",\"#00cc96\",\"#ab63fa\",\"#FFA15A\",\"#19d3f3\",\"#FF6692\",\"#B6E880\",\"#FF97FF\",\"#FECB52\"],\"font\":{\"color\":\"#2a3f5f\"},\"hovermode\":\"closest\",\"hoverlabel\":{\"align\":\"left\"},\"paper_bgcolor\":\"white\",\"plot_bgcolor\":\"#E5ECF6\",\"polar\":{\"bgcolor\":\"#E5ECF6\",\"angularaxis\":{\"gridcolor\":\"white\",\"linecolor\":\"white\",\"ticks\":\"\"},\"radialaxis\":{\"gridcolor\":\"white\",\"linecolor\":\"white\",\"ticks\":\"\"}},\"ternary\":{\"bgcolor\":\"#E5ECF6\",\"aaxis\":{\"gridcolor\":\"white\",\"linecolor\":\"white\",\"ticks\":\"\"},\"baxis\":{\"gridcolor\":\"white\",\"linecolor\":\"white\",\"ticks\":\"\"},\"caxis\":{\"gridcolor\":\"white\",\"linecolor\":\"white\",\"ticks\":\"\"}},\"coloraxis\":{\"colorbar\":{\"outlinewidth\":0,\"ticks\":\"\"}},\"colorscale\":{\"sequential\":[[0.0,\"#0d0887\"],[0.1111111111111111,\"#46039f\"],[0.2222222222222222,\"#7201a8\"],[0.3333333333333333,\"#9c179e\"],[0.4444444444444444,\"#bd3786\"],[0.5555555555555556,\"#d8576b\"],[0.6666666666666666,\"#ed7953\"],[0.7777777777777778,\"#fb9f3a\"],[0.8888888888888888,\"#fdca26\"],[1.0,\"#f0f921\"]],\"sequentialminus\":[[0.0,\"#0d0887\"],[0.1111111111111111,\"#46039f\"],[0.2222222222222222,\"#7201a8\"],[0.3333333333333333,\"#9c179e\"],[0.4444444444444444,\"#bd3786\"],[0.5555555555555556,\"#d8576b\"],[0.6666666666666666,\"#ed7953\"],[0.7777777777777778,\"#fb9f3a\"],[0.8888888888888888,\"#fdca26\"],[1.0,\"#f0f921\"]],\"diverging\":[[0,\"#8e0152\"],[0.1,\"#c51b7d\"],[0.2,\"#de77ae\"],[0.3,\"#f1b6da\"],[0.4,\"#fde0ef\"],[0.5,\"#f7f7f7\"],[0.6,\"#e6f5d0\"],[0.7,\"#b8e186\"],[0.8,\"#7fbc41\"],[0.9,\"#4d9221\"],[1,\"#276419\"]]},\"xaxis\":{\"gridcolor\":\"white\",\"linecolor\":\"white\",\"ticks\":\"\",\"title\":{\"standoff\":15},\"zerolinecolor\":\"white\",\"automargin\":true,\"zerolinewidth\":2},\"yaxis\":{\"gridcolor\":\"white\",\"linecolor\":\"white\",\"ticks\":\"\",\"title\":{\"standoff\":15},\"zerolinecolor\":\"white\",\"automargin\":true,\"zerolinewidth\":2},\"scene\":{\"xaxis\":{\"backgroundcolor\":\"#E5ECF6\",\"gridcolor\":\"white\",\"linecolor\":\"white\",\"showbackground\":true,\"ticks\":\"\",\"zerolinecolor\":\"white\",\"gridwidth\":2},\"yaxis\":{\"backgroundcolor\":\"#E5ECF6\",\"gridcolor\":\"white\",\"linecolor\":\"white\",\"showbackground\":true,\"ticks\":\"\",\"zerolinecolor\":\"white\",\"gridwidth\":2},\"zaxis\":{\"backgroundcolor\":\"#E5ECF6\",\"gridcolor\":\"white\",\"linecolor\":\"white\",\"showbackground\":true,\"ticks\":\"\",\"zerolinecolor\":\"white\",\"gridwidth\":2}},\"shapedefaults\":{\"line\":{\"color\":\"#2a3f5f\"}},\"annotationdefaults\":{\"arrowcolor\":\"#2a3f5f\",\"arrowhead\":0,\"arrowwidth\":1},\"geo\":{\"bgcolor\":\"white\",\"landcolor\":\"#E5ECF6\",\"subunitcolor\":\"white\",\"showland\":true,\"showlakes\":true,\"lakecolor\":\"white\"},\"title\":{\"x\":0.05},\"mapbox\":{\"style\":\"light\"}}},\"xaxis\":{\"anchor\":\"y\",\"domain\":[0.0,1.0],\"title\":{\"text\":\"Estados\"}},\"yaxis\":{\"anchor\":\"x\",\"domain\":[0.0,1.0],\"title\":{\"text\":\" \"}},\"legend\":{\"title\":{\"text\":\"Tipo de Vaga\"},\"tracegroupgap\":0},\"margin\":{\"t\":60},\"barmode\":\"group\"},                        {\"responsive\": true}                    )                };                            </script>        </div>"
      ],
      "text/plain": [
       "Figure({\n",
       "    'data': [{'alignmentgroup': 'True',\n",
       "              'cliponaxis': False,\n",
       "              'hovertemplate': 'Tipo de Vaga=ADM<br>Estados=%{x}<br> =%{y}<extra></extra>',\n",
       "              'legendgroup': 'ADM',\n",
       "              'marker': {'color': '#636efa', 'pattern': {'shape': ''}},\n",
       "              'name': 'ADM',\n",
       "              'offsetgroup': 'ADM',\n",
       "              'orientation': 'v',\n",
       "              'showlegend': True,\n",
       "              'textangle': 90,\n",
       "              'textfont': {'size': 6},\n",
       "              'textposition': 'auto',\n",
       "              'texttemplate': '%{y:.2s}',\n",
       "              'type': 'bar',\n",
       "              'x': array(['Alagoas', 'Ceará', 'Distrito Federal', 'Minas Gerais', 'Pernambuco',\n",
       "                          'São Paulo'], dtype=object),\n",
       "              'xaxis': 'x',\n",
       "              'y': array([1, 1, 1, 1, 1, 5]),\n",
       "              'yaxis': 'y'},\n",
       "             {'alignmentgroup': 'True',\n",
       "              'cliponaxis': False,\n",
       "              'hovertemplate': 'Tipo de Vaga=RH<br>Estados=%{x}<br> =%{y}<extra></extra>',\n",
       "              'legendgroup': 'RH',\n",
       "              'marker': {'color': '#EF553B', 'pattern': {'shape': ''}},\n",
       "              'name': 'RH',\n",
       "              'offsetgroup': 'RH',\n",
       "              'orientation': 'v',\n",
       "              'showlegend': True,\n",
       "              'textangle': 90,\n",
       "              'textfont': {'size': 6},\n",
       "              'textposition': 'auto',\n",
       "              'texttemplate': '%{y:.2s}',\n",
       "              'type': 'bar',\n",
       "              'x': array(['Bahia', 'Maranhão', 'Minas Gerais', 'Paraná', 'Santa Catarina',\n",
       "                          'São Paulo'], dtype=object),\n",
       "              'xaxis': 'x',\n",
       "              'y': array([2, 1, 2, 1, 1, 3]),\n",
       "              'yaxis': 'y'},\n",
       "             {'alignmentgroup': 'True',\n",
       "              'cliponaxis': False,\n",
       "              'hovertemplate': 'Tipo de Vaga=DADOS<br>Estados=%{x}<br> =%{y}<extra></extra>',\n",
       "              'legendgroup': 'DADOS',\n",
       "              'marker': {'color': '#00cc96', 'pattern': {'shape': ''}},\n",
       "              'name': 'DADOS',\n",
       "              'offsetgroup': 'DADOS',\n",
       "              'orientation': 'v',\n",
       "              'showlegend': True,\n",
       "              'textangle': 90,\n",
       "              'textfont': {'size': 6},\n",
       "              'textposition': 'auto',\n",
       "              'texttemplate': '%{y:.2s}',\n",
       "              'type': 'bar',\n",
       "              'x': array(['Dado Não Disponível', 'São Paulo'], dtype=object),\n",
       "              'xaxis': 'x',\n",
       "              'y': array([4, 6]),\n",
       "              'yaxis': 'y'},\n",
       "             {'alignmentgroup': 'True',\n",
       "              'cliponaxis': False,\n",
       "              'hovertemplate': 'Tipo de Vaga=FRTEND<br>Estados=%{x}<br> =%{y}<extra></extra>',\n",
       "              'legendgroup': 'FRTEND',\n",
       "              'marker': {'color': '#ab63fa', 'pattern': {'shape': ''}},\n",
       "              'name': 'FRTEND',\n",
       "              'offsetgroup': 'FRTEND',\n",
       "              'orientation': 'v',\n",
       "              'showlegend': True,\n",
       "              'textangle': 90,\n",
       "              'textfont': {'size': 6},\n",
       "              'textposition': 'auto',\n",
       "              'texttemplate': '%{y:.2s}',\n",
       "              'type': 'bar',\n",
       "              'x': array(['Dado Não Disponível', 'São Paulo'], dtype=object),\n",
       "              'xaxis': 'x',\n",
       "              'y': array([9, 1]),\n",
       "              'yaxis': 'y'},\n",
       "             {'alignmentgroup': 'True',\n",
       "              'cliponaxis': False,\n",
       "              'hovertemplate': 'Tipo de Vaga=UX/UI<br>Estados=%{x}<br> =%{y}<extra></extra>',\n",
       "              'legendgroup': 'UX/UI',\n",
       "              'marker': {'color': '#FFA15A', 'pattern': {'shape': ''}},\n",
       "              'name': 'UX/UI',\n",
       "              'offsetgroup': 'UX/UI',\n",
       "              'orientation': 'v',\n",
       "              'showlegend': True,\n",
       "              'textangle': 90,\n",
       "              'textfont': {'size': 6},\n",
       "              'textposition': 'auto',\n",
       "              'texttemplate': '%{y:.2s}',\n",
       "              'type': 'bar',\n",
       "              'x': array(['Dado Não Disponível', 'Espírito Santo', 'Rio Grande do Sul',\n",
       "                          'São Paulo'], dtype=object),\n",
       "              'xaxis': 'x',\n",
       "              'y': array([6, 1, 1, 2]),\n",
       "              'yaxis': 'y'}],\n",
       "    'layout': {'barmode': 'group',\n",
       "               'legend': {'title': {'text': 'Tipo de Vaga'}, 'tracegroupgap': 0},\n",
       "               'margin': {'t': 60},\n",
       "               'template': '...',\n",
       "               'xaxis': {'anchor': 'y', 'domain': [0.0, 1.0], 'title': {'text': 'Estados'}},\n",
       "               'yaxis': {'anchor': 'x', 'domain': [0.0, 1.0], 'title': {'text': ' '}}}\n",
       "})"
      ]
     },
     "execution_count": 127,
     "metadata": {},
     "output_type": "execute_result"
    }
   ],
   "source": [
    "fig = px.bar(df_jobs_per_state,\n",
    "       x = 'state',\n",
    "       y = 'job_quantity',\n",
    "       color = 'job_type',\n",
    "       text_auto='.2s',\n",
    "       labels = {\n",
    "        'state': 'Estados', \n",
    "        'job_quantity': ' ', \n",
    "        'job_type': 'Tipo de Vaga',\n",
    "         },\n",
    "         barmode= 'group'\n",
    "       )\n",
    "\n",
    "fig = fig.update_traces(textfont_size = 6, textangle = 90, cliponaxis = False)\n",
    "\n",
    "fig"
   ]
  },
  {
   "cell_type": "code",
   "execution_count": 128,
   "metadata": {},
   "outputs": [
    {
     "data": {
      "text/html": [
       "<div>\n",
       "<style scoped>\n",
       "    .dataframe tbody tr th:only-of-type {\n",
       "        vertical-align: middle;\n",
       "    }\n",
       "\n",
       "    .dataframe tbody tr th {\n",
       "        vertical-align: top;\n",
       "    }\n",
       "\n",
       "    .dataframe thead th {\n",
       "        text-align: right;\n",
       "    }\n",
       "</style>\n",
       "<table border=\"1\" class=\"dataframe\">\n",
       "  <thead>\n",
       "    <tr style=\"text-align: right;\">\n",
       "      <th></th>\n",
       "      <th>id</th>\n",
       "      <th>companyId</th>\n",
       "      <th>name</th>\n",
       "      <th>description</th>\n",
       "      <th>careerPageId</th>\n",
       "      <th>careerPageName</th>\n",
       "      <th>careerPageLogo</th>\n",
       "      <th>type</th>\n",
       "      <th>publishedDate</th>\n",
       "      <th>applicationDeadline</th>\n",
       "      <th>...</th>\n",
       "      <th>city</th>\n",
       "      <th>state</th>\n",
       "      <th>country</th>\n",
       "      <th>jobUrl</th>\n",
       "      <th>badges</th>\n",
       "      <th>disabilities</th>\n",
       "      <th>workplaceType</th>\n",
       "      <th>careerPageUrl</th>\n",
       "      <th>job_type</th>\n",
       "      <th>experience</th>\n",
       "    </tr>\n",
       "  </thead>\n",
       "  <tbody>\n",
       "    <tr>\n",
       "      <th>0</th>\n",
       "      <td>8299535</td>\n",
       "      <td>316</td>\n",
       "      <td>Cientista de Dados I Exclusiva para Pessoas Ne...</td>\n",
       "      <td>Vice-Presidência: NegóciosDiretoria: Planejame...</td>\n",
       "      <td>246</td>\n",
       "      <td>Vem Pra Vivo</td>\n",
       "      <td>https://attachments.gupy.io/production/compani...</td>\n",
       "      <td>vacancy_type_effective</td>\n",
       "      <td>2024-12-13T21:24:04.518Z</td>\n",
       "      <td>2025-01-20T00:00:00.000Z</td>\n",
       "      <td>...</td>\n",
       "      <td>São Paulo</td>\n",
       "      <td>São Paulo</td>\n",
       "      <td>Brasil</td>\n",
       "      <td>https://vivo.gupy.io/job/eyJqb2JJZCI6ODI5OTUzN...</td>\n",
       "      <td>{'friendlyBadge': True}</td>\n",
       "      <td>True</td>\n",
       "      <td>hybrid</td>\n",
       "      <td>https://vivo.gupy.io/eyJzb3VyY2UiOiJndXB5X3Bvc...</td>\n",
       "      <td>DADOS</td>\n",
       "      <td>DADO NÃO IDENTIFICADO</td>\n",
       "    </tr>\n",
       "    <tr>\n",
       "      <th>1</th>\n",
       "      <td>8250236</td>\n",
       "      <td>7990</td>\n",
       "      <td>Analista de Dados Jr</td>\n",
       "      <td>Descrição da Vaga: Analista de Dados talentoso...</td>\n",
       "      <td>19480</td>\n",
       "      <td>Nutrien Soluções Agrícolas</td>\n",
       "      <td>https://attachments.gupy.io/production/compani...</td>\n",
       "      <td>vacancy_type_effective</td>\n",
       "      <td>2024-12-13T19:17:42.424Z</td>\n",
       "      <td>2025-02-03T00:00:00.000Z</td>\n",
       "      <td>...</td>\n",
       "      <td>São Paulo</td>\n",
       "      <td>São Paulo</td>\n",
       "      <td>Brasil</td>\n",
       "      <td>https://vagasnutrien.gupy.io/job/eyJqb2JJZCI6O...</td>\n",
       "      <td>{'friendlyBadge': True}</td>\n",
       "      <td>True</td>\n",
       "      <td>on-site</td>\n",
       "      <td>https://vagasnutrien.gupy.io/eyJzb3VyY2UiOiJnd...</td>\n",
       "      <td>DADOS</td>\n",
       "      <td>JUNIOR</td>\n",
       "    </tr>\n",
       "    <tr>\n",
       "      <th>2</th>\n",
       "      <td>8298139</td>\n",
       "      <td>415</td>\n",
       "      <td>Estagiário em Análise de Dados - Operações</td>\n",
       "      <td>A credsystem, empresa de soluções financeiras ...</td>\n",
       "      <td>403</td>\n",
       "      <td>credsystem</td>\n",
       "      <td>https://attachments.gupy.io/production/compani...</td>\n",
       "      <td>vacancy_type_internship</td>\n",
       "      <td>2024-12-13T18:34:09.121Z</td>\n",
       "      <td>2025-02-11T00:00:00.000Z</td>\n",
       "      <td>...</td>\n",
       "      <td>Barueri</td>\n",
       "      <td>São Paulo</td>\n",
       "      <td>Brasil</td>\n",
       "      <td>https://credsystem.gupy.io/job/eyJqb2JJZCI6ODI...</td>\n",
       "      <td>{'friendlyBadge': False}</td>\n",
       "      <td>False</td>\n",
       "      <td>hybrid</td>\n",
       "      <td>https://credsystem.gupy.io/eyJzb3VyY2UiOiJndXB...</td>\n",
       "      <td>DADOS</td>\n",
       "      <td>ESTAGIO</td>\n",
       "    </tr>\n",
       "    <tr>\n",
       "      <th>3</th>\n",
       "      <td>8267692</td>\n",
       "      <td>43366</td>\n",
       "      <td>Analista de Dados Sênior</td>\n",
       "      <td>Acreditamos na educação como um pilar fundamen...</td>\n",
       "      <td>96174</td>\n",
       "      <td>ANBIMA</td>\n",
       "      <td>https://attachments.gupy.io/production/compani...</td>\n",
       "      <td>vacancy_type_effective</td>\n",
       "      <td>2024-12-13T18:27:18.288Z</td>\n",
       "      <td>2025-02-02T00:00:00.000Z</td>\n",
       "      <td>...</td>\n",
       "      <td>São Paulo</td>\n",
       "      <td>São Paulo</td>\n",
       "      <td>Brasil</td>\n",
       "      <td>https://anbima.gupy.io/job/eyJqb2JJZCI6ODI2NzY...</td>\n",
       "      <td>{'friendlyBadge': False}</td>\n",
       "      <td>True</td>\n",
       "      <td>hybrid</td>\n",
       "      <td>https://anbima.gupy.io/eyJzb3VyY2UiOiJndXB5X3B...</td>\n",
       "      <td>DADOS</td>\n",
       "      <td>SENIOR</td>\n",
       "    </tr>\n",
       "    <tr>\n",
       "      <th>4</th>\n",
       "      <td>8297795</td>\n",
       "      <td>65674</td>\n",
       "      <td>Analista de Dados</td>\n",
       "      <td>A Guess foi fundada em 1981 Desde então, a GUE...</td>\n",
       "      <td>157750</td>\n",
       "      <td>GUESS Brasil</td>\n",
       "      <td>https://attachments.gupy.io/production/compani...</td>\n",
       "      <td>vacancy_type_effective</td>\n",
       "      <td>2024-12-13T18:21:41.079Z</td>\n",
       "      <td>2025-02-11T00:00:00.000Z</td>\n",
       "      <td>...</td>\n",
       "      <td>São Paulo</td>\n",
       "      <td>São Paulo</td>\n",
       "      <td>Brasil</td>\n",
       "      <td>https://vemserguess.gupy.io/job/eyJqb2JJZCI6OD...</td>\n",
       "      <td>{'friendlyBadge': False}</td>\n",
       "      <td>False</td>\n",
       "      <td>on-site</td>\n",
       "      <td>https://vemserguess.gupy.io/eyJzb3VyY2UiOiJndX...</td>\n",
       "      <td>DADOS</td>\n",
       "      <td>DADO NÃO IDENTIFICADO</td>\n",
       "    </tr>\n",
       "    <tr>\n",
       "      <th>5</th>\n",
       "      <td>8230691</td>\n",
       "      <td>22675</td>\n",
       "      <td>Analista de Banco Dados Pleno</td>\n",
       "      <td>A Darede tem o objetivo de continuar revolucio...</td>\n",
       "      <td>50170</td>\n",
       "      <td>Darede</td>\n",
       "      <td>https://attachments.gupy.io/production/compani...</td>\n",
       "      <td>vacancy_type_effective</td>\n",
       "      <td>2024-12-13T17:56:22.209Z</td>\n",
       "      <td>2025-02-01T00:00:00.000Z</td>\n",
       "      <td>...</td>\n",
       "      <td>Dado Não Disponível</td>\n",
       "      <td>Dado Não Disponível</td>\n",
       "      <td>Brasil</td>\n",
       "      <td>https://darede.gupy.io/job/eyJqb2JJZCI6ODIzMDY...</td>\n",
       "      <td>{'friendlyBadge': True}</td>\n",
       "      <td>True</td>\n",
       "      <td>remote</td>\n",
       "      <td>https://darede.gupy.io/eyJzb3VyY2UiOiJndXB5X3B...</td>\n",
       "      <td>DADOS</td>\n",
       "      <td>PLENO</td>\n",
       "    </tr>\n",
       "    <tr>\n",
       "      <th>6</th>\n",
       "      <td>8255373</td>\n",
       "      <td>2119</td>\n",
       "      <td>Cientista de Dados Júnior</td>\n",
       "      <td>Há mais de 90 anos, o Banco Bmg vem construind...</td>\n",
       "      <td>3326</td>\n",
       "      <td>Banco Bmg</td>\n",
       "      <td>https://attachments.gupy.io/production/compani...</td>\n",
       "      <td>vacancy_type_effective</td>\n",
       "      <td>2024-12-13T17:29:03.462Z</td>\n",
       "      <td>2025-02-04T00:00:00.000Z</td>\n",
       "      <td>...</td>\n",
       "      <td>São Paulo</td>\n",
       "      <td>São Paulo</td>\n",
       "      <td>Brasil</td>\n",
       "      <td>https://bmg.gupy.io/job/eyJqb2JJZCI6ODI1NTM3My...</td>\n",
       "      <td>{'friendlyBadge': True}</td>\n",
       "      <td>True</td>\n",
       "      <td>hybrid</td>\n",
       "      <td>https://bmg.gupy.io/eyJzb3VyY2UiOiJndXB5X3Bvcn...</td>\n",
       "      <td>DADOS</td>\n",
       "      <td>JUNIOR</td>\n",
       "    </tr>\n",
       "    <tr>\n",
       "      <th>7</th>\n",
       "      <td>8271364</td>\n",
       "      <td>897</td>\n",
       "      <td>Pessoa Analista de Dados (Pereiro - CE)</td>\n",
       "      <td>Estamos a procura de uma PESSOA ANALISTA DE DA...</td>\n",
       "      <td>1247</td>\n",
       "      <td>Brisanet</td>\n",
       "      <td>https://attachments.gupy.io/production/compani...</td>\n",
       "      <td>vacancy_type_effective</td>\n",
       "      <td>2024-12-13T16:11:29.255Z</td>\n",
       "      <td>2024-12-23T00:00:00.000Z</td>\n",
       "      <td>...</td>\n",
       "      <td>Dado Não Disponível</td>\n",
       "      <td>Dado Não Disponível</td>\n",
       "      <td>Brasil</td>\n",
       "      <td>https://brisanet.gupy.io/job/eyJqb2JJZCI6ODI3M...</td>\n",
       "      <td>{'friendlyBadge': True}</td>\n",
       "      <td>True</td>\n",
       "      <td>remote</td>\n",
       "      <td>https://brisanet.gupy.io/eyJzb3VyY2UiOiJndXB5X...</td>\n",
       "      <td>DADOS</td>\n",
       "      <td>DADO NÃO IDENTIFICADO</td>\n",
       "    </tr>\n",
       "    <tr>\n",
       "      <th>8</th>\n",
       "      <td>8295468</td>\n",
       "      <td>986</td>\n",
       "      <td>Engenheiro de Dados Oracle (OCI) Sênior</td>\n",
       "      <td>A Leega é uma empresa focada no atendimento ef...</td>\n",
       "      <td>1410</td>\n",
       "      <td>Leega Consultoria</td>\n",
       "      <td>https://attachments.gupy.io/production/compani...</td>\n",
       "      <td>vacancy_legal_entity</td>\n",
       "      <td>2024-12-13T14:24:30.660Z</td>\n",
       "      <td>2025-02-28T00:00:00.000Z</td>\n",
       "      <td>...</td>\n",
       "      <td>Dado Não Disponível</td>\n",
       "      <td>Dado Não Disponível</td>\n",
       "      <td>Brasil</td>\n",
       "      <td>https://leega.gupy.io/job/eyJqb2JJZCI6ODI5NTQ2...</td>\n",
       "      <td>{'friendlyBadge': True}</td>\n",
       "      <td>False</td>\n",
       "      <td>remote</td>\n",
       "      <td>https://leega.gupy.io/eyJzb3VyY2UiOiJndXB5X3Bv...</td>\n",
       "      <td>DADOS</td>\n",
       "      <td>SENIOR</td>\n",
       "    </tr>\n",
       "    <tr>\n",
       "      <th>9</th>\n",
       "      <td>8295722</td>\n",
       "      <td>986</td>\n",
       "      <td>Engenheiro de Dados Oracle (OCI) Pleno</td>\n",
       "      <td>A Leega é uma empresa focada no atendimento ef...</td>\n",
       "      <td>1410</td>\n",
       "      <td>Leega Consultoria</td>\n",
       "      <td>https://attachments.gupy.io/production/compani...</td>\n",
       "      <td>vacancy_legal_entity</td>\n",
       "      <td>2024-12-13T14:20:41.760Z</td>\n",
       "      <td>2025-02-11T00:00:00.000Z</td>\n",
       "      <td>...</td>\n",
       "      <td>Dado Não Disponível</td>\n",
       "      <td>Dado Não Disponível</td>\n",
       "      <td>Brasil</td>\n",
       "      <td>https://leega.gupy.io/job/eyJqb2JJZCI6ODI5NTcy...</td>\n",
       "      <td>{'friendlyBadge': True}</td>\n",
       "      <td>False</td>\n",
       "      <td>remote</td>\n",
       "      <td>https://leega.gupy.io/eyJzb3VyY2UiOiJndXB5X3Bv...</td>\n",
       "      <td>DADOS</td>\n",
       "      <td>PLENO</td>\n",
       "    </tr>\n",
       "    <tr>\n",
       "      <th>10</th>\n",
       "      <td>8259154</td>\n",
       "      <td>66730</td>\n",
       "      <td>Designer UX/UI SR</td>\n",
       "      <td>Designer UX/UI SR100% Remota - CLT / PJCapacid...</td>\n",
       "      <td>162540</td>\n",
       "      <td>TIVIT</td>\n",
       "      <td>https://attachments.gupy.io/production/compani...</td>\n",
       "      <td>vacancy_type_effective</td>\n",
       "      <td>2024-12-10T20:45:18.981Z</td>\n",
       "      <td>2025-01-10T00:00:00.000Z</td>\n",
       "      <td>...</td>\n",
       "      <td>Dado Não Disponível</td>\n",
       "      <td>Dado Não Disponível</td>\n",
       "      <td>Brasil</td>\n",
       "      <td>https://tivit.gupy.io/job/eyJqb2JJZCI6ODI1OTE1...</td>\n",
       "      <td>{'friendlyBadge': True}</td>\n",
       "      <td>True</td>\n",
       "      <td>remote</td>\n",
       "      <td>https://tivit.gupy.io/eyJzb3VyY2UiOiJndXB5X3Bv...</td>\n",
       "      <td>UX/UI</td>\n",
       "      <td>SENIOR</td>\n",
       "    </tr>\n",
       "    <tr>\n",
       "      <th>11</th>\n",
       "      <td>8250217</td>\n",
       "      <td>551</td>\n",
       "      <td>Analista UX/UI Sênior</td>\n",
       "      <td>Somos aproximadamente 50k Minsaiters no Mundo ...</td>\n",
       "      <td>71488</td>\n",
       "      <td>Minsait an Indra Company</td>\n",
       "      <td>https://attachments.gupy.io/production/compani...</td>\n",
       "      <td>vacancy_type_effective</td>\n",
       "      <td>2024-12-10T12:49:53.389Z</td>\n",
       "      <td>2025-02-03T00:00:00.000Z</td>\n",
       "      <td>...</td>\n",
       "      <td>Dado Não Disponível</td>\n",
       "      <td>Dado Não Disponível</td>\n",
       "      <td>Brasil</td>\n",
       "      <td>https://minsait.gupy.io/job/eyJqb2JJZCI6ODI1MD...</td>\n",
       "      <td>{'friendlyBadge': True}</td>\n",
       "      <td>True</td>\n",
       "      <td>remote</td>\n",
       "      <td>https://minsait.gupy.io/eyJzb3VyY2UiOiJndXB5X3...</td>\n",
       "      <td>UX/UI</td>\n",
       "      <td>SENIOR</td>\n",
       "    </tr>\n",
       "    <tr>\n",
       "      <th>12</th>\n",
       "      <td>8267530</td>\n",
       "      <td>2351</td>\n",
       "      <td>UX UI - Designer</td>\n",
       "      <td>Já conhece a Hypnobox? Somos um software compa...</td>\n",
       "      <td>7006</td>\n",
       "      <td>Vem ser Hypnobox</td>\n",
       "      <td>https://attachments.gupy.io/production/compani...</td>\n",
       "      <td>vacancy_type_effective</td>\n",
       "      <td>2024-12-09T19:24:28.191Z</td>\n",
       "      <td>2025-02-07T00:00:00.000Z</td>\n",
       "      <td>...</td>\n",
       "      <td>São Paulo</td>\n",
       "      <td>São Paulo</td>\n",
       "      <td>Brasil</td>\n",
       "      <td>https://hypnobox.gupy.io/job/eyJqb2JJZCI6ODI2N...</td>\n",
       "      <td>{'friendlyBadge': True}</td>\n",
       "      <td>True</td>\n",
       "      <td>hybrid</td>\n",
       "      <td>https://hypnobox.gupy.io/eyJzb3VyY2UiOiJndXB5X...</td>\n",
       "      <td>UX/UI</td>\n",
       "      <td>DADO NÃO IDENTIFICADO</td>\n",
       "    </tr>\n",
       "    <tr>\n",
       "      <th>13</th>\n",
       "      <td>8266403</td>\n",
       "      <td>46666</td>\n",
       "      <td>UX/UI Designer</td>\n",
       "      <td>Você é apaixonado(a) por criar experiências in...</td>\n",
       "      <td>145540</td>\n",
       "      <td>Villela Brasil Bank | Gestão de Carreiras</td>\n",
       "      <td>https://attachments.gupy.io/production/compani...</td>\n",
       "      <td>vacancy_type_associate</td>\n",
       "      <td>2024-12-09T16:44:19.360Z</td>\n",
       "      <td>2025-01-09T00:00:00.000Z</td>\n",
       "      <td>...</td>\n",
       "      <td>Porto Alegre</td>\n",
       "      <td>Rio Grande do Sul</td>\n",
       "      <td>Brasil</td>\n",
       "      <td>https://villelabrasilbank.gupy.io/job/eyJqb2JJ...</td>\n",
       "      <td>{'friendlyBadge': True}</td>\n",
       "      <td>False</td>\n",
       "      <td>on-site</td>\n",
       "      <td>https://villelabrasilbank.gupy.io/eyJzb3VyY2Ui...</td>\n",
       "      <td>UX/UI</td>\n",
       "      <td>DADO NÃO IDENTIFICADO</td>\n",
       "    </tr>\n",
       "    <tr>\n",
       "      <th>14</th>\n",
       "      <td>8239104</td>\n",
       "      <td>40726</td>\n",
       "      <td>Pessoa UX/UI Designer Sênior</td>\n",
       "      <td>A Akross é uma Tech Boutique que desenvolve e ...</td>\n",
       "      <td>89176</td>\n",
       "      <td>Akross</td>\n",
       "      <td>https://attachments.gupy.io/production/compani...</td>\n",
       "      <td>vacancy_type_effective</td>\n",
       "      <td>2024-12-09T15:36:45.002Z</td>\n",
       "      <td>2025-02-02T00:00:00.000Z</td>\n",
       "      <td>...</td>\n",
       "      <td>São Paulo</td>\n",
       "      <td>São Paulo</td>\n",
       "      <td>Brasil</td>\n",
       "      <td>https://akross.gupy.io/job/eyJqb2JJZCI6ODIzOTE...</td>\n",
       "      <td>{'friendlyBadge': True}</td>\n",
       "      <td>True</td>\n",
       "      <td>hybrid</td>\n",
       "      <td>https://akross.gupy.io/eyJzb3VyY2UiOiJndXB5X3B...</td>\n",
       "      <td>UX/UI</td>\n",
       "      <td>SENIOR</td>\n",
       "    </tr>\n",
       "    <tr>\n",
       "      <th>15</th>\n",
       "      <td>8170541</td>\n",
       "      <td>345</td>\n",
       "      <td>Estagiário(a) - UX UI Design</td>\n",
       "      <td>Olá!! :DEstamos em busca de estagiário(a) para...</td>\n",
       "      <td>94918</td>\n",
       "      <td>Grupo Autoglass Estágio</td>\n",
       "      <td>https://attachments.gupy.io/production/compani...</td>\n",
       "      <td>vacancy_type_internship</td>\n",
       "      <td>2024-12-06T19:25:10.216Z</td>\n",
       "      <td>2025-01-20T00:00:00.000Z</td>\n",
       "      <td>...</td>\n",
       "      <td>Vila Velha</td>\n",
       "      <td>Espírito Santo</td>\n",
       "      <td>Brasil</td>\n",
       "      <td>https://autoglassestagio.gupy.io/job/eyJqb2JJZ...</td>\n",
       "      <td>{'friendlyBadge': True}</td>\n",
       "      <td>True</td>\n",
       "      <td>on-site</td>\n",
       "      <td>https://autoglassestagio.gupy.io/eyJzb3VyY2UiO...</td>\n",
       "      <td>UX/UI</td>\n",
       "      <td>ESTAGIO</td>\n",
       "    </tr>\n",
       "    <tr>\n",
       "      <th>16</th>\n",
       "      <td>8256163</td>\n",
       "      <td>56566</td>\n",
       "      <td>Pessoa Analista de UX/UI Design Junior</td>\n",
       "      <td>🔹Sobre a 1Doc 💙A 1Doc tem como propósito democ...</td>\n",
       "      <td>118019</td>\n",
       "      <td>1Doc</td>\n",
       "      <td>https://attachments.gupy.io/production/compani...</td>\n",
       "      <td>vacancy_type_effective</td>\n",
       "      <td>2024-12-06T16:16:44.633Z</td>\n",
       "      <td>2025-02-04T00:00:00.000Z</td>\n",
       "      <td>...</td>\n",
       "      <td>Dado Não Disponível</td>\n",
       "      <td>Dado Não Disponível</td>\n",
       "      <td>Brasil</td>\n",
       "      <td>https://1doc.gupy.io/job/eyJqb2JJZCI6ODI1NjE2M...</td>\n",
       "      <td>{'friendlyBadge': True}</td>\n",
       "      <td>False</td>\n",
       "      <td>remote</td>\n",
       "      <td>https://1doc.gupy.io/eyJzb3VyY2UiOiJndXB5X3Bvc...</td>\n",
       "      <td>UX/UI</td>\n",
       "      <td>JUNIOR</td>\n",
       "    </tr>\n",
       "    <tr>\n",
       "      <th>17</th>\n",
       "      <td>8232091</td>\n",
       "      <td>34423</td>\n",
       "      <td>UX/UI Designer Sênior  - REMOTO</td>\n",
       "      <td>A Verity está buscando novos talentos!Somos um...</td>\n",
       "      <td>79903</td>\n",
       "      <td>#sejaveriter</td>\n",
       "      <td>https://attachments.gupy.io/production/compani...</td>\n",
       "      <td>vacancy_type_effective</td>\n",
       "      <td>2024-12-03T17:13:13.161Z</td>\n",
       "      <td>2025-02-01T00:00:00.000Z</td>\n",
       "      <td>...</td>\n",
       "      <td>Dado Não Disponível</td>\n",
       "      <td>Dado Não Disponível</td>\n",
       "      <td>Brasil</td>\n",
       "      <td>https://verity.gupy.io/job/eyJqb2JJZCI6ODIzMjA...</td>\n",
       "      <td>{'friendlyBadge': True}</td>\n",
       "      <td>True</td>\n",
       "      <td>remote</td>\n",
       "      <td>https://verity.gupy.io/eyJzb3VyY2UiOiJndXB5X3B...</td>\n",
       "      <td>UX/UI</td>\n",
       "      <td>SENIOR</td>\n",
       "    </tr>\n",
       "    <tr>\n",
       "      <th>18</th>\n",
       "      <td>8225991</td>\n",
       "      <td>56566</td>\n",
       "      <td>Pessoa Analista de UX/UI Design Pleno</td>\n",
       "      <td>🔹Sobre a 1Doc 💙A 1Doc tem como propósito democ...</td>\n",
       "      <td>118019</td>\n",
       "      <td>1Doc</td>\n",
       "      <td>https://attachments.gupy.io/production/compani...</td>\n",
       "      <td>vacancy_type_effective</td>\n",
       "      <td>2024-12-02T18:59:48.805Z</td>\n",
       "      <td>2025-01-31T00:00:00.000Z</td>\n",
       "      <td>...</td>\n",
       "      <td>Dado Não Disponível</td>\n",
       "      <td>Dado Não Disponível</td>\n",
       "      <td>Brasil</td>\n",
       "      <td>https://1doc.gupy.io/job/eyJqb2JJZCI6ODIyNTk5M...</td>\n",
       "      <td>{'friendlyBadge': True}</td>\n",
       "      <td>False</td>\n",
       "      <td>remote</td>\n",
       "      <td>https://1doc.gupy.io/eyJzb3VyY2UiOiJndXB5X3Bvc...</td>\n",
       "      <td>UX/UI</td>\n",
       "      <td>PLENO</td>\n",
       "    </tr>\n",
       "    <tr>\n",
       "      <th>19</th>\n",
       "      <td>8223272</td>\n",
       "      <td>59833</td>\n",
       "      <td>Senior UX/UI Designer</td>\n",
       "      <td>Quem somos:A Dentsu World Services (DWS) é par...</td>\n",
       "      <td>147026</td>\n",
       "      <td>Dentsu World Services Brazil</td>\n",
       "      <td>https://attachments.gupy.io/production/compani...</td>\n",
       "      <td>vacancy_type_effective</td>\n",
       "      <td>2024-12-02T11:48:09.454Z</td>\n",
       "      <td>2025-01-31T00:00:00.000Z</td>\n",
       "      <td>...</td>\n",
       "      <td>Dado Não Disponível</td>\n",
       "      <td>Dado Não Disponível</td>\n",
       "      <td>Brasil</td>\n",
       "      <td>https://dwsbrazil.gupy.io/job/eyJqb2JJZCI6ODIy...</td>\n",
       "      <td>{'friendlyBadge': False}</td>\n",
       "      <td>True</td>\n",
       "      <td>remote</td>\n",
       "      <td>https://dwsbrazil.gupy.io/eyJzb3VyY2UiOiJndXB5...</td>\n",
       "      <td>UX/UI</td>\n",
       "      <td>SENIOR</td>\n",
       "    </tr>\n",
       "    <tr>\n",
       "      <th>20</th>\n",
       "      <td>8288774</td>\n",
       "      <td>49306</td>\n",
       "      <td>Analista de Administração de Pessoal Jr. (Temp...</td>\n",
       "      <td>JUNTE-SE À CSN!A Companhia Siderúrgica Naciona...</td>\n",
       "      <td>107294</td>\n",
       "      <td>CSN - Companhia Siderúrgica Nacional</td>\n",
       "      <td>https://attachments.gupy.io/production/compani...</td>\n",
       "      <td>vacancy_type_temporary</td>\n",
       "      <td>2024-12-13T20:36:55.818Z</td>\n",
       "      <td>2025-02-10T00:00:00.000Z</td>\n",
       "      <td>...</td>\n",
       "      <td>São Paulo</td>\n",
       "      <td>São Paulo</td>\n",
       "      <td>Brasil</td>\n",
       "      <td>https://csn.gupy.io/job/eyJqb2JJZCI6ODI4ODc3NC...</td>\n",
       "      <td>{'friendlyBadge': True}</td>\n",
       "      <td>False</td>\n",
       "      <td>on-site</td>\n",
       "      <td>https://csn.gupy.io/eyJzb3VyY2UiOiJndXB5X3Bvcn...</td>\n",
       "      <td>ADM</td>\n",
       "      <td>JUNIOR</td>\n",
       "    </tr>\n",
       "    <tr>\n",
       "      <th>21</th>\n",
       "      <td>8294608</td>\n",
       "      <td>981</td>\n",
       "      <td>PROFESSOR ADJUNTO I - ANÁLISE POLÍTICA E SOCIA...</td>\n",
       "      <td>AQUI SUA CARREIRA COMEÇA GRANDE.VENHA SER UM&amp;n...</td>\n",
       "      <td>1954</td>\n",
       "      <td>Ibmec</td>\n",
       "      <td>https://attachments.gupy.io/production/compani...</td>\n",
       "      <td>vacancy_type_lecturer</td>\n",
       "      <td>2024-12-13T19:23:25.727Z</td>\n",
       "      <td>2025-02-11T00:00:00.000Z</td>\n",
       "      <td>...</td>\n",
       "      <td>Brasília</td>\n",
       "      <td>Distrito Federal</td>\n",
       "      <td>Brasil</td>\n",
       "      <td>https://ibmec.gupy.io/job/eyJqb2JJZCI6ODI5NDYw...</td>\n",
       "      <td>{'friendlyBadge': True}</td>\n",
       "      <td>True</td>\n",
       "      <td>on-site</td>\n",
       "      <td>https://ibmec.gupy.io/eyJzb3VyY2UiOiJndXB5X3Bv...</td>\n",
       "      <td>ADM</td>\n",
       "      <td>DADO NÃO IDENTIFICADO</td>\n",
       "    </tr>\n",
       "    <tr>\n",
       "      <th>22</th>\n",
       "      <td>8296882</td>\n",
       "      <td>38020</td>\n",
       "      <td>🟡 Quartzolit |  Estágio em Comércio Varejo/Adm...</td>\n",
       "      <td>Venha fazer parte do nosso time incrível! 😍💛🚀V...</td>\n",
       "      <td>90397</td>\n",
       "      <td>Saint-Gobain Produtos para Construção</td>\n",
       "      <td>https://attachments.gupy.io/production/compani...</td>\n",
       "      <td>vacancy_type_internship</td>\n",
       "      <td>2024-12-13T17:44:09.426Z</td>\n",
       "      <td>2025-02-11T00:00:00.000Z</td>\n",
       "      <td>...</td>\n",
       "      <td>Jandira</td>\n",
       "      <td>São Paulo</td>\n",
       "      <td>Brasil</td>\n",
       "      <td>https://saintgobainppc.gupy.io/job/eyJqb2JJZCI...</td>\n",
       "      <td>{'friendlyBadge': False}</td>\n",
       "      <td>True</td>\n",
       "      <td>hybrid</td>\n",
       "      <td>https://saintgobainppc.gupy.io/eyJzb3VyY2UiOiJ...</td>\n",
       "      <td>ADM</td>\n",
       "      <td>ESTAGIO</td>\n",
       "    </tr>\n",
       "    <tr>\n",
       "      <th>23</th>\n",
       "      <td>8286942</td>\n",
       "      <td>981</td>\n",
       "      <td>PROFESSOR AUXILIAR I - ADMINISTRAÇÃO - ESTÁCIO...</td>\n",
       "      <td>AQUI SUA CARREIRA COMEÇA GRANDE.VENHA SER UM(A...</td>\n",
       "      <td>21857</td>\n",
       "      <td>Confidencial</td>\n",
       "      <td>https://career-page-prod.gupy.io/default-creat...</td>\n",
       "      <td>vacancy_type_lecturer</td>\n",
       "      <td>2024-12-13T13:54:57.993Z</td>\n",
       "      <td>2025-02-10T00:00:00.000Z</td>\n",
       "      <td>...</td>\n",
       "      <td>Maceió</td>\n",
       "      <td>Alagoas</td>\n",
       "      <td>Brasil</td>\n",
       "      <td>https://setoreducacao.gupy.io/job/eyJqb2JJZCI6...</td>\n",
       "      <td>{'friendlyBadge': True}</td>\n",
       "      <td>True</td>\n",
       "      <td>on-site</td>\n",
       "      <td>https://setoreducacao.gupy.io/eyJzb3VyY2UiOiJn...</td>\n",
       "      <td>ADM</td>\n",
       "      <td>DADO NÃO IDENTIFICADO</td>\n",
       "    </tr>\n",
       "    <tr>\n",
       "      <th>24</th>\n",
       "      <td>8274103</td>\n",
       "      <td>31849</td>\n",
       "      <td>PROFESSOR(A) - ADMINISTRACAO - AFIRMATIVA PARA...</td>\n",
       "      <td>Somos o grupo educacional mais diversificado d...</td>\n",
       "      <td>129602</td>\n",
       "      <td>Cogna Educação</td>\n",
       "      <td>https://attachments.gupy.io/production/compani...</td>\n",
       "      <td>vacancy_type_effective</td>\n",
       "      <td>2024-12-13T13:20:15.413Z</td>\n",
       "      <td>2024-12-28T00:00:00.000Z</td>\n",
       "      <td>...</td>\n",
       "      <td>Sorocaba</td>\n",
       "      <td>São Paulo</td>\n",
       "      <td>Brasil</td>\n",
       "      <td>https://cogna.gupy.io/job/eyJqb2JJZCI6ODI3NDEw...</td>\n",
       "      <td>{'friendlyBadge': True}</td>\n",
       "      <td>True</td>\n",
       "      <td>on-site</td>\n",
       "      <td>https://cogna.gupy.io/eyJzb3VyY2UiOiJndXB5X3Bv...</td>\n",
       "      <td>ADM</td>\n",
       "      <td>DADO NÃO IDENTIFICADO</td>\n",
       "    </tr>\n",
       "    <tr>\n",
       "      <th>25</th>\n",
       "      <td>8254521</td>\n",
       "      <td>68682</td>\n",
       "      <td>ESTAGIÁRIO (A) DE ADMINISTRAÇÃO</td>\n",
       "      <td>Uma empresa com o coração azul, feita de gente...</td>\n",
       "      <td>165794</td>\n",
       "      <td>Cialne</td>\n",
       "      <td>https://attachments.gupy.io/production/compani...</td>\n",
       "      <td>vacancy_type_internship</td>\n",
       "      <td>2024-12-13T11:24:33.389Z</td>\n",
       "      <td>2025-02-04T00:00:00.000Z</td>\n",
       "      <td>...</td>\n",
       "      <td>Fortaleza</td>\n",
       "      <td>Ceará</td>\n",
       "      <td>Brasil</td>\n",
       "      <td>https://cialne.gupy.io/job/eyJqb2JJZCI6ODI1NDU...</td>\n",
       "      <td>{'friendlyBadge': True}</td>\n",
       "      <td>True</td>\n",
       "      <td>on-site</td>\n",
       "      <td>https://cialne.gupy.io/eyJzb3VyY2UiOiJndXB5X3B...</td>\n",
       "      <td>ADM</td>\n",
       "      <td>ESTAGIO</td>\n",
       "    </tr>\n",
       "    <tr>\n",
       "      <th>26</th>\n",
       "      <td>8292130</td>\n",
       "      <td>2221</td>\n",
       "      <td>ASSISTENTE DE ADMINISTRAÇÃO DE PESSOAL | TIME ...</td>\n",
       "      <td>Oi, somos a&amp;nbsp;HOLDING SIMPAR!&amp;nbsp;Somos um...</td>\n",
       "      <td>3965</td>\n",
       "      <td>SIMPAR</td>\n",
       "      <td>https://attachments.gupy.io/production/compani...</td>\n",
       "      <td>vacancy_type_effective</td>\n",
       "      <td>2024-12-12T21:16:23.325Z</td>\n",
       "      <td>2025-02-10T00:00:00.000Z</td>\n",
       "      <td>...</td>\n",
       "      <td>Mogi das Cruzes</td>\n",
       "      <td>São Paulo</td>\n",
       "      <td>Brasil</td>\n",
       "      <td>https://simpar.gupy.io/job/eyJqb2JJZCI6ODI5MjE...</td>\n",
       "      <td>{'friendlyBadge': True}</td>\n",
       "      <td>True</td>\n",
       "      <td>on-site</td>\n",
       "      <td>https://simpar.gupy.io/eyJzb3VyY2UiOiJndXB5X3B...</td>\n",
       "      <td>ADM</td>\n",
       "      <td>DADO NÃO IDENTIFICADO</td>\n",
       "    </tr>\n",
       "    <tr>\n",
       "      <th>27</th>\n",
       "      <td>8290831</td>\n",
       "      <td>745</td>\n",
       "      <td>ESTÁGIO EM ADMINISTRAÇÃO (Colégio Nossa Senhor...</td>\n",
       "      <td>Em consonância com o carisma institucional, he...</td>\n",
       "      <td>970</td>\n",
       "      <td>Rede Damas Educacional</td>\n",
       "      <td>https://attachments.gupy.io/production/compani...</td>\n",
       "      <td>vacancy_type_internship</td>\n",
       "      <td>2024-12-12T18:54:28.281Z</td>\n",
       "      <td>2024-12-31T00:00:00.000Z</td>\n",
       "      <td>...</td>\n",
       "      <td>Vitória de Santo Antão</td>\n",
       "      <td>Pernambuco</td>\n",
       "      <td>Brasil</td>\n",
       "      <td>https://rededamas.gupy.io/job/eyJqb2JJZCI6ODI5...</td>\n",
       "      <td>{'friendlyBadge': False}</td>\n",
       "      <td>True</td>\n",
       "      <td>on-site</td>\n",
       "      <td>https://rededamas.gupy.io/eyJzb3VyY2UiOiJndXB5...</td>\n",
       "      <td>ADM</td>\n",
       "      <td>ESTAGIO</td>\n",
       "    </tr>\n",
       "    <tr>\n",
       "      <th>28</th>\n",
       "      <td>8288423</td>\n",
       "      <td>72045</td>\n",
       "      <td>Analista Administração e Finanças Pleno | Juru...</td>\n",
       "      <td>Somos a Coca-Cola FEMSA (KOF), uma das maiores...</td>\n",
       "      <td>179959</td>\n",
       "      <td>Coca-Cola FEMSA Brasil</td>\n",
       "      <td>https://attachments.gupy.io/production/compani...</td>\n",
       "      <td>vacancy_type_effective</td>\n",
       "      <td>2024-12-12T14:33:58.195Z</td>\n",
       "      <td>2025-01-22T00:00:00.000Z</td>\n",
       "      <td>...</td>\n",
       "      <td>São Paulo</td>\n",
       "      <td>São Paulo</td>\n",
       "      <td>Brasil</td>\n",
       "      <td>https://cocacolafemsabr.gupy.io/job/eyJqb2JJZC...</td>\n",
       "      <td>{'friendlyBadge': False}</td>\n",
       "      <td>False</td>\n",
       "      <td>on-site</td>\n",
       "      <td>https://cocacolafemsabr.gupy.io/eyJzb3VyY2UiOi...</td>\n",
       "      <td>ADM</td>\n",
       "      <td>PLENO</td>\n",
       "    </tr>\n",
       "    <tr>\n",
       "      <th>29</th>\n",
       "      <td>8200241</td>\n",
       "      <td>58909</td>\n",
       "      <td>Estágio em Administração - Belo Horizonte</td>\n",
       "      <td>Falar da MRV&amp;amp;CO (MRV, Urba, Luggo, Sensia ...</td>\n",
       "      <td>134881</td>\n",
       "      <td>Venha construir o futuro com a gente!</td>\n",
       "      <td>https://attachments.gupy.io/production/compani...</td>\n",
       "      <td>vacancy_type_internship</td>\n",
       "      <td>2024-12-12T14:24:04.565Z</td>\n",
       "      <td>2025-01-26T00:00:00.000Z</td>\n",
       "      <td>...</td>\n",
       "      <td>Belo Horizonte</td>\n",
       "      <td>Minas Gerais</td>\n",
       "      <td>Brasil</td>\n",
       "      <td>https://vagas-mrveco.gupy.io/job/eyJqb2JJZCI6O...</td>\n",
       "      <td>{'friendlyBadge': True}</td>\n",
       "      <td>True</td>\n",
       "      <td>on-site</td>\n",
       "      <td>https://vagas-mrveco.gupy.io/eyJzb3VyY2UiOiJnd...</td>\n",
       "      <td>ADM</td>\n",
       "      <td>ESTAGIO</td>\n",
       "    </tr>\n",
       "    <tr>\n",
       "      <th>30</th>\n",
       "      <td>8299120</td>\n",
       "      <td>1173</td>\n",
       "      <td>Business Partner RH - EXPRESSO CAMPINAS</td>\n",
       "      <td>Atuar como parceiro de negócio da área corpora...</td>\n",
       "      <td>1857</td>\n",
       "      <td>Expresso São Miguel</td>\n",
       "      <td>https://attachments.gupy.io/production/compani...</td>\n",
       "      <td>vacancy_type_effective</td>\n",
       "      <td>2024-12-13T20:19:43.084Z</td>\n",
       "      <td>2025-02-11T00:00:00.000Z</td>\n",
       "      <td>...</td>\n",
       "      <td>Sumaré</td>\n",
       "      <td>São Paulo</td>\n",
       "      <td>Brasil</td>\n",
       "      <td>https://sejaesm.gupy.io/job/eyJqb2JJZCI6ODI5OT...</td>\n",
       "      <td>{'friendlyBadge': True}</td>\n",
       "      <td>True</td>\n",
       "      <td>on-site</td>\n",
       "      <td>https://sejaesm.gupy.io/eyJzb3VyY2UiOiJndXB5X3...</td>\n",
       "      <td>RH</td>\n",
       "      <td>DADO NÃO IDENTIFICADO</td>\n",
       "    </tr>\n",
       "    <tr>\n",
       "      <th>31</th>\n",
       "      <td>8297808</td>\n",
       "      <td>459</td>\n",
       "      <td>Auxiliar RH - Recursos Humanos</td>\n",
       "      <td>Faça parte do crescimento do Assaí! Com lojas ...</td>\n",
       "      <td>473</td>\n",
       "      <td>Assaí Atacadista - O atacadista com 50 anos de...</td>\n",
       "      <td>https://attachments.gupy.io/production/compani...</td>\n",
       "      <td>vacancy_type_effective</td>\n",
       "      <td>2024-12-13T18:02:05.195Z</td>\n",
       "      <td>2025-02-11T00:00:00.000Z</td>\n",
       "      <td>...</td>\n",
       "      <td>São Paulo</td>\n",
       "      <td>São Paulo</td>\n",
       "      <td>Brasil</td>\n",
       "      <td>https://assai.gupy.io/job/eyJqb2JJZCI6ODI5Nzgw...</td>\n",
       "      <td>{'friendlyBadge': False}</td>\n",
       "      <td>True</td>\n",
       "      <td>on-site</td>\n",
       "      <td>https://assai.gupy.io/eyJzb3VyY2UiOiJndXB5X3Bv...</td>\n",
       "      <td>RH</td>\n",
       "      <td>DADO NÃO IDENTIFICADO</td>\n",
       "    </tr>\n",
       "    <tr>\n",
       "      <th>32</th>\n",
       "      <td>8297472</td>\n",
       "      <td>13435</td>\n",
       "      <td>Assistente de RH Generalista</td>\n",
       "      <td>Já pensou em trabalhar em uma empresa com mais...</td>\n",
       "      <td>29083</td>\n",
       "      <td>Grupo Vila Nova</td>\n",
       "      <td>https://attachments.gupy.io/production/compani...</td>\n",
       "      <td>vacancy_type_effective</td>\n",
       "      <td>2024-12-13T17:18:28.465Z</td>\n",
       "      <td>2025-01-31T00:00:00.000Z</td>\n",
       "      <td>...</td>\n",
       "      <td>Poços de Caldas</td>\n",
       "      <td>Minas Gerais</td>\n",
       "      <td>Brasil</td>\n",
       "      <td>https://vilanova.gupy.io/job/eyJqb2JJZCI6ODI5N...</td>\n",
       "      <td>{'friendlyBadge': True}</td>\n",
       "      <td>True</td>\n",
       "      <td>on-site</td>\n",
       "      <td>https://vilanova.gupy.io/eyJzb3VyY2UiOiJndXB5X...</td>\n",
       "      <td>RH</td>\n",
       "      <td>DADO NÃO IDENTIFICADO</td>\n",
       "    </tr>\n",
       "    <tr>\n",
       "      <th>33</th>\n",
       "      <td>8246939</td>\n",
       "      <td>68527</td>\n",
       "      <td>Analista de RH</td>\n",
       "      <td>﻿Olá,&amp;nbsp;iniciaremos&amp;nbsp;nossas&amp;nbsp;ativid...</td>\n",
       "      <td>165359</td>\n",
       "      <td>Grupo Logos</td>\n",
       "      <td>https://attachments.gupy.io/production/compani...</td>\n",
       "      <td>vacancy_type_effective</td>\n",
       "      <td>2024-12-13T16:54:41.662Z</td>\n",
       "      <td>2025-02-03T00:00:00.000Z</td>\n",
       "      <td>...</td>\n",
       "      <td>São José de Ribamar</td>\n",
       "      <td>Maranhão</td>\n",
       "      <td>Brasil</td>\n",
       "      <td>https://logos-ma.gupy.io/job/eyJqb2JJZCI6ODI0N...</td>\n",
       "      <td>{'friendlyBadge': True}</td>\n",
       "      <td>True</td>\n",
       "      <td>on-site</td>\n",
       "      <td>https://logos-ma.gupy.io/eyJzb3VyY2UiOiJndXB5X...</td>\n",
       "      <td>RH</td>\n",
       "      <td>DADO NÃO IDENTIFICADO</td>\n",
       "    </tr>\n",
       "    <tr>\n",
       "      <th>34</th>\n",
       "      <td>8296058</td>\n",
       "      <td>394</td>\n",
       "      <td>Analista de RH Jr  - Uberlândia/MG (NEPPO)</td>\n",
       "      <td>Nós da&amp;nbsp;Neppo, empresa do&amp;nbsp;Grupo Sankh...</td>\n",
       "      <td>370</td>\n",
       "      <td>Sankhya Gestão de Negócios</td>\n",
       "      <td>https://attachments.gupy.io/production/compani...</td>\n",
       "      <td>vacancy_type_effective</td>\n",
       "      <td>2024-12-13T15:00:53.551Z</td>\n",
       "      <td>2025-01-10T00:00:00.000Z</td>\n",
       "      <td>...</td>\n",
       "      <td>Uberlândia</td>\n",
       "      <td>Minas Gerais</td>\n",
       "      <td>Brasil</td>\n",
       "      <td>https://sankhya.gupy.io/job/eyJqb2JJZCI6ODI5Nj...</td>\n",
       "      <td>{'friendlyBadge': True}</td>\n",
       "      <td>True</td>\n",
       "      <td>hybrid</td>\n",
       "      <td>https://sankhya.gupy.io/eyJzb3VyY2UiOiJndXB5X3...</td>\n",
       "      <td>RH</td>\n",
       "      <td>JUNIOR</td>\n",
       "    </tr>\n",
       "    <tr>\n",
       "      <th>35</th>\n",
       "      <td>8296330</td>\n",
       "      <td>459</td>\n",
       "      <td>Analista de Rh</td>\n",
       "      <td>Somos uma empresa de mais de 30 anos de Mercad...</td>\n",
       "      <td>4023</td>\n",
       "      <td>confidencial_vagas</td>\n",
       "      <td>https://career-page-prod.gupy.io/default-creat...</td>\n",
       "      <td>vacancy_type_effective</td>\n",
       "      <td>2024-12-13T14:42:38.155Z</td>\n",
       "      <td>2024-12-19T00:00:00.000Z</td>\n",
       "      <td>...</td>\n",
       "      <td>Salvador</td>\n",
       "      <td>Bahia</td>\n",
       "      <td>Brasil</td>\n",
       "      <td>https://confidencial_vagas.gupy.io/job/eyJqb2J...</td>\n",
       "      <td>{'friendlyBadge': False}</td>\n",
       "      <td>True</td>\n",
       "      <td>on-site</td>\n",
       "      <td>Dado Não Disponível</td>\n",
       "      <td>RH</td>\n",
       "      <td>DADO NÃO IDENTIFICADO</td>\n",
       "    </tr>\n",
       "    <tr>\n",
       "      <th>36</th>\n",
       "      <td>8296252</td>\n",
       "      <td>852</td>\n",
       "      <td>Estágio em RH :: Trancoso / BA</td>\n",
       "      <td>A Conexão Talento busca para o seu cliente:&amp;nb...</td>\n",
       "      <td>1154</td>\n",
       "      <td>Conexão Talento</td>\n",
       "      <td>https://attachments.gupy.io/production/compani...</td>\n",
       "      <td>vacancy_type_internship</td>\n",
       "      <td>2024-12-13T14:41:00.612Z</td>\n",
       "      <td>2025-02-11T00:00:00.000Z</td>\n",
       "      <td>...</td>\n",
       "      <td>Porto Seguro</td>\n",
       "      <td>Bahia</td>\n",
       "      <td>Brasil</td>\n",
       "      <td>https://conexaotalento.gupy.io/job/eyJqb2JJZCI...</td>\n",
       "      <td>{'friendlyBadge': True}</td>\n",
       "      <td>True</td>\n",
       "      <td>on-site</td>\n",
       "      <td>https://conexaotalento.gupy.io/eyJzb3VyY2UiOiJ...</td>\n",
       "      <td>RH</td>\n",
       "      <td>ESTAGIO</td>\n",
       "    </tr>\n",
       "    <tr>\n",
       "      <th>37</th>\n",
       "      <td>8286890</td>\n",
       "      <td>2193</td>\n",
       "      <td>ANL. DE RECURSOS HUMANOS PL - SERVICOS DE RH (...</td>\n",
       "      <td>Enxergar o outro como parte da nossa família é...</td>\n",
       "      <td>3719</td>\n",
       "      <td>Bauducco</td>\n",
       "      <td>https://attachments.gupy.io/production/compani...</td>\n",
       "      <td>vacancy_type_effective</td>\n",
       "      <td>2024-12-13T14:14:01.223Z</td>\n",
       "      <td>2025-01-30T00:00:00.000Z</td>\n",
       "      <td>...</td>\n",
       "      <td>Guarulhos</td>\n",
       "      <td>São Paulo</td>\n",
       "      <td>Brasil</td>\n",
       "      <td>https://bauducco.gupy.io/job/eyJqb2JJZCI6ODI4N...</td>\n",
       "      <td>{'friendlyBadge': True}</td>\n",
       "      <td>False</td>\n",
       "      <td>on-site</td>\n",
       "      <td>https://bauducco.gupy.io/eyJzb3VyY2UiOiJndXB5X...</td>\n",
       "      <td>RH</td>\n",
       "      <td>PLENO</td>\n",
       "    </tr>\n",
       "    <tr>\n",
       "      <th>38</th>\n",
       "      <td>8295906</td>\n",
       "      <td>54454</td>\n",
       "      <td>Assistente de RH - Desenvolvimento Humano Orga...</td>\n",
       "      <td>Quem somos?A Bellinati Perez,&amp;nbsp;atua na rec...</td>\n",
       "      <td>124388</td>\n",
       "      <td>Bellinati Perez</td>\n",
       "      <td>https://attachments.gupy.io/production/compani...</td>\n",
       "      <td>vacancy_type_effective</td>\n",
       "      <td>2024-12-13T13:55:28.219Z</td>\n",
       "      <td>2025-02-13T00:00:00.000Z</td>\n",
       "      <td>...</td>\n",
       "      <td>Curitiba</td>\n",
       "      <td>Paraná</td>\n",
       "      <td>Brasil</td>\n",
       "      <td>https://bellinatiperez.gupy.io/job/eyJqb2JJZCI...</td>\n",
       "      <td>{'friendlyBadge': True}</td>\n",
       "      <td>True</td>\n",
       "      <td>on-site</td>\n",
       "      <td>https://bellinatiperez.gupy.io/eyJzb3VyY2UiOiJ...</td>\n",
       "      <td>RH</td>\n",
       "      <td>DADO NÃO IDENTIFICADO</td>\n",
       "    </tr>\n",
       "    <tr>\n",
       "      <th>39</th>\n",
       "      <td>8294731</td>\n",
       "      <td>32048</td>\n",
       "      <td>Business Partner | RH</td>\n",
       "      <td>Se você é apaixonado por resolver problemas e ...</td>\n",
       "      <td>70237</td>\n",
       "      <td>Paytrack</td>\n",
       "      <td>https://attachments.gupy.io/production/compani...</td>\n",
       "      <td>vacancy_type_effective</td>\n",
       "      <td>2024-12-13T11:30:57.108Z</td>\n",
       "      <td>2025-12-31T00:00:00.000Z</td>\n",
       "      <td>...</td>\n",
       "      <td>Blumenau</td>\n",
       "      <td>Santa Catarina</td>\n",
       "      <td>Brasil</td>\n",
       "      <td>https://paytrack.gupy.io/job/eyJqb2JJZCI6ODI5N...</td>\n",
       "      <td>{'friendlyBadge': True}</td>\n",
       "      <td>True</td>\n",
       "      <td>on-site</td>\n",
       "      <td>https://paytrack.gupy.io/eyJzb3VyY2UiOiJndXB5X...</td>\n",
       "      <td>RH</td>\n",
       "      <td>DADO NÃO IDENTIFICADO</td>\n",
       "    </tr>\n",
       "    <tr>\n",
       "      <th>40</th>\n",
       "      <td>8186441</td>\n",
       "      <td>44323</td>\n",
       "      <td>Pessoa Especialista em Desenvolvimento Fronten...</td>\n",
       "      <td>Somos um dos maiores ecossistemas de Negócios ...</td>\n",
       "      <td>90628</td>\n",
       "      <td>Softplan</td>\n",
       "      <td>https://attachments.gupy.io/production/compani...</td>\n",
       "      <td>vacancy_type_effective</td>\n",
       "      <td>2024-12-13T22:47:53.139Z</td>\n",
       "      <td>2024-12-31T00:00:00.000Z</td>\n",
       "      <td>...</td>\n",
       "      <td>Dado Não Disponível</td>\n",
       "      <td>Dado Não Disponível</td>\n",
       "      <td>Brasil</td>\n",
       "      <td>https://softplan.gupy.io/job/eyJqb2JJZCI6ODE4N...</td>\n",
       "      <td>{'friendlyBadge': True}</td>\n",
       "      <td>True</td>\n",
       "      <td>remote</td>\n",
       "      <td>https://softplan.gupy.io/eyJzb3VyY2UiOiJndXB5X...</td>\n",
       "      <td>FRTEND</td>\n",
       "      <td>DADO NÃO IDENTIFICADO</td>\n",
       "    </tr>\n",
       "    <tr>\n",
       "      <th>41</th>\n",
       "      <td>8215294</td>\n",
       "      <td>68185</td>\n",
       "      <td>Pessoa Desenvolvedora de Software Júnior - Fro...</td>\n",
       "      <td>Somos uma empresa 100% digital, com tecnologia...</td>\n",
       "      <td>164020</td>\n",
       "      <td>Grupo OLX</td>\n",
       "      <td>https://attachments.gupy.io/production/compani...</td>\n",
       "      <td>vacancy_type_effective</td>\n",
       "      <td>2024-12-12T16:59:52.261Z</td>\n",
       "      <td>2025-03-31T00:00:00.000Z</td>\n",
       "      <td>...</td>\n",
       "      <td>Dado Não Disponível</td>\n",
       "      <td>Dado Não Disponível</td>\n",
       "      <td>Brasil</td>\n",
       "      <td>https://vemserolxbrasil.gupy.io/job/eyJqb2JJZC...</td>\n",
       "      <td>{'friendlyBadge': True}</td>\n",
       "      <td>True</td>\n",
       "      <td>remote</td>\n",
       "      <td>https://vemserolxbrasil.gupy.io/eyJzb3VyY2UiOi...</td>\n",
       "      <td>FRTEND</td>\n",
       "      <td>JUNIOR</td>\n",
       "    </tr>\n",
       "    <tr>\n",
       "      <th>42</th>\n",
       "      <td>8280734</td>\n",
       "      <td>66730</td>\n",
       "      <td>Desarrollador FrontEnd</td>\n",
       "      <td>Somos una compañía de soluciones digitales, co...</td>\n",
       "      <td>164302</td>\n",
       "      <td>TIVIT</td>\n",
       "      <td>https://attachments.gupy.io/production/compani...</td>\n",
       "      <td>vacancy_type_associate</td>\n",
       "      <td>2024-12-11T13:46:24.953Z</td>\n",
       "      <td>2025-02-09T00:00:00.000Z</td>\n",
       "      <td>...</td>\n",
       "      <td>Dado Não Disponível</td>\n",
       "      <td>Dado Não Disponível</td>\n",
       "      <td>Chile</td>\n",
       "      <td>https://tivitlatam.gupy.io/job/eyJqb2JJZCI6ODI...</td>\n",
       "      <td>{'friendlyBadge': True}</td>\n",
       "      <td>False</td>\n",
       "      <td>remote</td>\n",
       "      <td>https://tivitlatam.gupy.io/eyJzb3VyY2UiOiJndXB...</td>\n",
       "      <td>FRTEND</td>\n",
       "      <td>DADO NÃO IDENTIFICADO</td>\n",
       "    </tr>\n",
       "    <tr>\n",
       "      <th>43</th>\n",
       "      <td>8217409</td>\n",
       "      <td>551</td>\n",
       "      <td>Desenvolvedor Frontend Mobile</td>\n",
       "      <td>Somos aproximadamente 50k Minsaiters no Mundo ...</td>\n",
       "      <td>71488</td>\n",
       "      <td>Minsait an Indra Company</td>\n",
       "      <td>https://attachments.gupy.io/production/compani...</td>\n",
       "      <td>vacancy_type_effective</td>\n",
       "      <td>2024-12-10T12:16:28.225Z</td>\n",
       "      <td>2025-01-28T00:00:00.000Z</td>\n",
       "      <td>...</td>\n",
       "      <td>Dado Não Disponível</td>\n",
       "      <td>Dado Não Disponível</td>\n",
       "      <td>Brasil</td>\n",
       "      <td>https://minsait.gupy.io/job/eyJqb2JJZCI6ODIxNz...</td>\n",
       "      <td>{'friendlyBadge': True}</td>\n",
       "      <td>True</td>\n",
       "      <td>remote</td>\n",
       "      <td>https://minsait.gupy.io/eyJzb3VyY2UiOiJndXB5X3...</td>\n",
       "      <td>FRTEND</td>\n",
       "      <td>DADO NÃO IDENTIFICADO</td>\n",
       "    </tr>\n",
       "    <tr>\n",
       "      <th>44</th>\n",
       "      <td>8217412</td>\n",
       "      <td>551</td>\n",
       "      <td>Desenvolvedor Frontend WEB</td>\n",
       "      <td>Somos aproximadamente 50k Minsaiters no Mundo ...</td>\n",
       "      <td>71488</td>\n",
       "      <td>Minsait an Indra Company</td>\n",
       "      <td>https://attachments.gupy.io/production/compani...</td>\n",
       "      <td>vacancy_type_effective</td>\n",
       "      <td>2024-12-10T12:08:32.528Z</td>\n",
       "      <td>2025-01-28T00:00:00.000Z</td>\n",
       "      <td>...</td>\n",
       "      <td>Dado Não Disponível</td>\n",
       "      <td>Dado Não Disponível</td>\n",
       "      <td>Brasil</td>\n",
       "      <td>https://minsait.gupy.io/job/eyJqb2JJZCI6ODIxNz...</td>\n",
       "      <td>{'friendlyBadge': True}</td>\n",
       "      <td>True</td>\n",
       "      <td>remote</td>\n",
       "      <td>https://minsait.gupy.io/eyJzb3VyY2UiOiJndXB5X3...</td>\n",
       "      <td>FRTEND</td>\n",
       "      <td>DADO NÃO IDENTIFICADO</td>\n",
       "    </tr>\n",
       "    <tr>\n",
       "      <th>45</th>\n",
       "      <td>8265766</td>\n",
       "      <td>295</td>\n",
       "      <td>Pessoa Desenvolvedora Frontend React III (Salõ...</td>\n",
       "      <td>Um dos maiores grupos de beleza do mundo, o Gr...</td>\n",
       "      <td>210</td>\n",
       "      <td>Grupo Boticário</td>\n",
       "      <td>https://attachments.gupy.io/production/compani...</td>\n",
       "      <td>vacancy_type_effective</td>\n",
       "      <td>2024-12-09T15:10:33.333Z</td>\n",
       "      <td>2025-02-07T00:00:00.000Z</td>\n",
       "      <td>...</td>\n",
       "      <td>Dado Não Disponível</td>\n",
       "      <td>Dado Não Disponível</td>\n",
       "      <td>Brasil</td>\n",
       "      <td>https://grupoboticario.gupy.io/job/eyJqb2JJZCI...</td>\n",
       "      <td>{'friendlyBadge': True}</td>\n",
       "      <td>True</td>\n",
       "      <td>remote</td>\n",
       "      <td>https://grupoboticario.gupy.io/eyJzb3VyY2UiOiJ...</td>\n",
       "      <td>FRTEND</td>\n",
       "      <td>DADO NÃO IDENTIFICADO</td>\n",
       "    </tr>\n",
       "    <tr>\n",
       "      <th>46</th>\n",
       "      <td>8177648</td>\n",
       "      <td>18155</td>\n",
       "      <td>Desenvolvedor de FrontEnd Junior</td>\n",
       "      <td>Você busca um lugar para aprender e contribuir...</td>\n",
       "      <td>43372</td>\n",
       "      <td>Leo Madeiras</td>\n",
       "      <td>https://attachments.gupy.io/production/compani...</td>\n",
       "      <td>vacancy_type_effective</td>\n",
       "      <td>2024-12-06T19:21:31.673Z</td>\n",
       "      <td>2025-01-21T00:00:00.000Z</td>\n",
       "      <td>...</td>\n",
       "      <td>Barueri</td>\n",
       "      <td>São Paulo</td>\n",
       "      <td>Brasil</td>\n",
       "      <td>https://leomadeiras.gupy.io/job/eyJqb2JJZCI6OD...</td>\n",
       "      <td>{'friendlyBadge': False}</td>\n",
       "      <td>False</td>\n",
       "      <td>hybrid</td>\n",
       "      <td>https://leomadeiras.gupy.io/eyJzb3VyY2UiOiJndX...</td>\n",
       "      <td>FRTEND</td>\n",
       "      <td>JUNIOR</td>\n",
       "    </tr>\n",
       "    <tr>\n",
       "      <th>47</th>\n",
       "      <td>8239968</td>\n",
       "      <td>50527</td>\n",
       "      <td>Pessoa Desenvolvedora Frontend Angular - Sênior</td>\n",
       "      <td>A FCamara está em busca de uma Desenvolvedor F...</td>\n",
       "      <td>117226</td>\n",
       "      <td>VENHA SER #SANGUELARANJA 🧡🚀</td>\n",
       "      <td>https://attachments.gupy.io/production/compani...</td>\n",
       "      <td>vacancy_type_effective</td>\n",
       "      <td>2024-12-05T14:41:56.421Z</td>\n",
       "      <td>2025-02-02T00:00:00.000Z</td>\n",
       "      <td>...</td>\n",
       "      <td>Dado Não Disponível</td>\n",
       "      <td>Dado Não Disponível</td>\n",
       "      <td>Brasil</td>\n",
       "      <td>https://fcamara.gupy.io/job/eyJqb2JJZCI6ODIzOT...</td>\n",
       "      <td>{'friendlyBadge': True}</td>\n",
       "      <td>True</td>\n",
       "      <td>remote</td>\n",
       "      <td>https://fcamara.gupy.io/eyJzb3VyY2UiOiJndXB5X3...</td>\n",
       "      <td>FRTEND</td>\n",
       "      <td>SENIOR</td>\n",
       "    </tr>\n",
       "    <tr>\n",
       "      <th>48</th>\n",
       "      <td>8229635</td>\n",
       "      <td>5977</td>\n",
       "      <td>Desenvolvedor de Software Sênior - Frontend</td>\n",
       "      <td>Como Desenvolvedor de Software Sênior Front-en...</td>\n",
       "      <td>12814</td>\n",
       "      <td>Montreal &amp; Tecnologia &amp; Inovação</td>\n",
       "      <td>https://attachments.gupy.io/production/compani...</td>\n",
       "      <td>vacancy_type_effective</td>\n",
       "      <td>2024-12-03T14:32:35.939Z</td>\n",
       "      <td>2025-02-01T00:00:00.000Z</td>\n",
       "      <td>...</td>\n",
       "      <td>Dado Não Disponível</td>\n",
       "      <td>Dado Não Disponível</td>\n",
       "      <td>Brasil</td>\n",
       "      <td>https://montreal.gupy.io/job/eyJqb2JJZCI6ODIyO...</td>\n",
       "      <td>{'friendlyBadge': True}</td>\n",
       "      <td>True</td>\n",
       "      <td>remote</td>\n",
       "      <td>https://montreal.gupy.io/eyJzb3VyY2UiOiJndXB5X...</td>\n",
       "      <td>FRTEND</td>\n",
       "      <td>SENIOR</td>\n",
       "    </tr>\n",
       "    <tr>\n",
       "      <th>49</th>\n",
       "      <td>8222289</td>\n",
       "      <td>45874</td>\n",
       "      <td>Pessoa Desenvolvedora Frontend Pleno</td>\n",
       "      <td>Como é trabalhar aqui? 🤩Temos um clima bem inf...</td>\n",
       "      <td>91133</td>\n",
       "      <td>Casar.com</td>\n",
       "      <td>https://attachments.gupy.io/production/compani...</td>\n",
       "      <td>vacancy_type_effective</td>\n",
       "      <td>2024-12-01T22:42:41.403Z</td>\n",
       "      <td>2025-02-24T00:00:00.000Z</td>\n",
       "      <td>...</td>\n",
       "      <td>Dado Não Disponível</td>\n",
       "      <td>Dado Não Disponível</td>\n",
       "      <td>Brasil</td>\n",
       "      <td>https://casarcom.gupy.io/job/eyJqb2JJZCI6ODIyM...</td>\n",
       "      <td>{'friendlyBadge': True}</td>\n",
       "      <td>False</td>\n",
       "      <td>remote</td>\n",
       "      <td>https://casarcom.gupy.io/eyJzb3VyY2UiOiJndXB5X...</td>\n",
       "      <td>FRTEND</td>\n",
       "      <td>PLENO</td>\n",
       "    </tr>\n",
       "  </tbody>\n",
       "</table>\n",
       "<p>50 rows × 21 columns</p>\n",
       "</div>"
      ],
      "text/plain": [
       "         id  companyId                                               name  \\\n",
       "0   8299535        316  Cientista de Dados I Exclusiva para Pessoas Ne...   \n",
       "1   8250236       7990                               Analista de Dados Jr   \n",
       "2   8298139        415         Estagiário em Análise de Dados - Operações   \n",
       "3   8267692      43366                           Analista de Dados Sênior   \n",
       "4   8297795      65674                                  Analista de Dados   \n",
       "5   8230691      22675                      Analista de Banco Dados Pleno   \n",
       "6   8255373       2119                          Cientista de Dados Júnior   \n",
       "7   8271364        897            Pessoa Analista de Dados (Pereiro - CE)   \n",
       "8   8295468        986            Engenheiro de Dados Oracle (OCI) Sênior   \n",
       "9   8295722        986             Engenheiro de Dados Oracle (OCI) Pleno   \n",
       "10  8259154      66730                                  Designer UX/UI SR   \n",
       "11  8250217        551                              Analista UX/UI Sênior   \n",
       "12  8267530       2351                                  UX UI - Designer    \n",
       "13  8266403      46666                                     UX/UI Designer   \n",
       "14  8239104      40726                       Pessoa UX/UI Designer Sênior   \n",
       "15  8170541        345                       Estagiário(a) - UX UI Design   \n",
       "16  8256163      56566             Pessoa Analista de UX/UI Design Junior   \n",
       "17  8232091      34423                    UX/UI Designer Sênior  - REMOTO   \n",
       "18  8225991      56566              Pessoa Analista de UX/UI Design Pleno   \n",
       "19  8223272      59833                             Senior UX/UI Designer    \n",
       "20  8288774      49306  Analista de Administração de Pessoal Jr. (Temp...   \n",
       "21  8294608        981  PROFESSOR ADJUNTO I - ANÁLISE POLÍTICA E SOCIA...   \n",
       "22  8296882      38020  🟡 Quartzolit |  Estágio em Comércio Varejo/Adm...   \n",
       "23  8286942        981  PROFESSOR AUXILIAR I - ADMINISTRAÇÃO - ESTÁCIO...   \n",
       "24  8274103      31849  PROFESSOR(A) - ADMINISTRACAO - AFIRMATIVA PARA...   \n",
       "25  8254521      68682                    ESTAGIÁRIO (A) DE ADMINISTRAÇÃO   \n",
       "26  8292130       2221  ASSISTENTE DE ADMINISTRAÇÃO DE PESSOAL | TIME ...   \n",
       "27  8290831        745  ESTÁGIO EM ADMINISTRAÇÃO (Colégio Nossa Senhor...   \n",
       "28  8288423      72045  Analista Administração e Finanças Pleno | Juru...   \n",
       "29  8200241      58909         Estágio em Administração - Belo Horizonte    \n",
       "30  8299120       1173            Business Partner RH - EXPRESSO CAMPINAS   \n",
       "31  8297808        459                    Auxiliar RH - Recursos Humanos    \n",
       "32  8297472      13435                       Assistente de RH Generalista   \n",
       "33  8246939      68527                                     Analista de RH   \n",
       "34  8296058        394         Analista de RH Jr  - Uberlândia/MG (NEPPO)   \n",
       "35  8296330        459                                     Analista de Rh   \n",
       "36  8296252        852                    Estágio em RH :: Trancoso / BA    \n",
       "37  8286890       2193  ANL. DE RECURSOS HUMANOS PL - SERVICOS DE RH (...   \n",
       "38  8295906      54454  Assistente de RH - Desenvolvimento Humano Orga...   \n",
       "39  8294731      32048                              Business Partner | RH   \n",
       "40  8186441      44323  Pessoa Especialista em Desenvolvimento Fronten...   \n",
       "41  8215294      68185  Pessoa Desenvolvedora de Software Júnior - Fro...   \n",
       "42  8280734      66730                             Desarrollador FrontEnd   \n",
       "43  8217409        551                      Desenvolvedor Frontend Mobile   \n",
       "44  8217412        551                         Desenvolvedor Frontend WEB   \n",
       "45  8265766        295  Pessoa Desenvolvedora Frontend React III (Salõ...   \n",
       "46  8177648      18155                   Desenvolvedor de FrontEnd Junior   \n",
       "47  8239968      50527    Pessoa Desenvolvedora Frontend Angular - Sênior   \n",
       "48  8229635       5977        Desenvolvedor de Software Sênior - Frontend   \n",
       "49  8222289      45874            Pessoa Desenvolvedora Frontend Pleno      \n",
       "\n",
       "                                          description  careerPageId  \\\n",
       "0   Vice-Presidência: NegóciosDiretoria: Planejame...           246   \n",
       "1   Descrição da Vaga: Analista de Dados talentoso...         19480   \n",
       "2   A credsystem, empresa de soluções financeiras ...           403   \n",
       "3   Acreditamos na educação como um pilar fundamen...         96174   \n",
       "4   A Guess foi fundada em 1981 Desde então, a GUE...        157750   \n",
       "5   A Darede tem o objetivo de continuar revolucio...         50170   \n",
       "6   Há mais de 90 anos, o Banco Bmg vem construind...          3326   \n",
       "7   Estamos a procura de uma PESSOA ANALISTA DE DA...          1247   \n",
       "8   A Leega é uma empresa focada no atendimento ef...          1410   \n",
       "9   A Leega é uma empresa focada no atendimento ef...          1410   \n",
       "10  Designer UX/UI SR100% Remota - CLT / PJCapacid...        162540   \n",
       "11  Somos aproximadamente 50k Minsaiters no Mundo ...         71488   \n",
       "12  Já conhece a Hypnobox? Somos um software compa...          7006   \n",
       "13  Você é apaixonado(a) por criar experiências in...        145540   \n",
       "14  A Akross é uma Tech Boutique que desenvolve e ...         89176   \n",
       "15  Olá!! :DEstamos em busca de estagiário(a) para...         94918   \n",
       "16  🔹Sobre a 1Doc 💙A 1Doc tem como propósito democ...        118019   \n",
       "17  A Verity está buscando novos talentos!Somos um...         79903   \n",
       "18  🔹Sobre a 1Doc 💙A 1Doc tem como propósito democ...        118019   \n",
       "19  Quem somos:A Dentsu World Services (DWS) é par...        147026   \n",
       "20  JUNTE-SE À CSN!A Companhia Siderúrgica Naciona...        107294   \n",
       "21  AQUI SUA CARREIRA COMEÇA GRANDE.VENHA SER UM&n...          1954   \n",
       "22  Venha fazer parte do nosso time incrível! 😍💛🚀V...         90397   \n",
       "23  AQUI SUA CARREIRA COMEÇA GRANDE.VENHA SER UM(A...         21857   \n",
       "24  Somos o grupo educacional mais diversificado d...        129602   \n",
       "25  Uma empresa com o coração azul, feita de gente...        165794   \n",
       "26  Oi, somos a&nbsp;HOLDING SIMPAR!&nbsp;Somos um...          3965   \n",
       "27  Em consonância com o carisma institucional, he...           970   \n",
       "28  Somos a Coca-Cola FEMSA (KOF), uma das maiores...        179959   \n",
       "29  Falar da MRV&amp;CO (MRV, Urba, Luggo, Sensia ...        134881   \n",
       "30  Atuar como parceiro de negócio da área corpora...          1857   \n",
       "31  Faça parte do crescimento do Assaí! Com lojas ...           473   \n",
       "32  Já pensou em trabalhar em uma empresa com mais...         29083   \n",
       "33  ﻿Olá,&nbsp;iniciaremos&nbsp;nossas&nbsp;ativid...        165359   \n",
       "34  Nós da&nbsp;Neppo, empresa do&nbsp;Grupo Sankh...           370   \n",
       "35  Somos uma empresa de mais de 30 anos de Mercad...          4023   \n",
       "36  A Conexão Talento busca para o seu cliente:&nb...          1154   \n",
       "37  Enxergar o outro como parte da nossa família é...          3719   \n",
       "38  Quem somos?A Bellinati Perez,&nbsp;atua na rec...        124388   \n",
       "39  Se você é apaixonado por resolver problemas e ...         70237   \n",
       "40  Somos um dos maiores ecossistemas de Negócios ...         90628   \n",
       "41  Somos uma empresa 100% digital, com tecnologia...        164020   \n",
       "42  Somos una compañía de soluciones digitales, co...        164302   \n",
       "43  Somos aproximadamente 50k Minsaiters no Mundo ...         71488   \n",
       "44  Somos aproximadamente 50k Minsaiters no Mundo ...         71488   \n",
       "45  Um dos maiores grupos de beleza do mundo, o Gr...           210   \n",
       "46  Você busca um lugar para aprender e contribuir...         43372   \n",
       "47  A FCamara está em busca de uma Desenvolvedor F...        117226   \n",
       "48  Como Desenvolvedor de Software Sênior Front-en...         12814   \n",
       "49  Como é trabalhar aqui? 🤩Temos um clima bem inf...         91133   \n",
       "\n",
       "                                       careerPageName  \\\n",
       "0                                        Vem Pra Vivo   \n",
       "1                          Nutrien Soluções Agrícolas   \n",
       "2                                          credsystem   \n",
       "3                                            ANBIMA     \n",
       "4                                        GUESS Brasil   \n",
       "5                                              Darede   \n",
       "6                                           Banco Bmg   \n",
       "7                                            Brisanet   \n",
       "8                                   Leega Consultoria   \n",
       "9                                   Leega Consultoria   \n",
       "10                                              TIVIT   \n",
       "11                           Minsait an Indra Company   \n",
       "12                                   Vem ser Hypnobox   \n",
       "13          Villela Brasil Bank | Gestão de Carreiras   \n",
       "14                                             Akross   \n",
       "15                            Grupo Autoglass Estágio   \n",
       "16                                               1Doc   \n",
       "17                                       #sejaveriter   \n",
       "18                                               1Doc   \n",
       "19                       Dentsu World Services Brazil   \n",
       "20               CSN - Companhia Siderúrgica Nacional   \n",
       "21                                              Ibmec   \n",
       "22              Saint-Gobain Produtos para Construção   \n",
       "23                                       Confidencial   \n",
       "24                                     Cogna Educação   \n",
       "25                                             Cialne   \n",
       "26                                             SIMPAR   \n",
       "27                             Rede Damas Educacional   \n",
       "28                             Coca-Cola FEMSA Brasil   \n",
       "29              Venha construir o futuro com a gente!   \n",
       "30                                Expresso São Miguel   \n",
       "31  Assaí Atacadista - O atacadista com 50 anos de...   \n",
       "32                                    Grupo Vila Nova   \n",
       "33                                        Grupo Logos   \n",
       "34                         Sankhya Gestão de Negócios   \n",
       "35                                 confidencial_vagas   \n",
       "36                                    Conexão Talento   \n",
       "37                                           Bauducco   \n",
       "38                                    Bellinati Perez   \n",
       "39                                           Paytrack   \n",
       "40                                           Softplan   \n",
       "41                                          Grupo OLX   \n",
       "42                                              TIVIT   \n",
       "43                           Minsait an Indra Company   \n",
       "44                           Minsait an Indra Company   \n",
       "45                                    Grupo Boticário   \n",
       "46                                       Leo Madeiras   \n",
       "47                        VENHA SER #SANGUELARANJA 🧡🚀   \n",
       "48                   Montreal & Tecnologia & Inovação   \n",
       "49                                          Casar.com   \n",
       "\n",
       "                                       careerPageLogo  \\\n",
       "0   https://attachments.gupy.io/production/compani...   \n",
       "1   https://attachments.gupy.io/production/compani...   \n",
       "2   https://attachments.gupy.io/production/compani...   \n",
       "3   https://attachments.gupy.io/production/compani...   \n",
       "4   https://attachments.gupy.io/production/compani...   \n",
       "5   https://attachments.gupy.io/production/compani...   \n",
       "6   https://attachments.gupy.io/production/compani...   \n",
       "7   https://attachments.gupy.io/production/compani...   \n",
       "8   https://attachments.gupy.io/production/compani...   \n",
       "9   https://attachments.gupy.io/production/compani...   \n",
       "10  https://attachments.gupy.io/production/compani...   \n",
       "11  https://attachments.gupy.io/production/compani...   \n",
       "12  https://attachments.gupy.io/production/compani...   \n",
       "13  https://attachments.gupy.io/production/compani...   \n",
       "14  https://attachments.gupy.io/production/compani...   \n",
       "15  https://attachments.gupy.io/production/compani...   \n",
       "16  https://attachments.gupy.io/production/compani...   \n",
       "17  https://attachments.gupy.io/production/compani...   \n",
       "18  https://attachments.gupy.io/production/compani...   \n",
       "19  https://attachments.gupy.io/production/compani...   \n",
       "20  https://attachments.gupy.io/production/compani...   \n",
       "21  https://attachments.gupy.io/production/compani...   \n",
       "22  https://attachments.gupy.io/production/compani...   \n",
       "23  https://career-page-prod.gupy.io/default-creat...   \n",
       "24  https://attachments.gupy.io/production/compani...   \n",
       "25  https://attachments.gupy.io/production/compani...   \n",
       "26  https://attachments.gupy.io/production/compani...   \n",
       "27  https://attachments.gupy.io/production/compani...   \n",
       "28  https://attachments.gupy.io/production/compani...   \n",
       "29  https://attachments.gupy.io/production/compani...   \n",
       "30  https://attachments.gupy.io/production/compani...   \n",
       "31  https://attachments.gupy.io/production/compani...   \n",
       "32  https://attachments.gupy.io/production/compani...   \n",
       "33  https://attachments.gupy.io/production/compani...   \n",
       "34  https://attachments.gupy.io/production/compani...   \n",
       "35  https://career-page-prod.gupy.io/default-creat...   \n",
       "36  https://attachments.gupy.io/production/compani...   \n",
       "37  https://attachments.gupy.io/production/compani...   \n",
       "38  https://attachments.gupy.io/production/compani...   \n",
       "39  https://attachments.gupy.io/production/compani...   \n",
       "40  https://attachments.gupy.io/production/compani...   \n",
       "41  https://attachments.gupy.io/production/compani...   \n",
       "42  https://attachments.gupy.io/production/compani...   \n",
       "43  https://attachments.gupy.io/production/compani...   \n",
       "44  https://attachments.gupy.io/production/compani...   \n",
       "45  https://attachments.gupy.io/production/compani...   \n",
       "46  https://attachments.gupy.io/production/compani...   \n",
       "47  https://attachments.gupy.io/production/compani...   \n",
       "48  https://attachments.gupy.io/production/compani...   \n",
       "49  https://attachments.gupy.io/production/compani...   \n",
       "\n",
       "                       type             publishedDate  \\\n",
       "0    vacancy_type_effective  2024-12-13T21:24:04.518Z   \n",
       "1    vacancy_type_effective  2024-12-13T19:17:42.424Z   \n",
       "2   vacancy_type_internship  2024-12-13T18:34:09.121Z   \n",
       "3    vacancy_type_effective  2024-12-13T18:27:18.288Z   \n",
       "4    vacancy_type_effective  2024-12-13T18:21:41.079Z   \n",
       "5    vacancy_type_effective  2024-12-13T17:56:22.209Z   \n",
       "6    vacancy_type_effective  2024-12-13T17:29:03.462Z   \n",
       "7    vacancy_type_effective  2024-12-13T16:11:29.255Z   \n",
       "8      vacancy_legal_entity  2024-12-13T14:24:30.660Z   \n",
       "9      vacancy_legal_entity  2024-12-13T14:20:41.760Z   \n",
       "10   vacancy_type_effective  2024-12-10T20:45:18.981Z   \n",
       "11   vacancy_type_effective  2024-12-10T12:49:53.389Z   \n",
       "12   vacancy_type_effective  2024-12-09T19:24:28.191Z   \n",
       "13   vacancy_type_associate  2024-12-09T16:44:19.360Z   \n",
       "14   vacancy_type_effective  2024-12-09T15:36:45.002Z   \n",
       "15  vacancy_type_internship  2024-12-06T19:25:10.216Z   \n",
       "16   vacancy_type_effective  2024-12-06T16:16:44.633Z   \n",
       "17   vacancy_type_effective  2024-12-03T17:13:13.161Z   \n",
       "18   vacancy_type_effective  2024-12-02T18:59:48.805Z   \n",
       "19   vacancy_type_effective  2024-12-02T11:48:09.454Z   \n",
       "20   vacancy_type_temporary  2024-12-13T20:36:55.818Z   \n",
       "21    vacancy_type_lecturer  2024-12-13T19:23:25.727Z   \n",
       "22  vacancy_type_internship  2024-12-13T17:44:09.426Z   \n",
       "23    vacancy_type_lecturer  2024-12-13T13:54:57.993Z   \n",
       "24   vacancy_type_effective  2024-12-13T13:20:15.413Z   \n",
       "25  vacancy_type_internship  2024-12-13T11:24:33.389Z   \n",
       "26   vacancy_type_effective  2024-12-12T21:16:23.325Z   \n",
       "27  vacancy_type_internship  2024-12-12T18:54:28.281Z   \n",
       "28   vacancy_type_effective  2024-12-12T14:33:58.195Z   \n",
       "29  vacancy_type_internship  2024-12-12T14:24:04.565Z   \n",
       "30   vacancy_type_effective  2024-12-13T20:19:43.084Z   \n",
       "31   vacancy_type_effective  2024-12-13T18:02:05.195Z   \n",
       "32   vacancy_type_effective  2024-12-13T17:18:28.465Z   \n",
       "33   vacancy_type_effective  2024-12-13T16:54:41.662Z   \n",
       "34   vacancy_type_effective  2024-12-13T15:00:53.551Z   \n",
       "35   vacancy_type_effective  2024-12-13T14:42:38.155Z   \n",
       "36  vacancy_type_internship  2024-12-13T14:41:00.612Z   \n",
       "37   vacancy_type_effective  2024-12-13T14:14:01.223Z   \n",
       "38   vacancy_type_effective  2024-12-13T13:55:28.219Z   \n",
       "39   vacancy_type_effective  2024-12-13T11:30:57.108Z   \n",
       "40   vacancy_type_effective  2024-12-13T22:47:53.139Z   \n",
       "41   vacancy_type_effective  2024-12-12T16:59:52.261Z   \n",
       "42   vacancy_type_associate  2024-12-11T13:46:24.953Z   \n",
       "43   vacancy_type_effective  2024-12-10T12:16:28.225Z   \n",
       "44   vacancy_type_effective  2024-12-10T12:08:32.528Z   \n",
       "45   vacancy_type_effective  2024-12-09T15:10:33.333Z   \n",
       "46   vacancy_type_effective  2024-12-06T19:21:31.673Z   \n",
       "47   vacancy_type_effective  2024-12-05T14:41:56.421Z   \n",
       "48   vacancy_type_effective  2024-12-03T14:32:35.939Z   \n",
       "49   vacancy_type_effective  2024-12-01T22:42:41.403Z   \n",
       "\n",
       "         applicationDeadline  ...                    city  \\\n",
       "0   2025-01-20T00:00:00.000Z  ...               São Paulo   \n",
       "1   2025-02-03T00:00:00.000Z  ...               São Paulo   \n",
       "2   2025-02-11T00:00:00.000Z  ...                 Barueri   \n",
       "3   2025-02-02T00:00:00.000Z  ...               São Paulo   \n",
       "4   2025-02-11T00:00:00.000Z  ...               São Paulo   \n",
       "5   2025-02-01T00:00:00.000Z  ...     Dado Não Disponível   \n",
       "6   2025-02-04T00:00:00.000Z  ...               São Paulo   \n",
       "7   2024-12-23T00:00:00.000Z  ...     Dado Não Disponível   \n",
       "8   2025-02-28T00:00:00.000Z  ...     Dado Não Disponível   \n",
       "9   2025-02-11T00:00:00.000Z  ...     Dado Não Disponível   \n",
       "10  2025-01-10T00:00:00.000Z  ...     Dado Não Disponível   \n",
       "11  2025-02-03T00:00:00.000Z  ...     Dado Não Disponível   \n",
       "12  2025-02-07T00:00:00.000Z  ...               São Paulo   \n",
       "13  2025-01-09T00:00:00.000Z  ...            Porto Alegre   \n",
       "14  2025-02-02T00:00:00.000Z  ...               São Paulo   \n",
       "15  2025-01-20T00:00:00.000Z  ...              Vila Velha   \n",
       "16  2025-02-04T00:00:00.000Z  ...     Dado Não Disponível   \n",
       "17  2025-02-01T00:00:00.000Z  ...     Dado Não Disponível   \n",
       "18  2025-01-31T00:00:00.000Z  ...     Dado Não Disponível   \n",
       "19  2025-01-31T00:00:00.000Z  ...     Dado Não Disponível   \n",
       "20  2025-02-10T00:00:00.000Z  ...               São Paulo   \n",
       "21  2025-02-11T00:00:00.000Z  ...                Brasília   \n",
       "22  2025-02-11T00:00:00.000Z  ...                 Jandira   \n",
       "23  2025-02-10T00:00:00.000Z  ...                  Maceió   \n",
       "24  2024-12-28T00:00:00.000Z  ...                Sorocaba   \n",
       "25  2025-02-04T00:00:00.000Z  ...               Fortaleza   \n",
       "26  2025-02-10T00:00:00.000Z  ...         Mogi das Cruzes   \n",
       "27  2024-12-31T00:00:00.000Z  ...  Vitória de Santo Antão   \n",
       "28  2025-01-22T00:00:00.000Z  ...               São Paulo   \n",
       "29  2025-01-26T00:00:00.000Z  ...          Belo Horizonte   \n",
       "30  2025-02-11T00:00:00.000Z  ...                 Sumaré    \n",
       "31  2025-02-11T00:00:00.000Z  ...               São Paulo   \n",
       "32  2025-01-31T00:00:00.000Z  ...         Poços de Caldas   \n",
       "33  2025-02-03T00:00:00.000Z  ...     São José de Ribamar   \n",
       "34  2025-01-10T00:00:00.000Z  ...              Uberlândia   \n",
       "35  2024-12-19T00:00:00.000Z  ...                Salvador   \n",
       "36  2025-02-11T00:00:00.000Z  ...            Porto Seguro   \n",
       "37  2025-01-30T00:00:00.000Z  ...               Guarulhos   \n",
       "38  2025-02-13T00:00:00.000Z  ...                Curitiba   \n",
       "39  2025-12-31T00:00:00.000Z  ...                Blumenau   \n",
       "40  2024-12-31T00:00:00.000Z  ...     Dado Não Disponível   \n",
       "41  2025-03-31T00:00:00.000Z  ...     Dado Não Disponível   \n",
       "42  2025-02-09T00:00:00.000Z  ...     Dado Não Disponível   \n",
       "43  2025-01-28T00:00:00.000Z  ...     Dado Não Disponível   \n",
       "44  2025-01-28T00:00:00.000Z  ...     Dado Não Disponível   \n",
       "45  2025-02-07T00:00:00.000Z  ...     Dado Não Disponível   \n",
       "46  2025-01-21T00:00:00.000Z  ...                 Barueri   \n",
       "47  2025-02-02T00:00:00.000Z  ...     Dado Não Disponível   \n",
       "48  2025-02-01T00:00:00.000Z  ...     Dado Não Disponível   \n",
       "49  2025-02-24T00:00:00.000Z  ...     Dado Não Disponível   \n",
       "\n",
       "                  state country  \\\n",
       "0             São Paulo  Brasil   \n",
       "1             São Paulo  Brasil   \n",
       "2             São Paulo  Brasil   \n",
       "3             São Paulo  Brasil   \n",
       "4             São Paulo  Brasil   \n",
       "5   Dado Não Disponível  Brasil   \n",
       "6             São Paulo  Brasil   \n",
       "7   Dado Não Disponível  Brasil   \n",
       "8   Dado Não Disponível  Brasil   \n",
       "9   Dado Não Disponível  Brasil   \n",
       "10  Dado Não Disponível  Brasil   \n",
       "11  Dado Não Disponível  Brasil   \n",
       "12            São Paulo  Brasil   \n",
       "13    Rio Grande do Sul  Brasil   \n",
       "14            São Paulo  Brasil   \n",
       "15       Espírito Santo  Brasil   \n",
       "16  Dado Não Disponível  Brasil   \n",
       "17  Dado Não Disponível  Brasil   \n",
       "18  Dado Não Disponível  Brasil   \n",
       "19  Dado Não Disponível  Brasil   \n",
       "20            São Paulo  Brasil   \n",
       "21     Distrito Federal  Brasil   \n",
       "22            São Paulo  Brasil   \n",
       "23              Alagoas  Brasil   \n",
       "24            São Paulo  Brasil   \n",
       "25                Ceará  Brasil   \n",
       "26            São Paulo  Brasil   \n",
       "27           Pernambuco  Brasil   \n",
       "28            São Paulo  Brasil   \n",
       "29         Minas Gerais  Brasil   \n",
       "30            São Paulo  Brasil   \n",
       "31            São Paulo  Brasil   \n",
       "32         Minas Gerais  Brasil   \n",
       "33             Maranhão  Brasil   \n",
       "34         Minas Gerais  Brasil   \n",
       "35                Bahia  Brasil   \n",
       "36                Bahia  Brasil   \n",
       "37            São Paulo  Brasil   \n",
       "38               Paraná  Brasil   \n",
       "39       Santa Catarina  Brasil   \n",
       "40  Dado Não Disponível  Brasil   \n",
       "41  Dado Não Disponível  Brasil   \n",
       "42  Dado Não Disponível   Chile   \n",
       "43  Dado Não Disponível  Brasil   \n",
       "44  Dado Não Disponível  Brasil   \n",
       "45  Dado Não Disponível  Brasil   \n",
       "46            São Paulo  Brasil   \n",
       "47  Dado Não Disponível  Brasil   \n",
       "48  Dado Não Disponível  Brasil   \n",
       "49  Dado Não Disponível  Brasil   \n",
       "\n",
       "                                               jobUrl  \\\n",
       "0   https://vivo.gupy.io/job/eyJqb2JJZCI6ODI5OTUzN...   \n",
       "1   https://vagasnutrien.gupy.io/job/eyJqb2JJZCI6O...   \n",
       "2   https://credsystem.gupy.io/job/eyJqb2JJZCI6ODI...   \n",
       "3   https://anbima.gupy.io/job/eyJqb2JJZCI6ODI2NzY...   \n",
       "4   https://vemserguess.gupy.io/job/eyJqb2JJZCI6OD...   \n",
       "5   https://darede.gupy.io/job/eyJqb2JJZCI6ODIzMDY...   \n",
       "6   https://bmg.gupy.io/job/eyJqb2JJZCI6ODI1NTM3My...   \n",
       "7   https://brisanet.gupy.io/job/eyJqb2JJZCI6ODI3M...   \n",
       "8   https://leega.gupy.io/job/eyJqb2JJZCI6ODI5NTQ2...   \n",
       "9   https://leega.gupy.io/job/eyJqb2JJZCI6ODI5NTcy...   \n",
       "10  https://tivit.gupy.io/job/eyJqb2JJZCI6ODI1OTE1...   \n",
       "11  https://minsait.gupy.io/job/eyJqb2JJZCI6ODI1MD...   \n",
       "12  https://hypnobox.gupy.io/job/eyJqb2JJZCI6ODI2N...   \n",
       "13  https://villelabrasilbank.gupy.io/job/eyJqb2JJ...   \n",
       "14  https://akross.gupy.io/job/eyJqb2JJZCI6ODIzOTE...   \n",
       "15  https://autoglassestagio.gupy.io/job/eyJqb2JJZ...   \n",
       "16  https://1doc.gupy.io/job/eyJqb2JJZCI6ODI1NjE2M...   \n",
       "17  https://verity.gupy.io/job/eyJqb2JJZCI6ODIzMjA...   \n",
       "18  https://1doc.gupy.io/job/eyJqb2JJZCI6ODIyNTk5M...   \n",
       "19  https://dwsbrazil.gupy.io/job/eyJqb2JJZCI6ODIy...   \n",
       "20  https://csn.gupy.io/job/eyJqb2JJZCI6ODI4ODc3NC...   \n",
       "21  https://ibmec.gupy.io/job/eyJqb2JJZCI6ODI5NDYw...   \n",
       "22  https://saintgobainppc.gupy.io/job/eyJqb2JJZCI...   \n",
       "23  https://setoreducacao.gupy.io/job/eyJqb2JJZCI6...   \n",
       "24  https://cogna.gupy.io/job/eyJqb2JJZCI6ODI3NDEw...   \n",
       "25  https://cialne.gupy.io/job/eyJqb2JJZCI6ODI1NDU...   \n",
       "26  https://simpar.gupy.io/job/eyJqb2JJZCI6ODI5MjE...   \n",
       "27  https://rededamas.gupy.io/job/eyJqb2JJZCI6ODI5...   \n",
       "28  https://cocacolafemsabr.gupy.io/job/eyJqb2JJZC...   \n",
       "29  https://vagas-mrveco.gupy.io/job/eyJqb2JJZCI6O...   \n",
       "30  https://sejaesm.gupy.io/job/eyJqb2JJZCI6ODI5OT...   \n",
       "31  https://assai.gupy.io/job/eyJqb2JJZCI6ODI5Nzgw...   \n",
       "32  https://vilanova.gupy.io/job/eyJqb2JJZCI6ODI5N...   \n",
       "33  https://logos-ma.gupy.io/job/eyJqb2JJZCI6ODI0N...   \n",
       "34  https://sankhya.gupy.io/job/eyJqb2JJZCI6ODI5Nj...   \n",
       "35  https://confidencial_vagas.gupy.io/job/eyJqb2J...   \n",
       "36  https://conexaotalento.gupy.io/job/eyJqb2JJZCI...   \n",
       "37  https://bauducco.gupy.io/job/eyJqb2JJZCI6ODI4N...   \n",
       "38  https://bellinatiperez.gupy.io/job/eyJqb2JJZCI...   \n",
       "39  https://paytrack.gupy.io/job/eyJqb2JJZCI6ODI5N...   \n",
       "40  https://softplan.gupy.io/job/eyJqb2JJZCI6ODE4N...   \n",
       "41  https://vemserolxbrasil.gupy.io/job/eyJqb2JJZC...   \n",
       "42  https://tivitlatam.gupy.io/job/eyJqb2JJZCI6ODI...   \n",
       "43  https://minsait.gupy.io/job/eyJqb2JJZCI6ODIxNz...   \n",
       "44  https://minsait.gupy.io/job/eyJqb2JJZCI6ODIxNz...   \n",
       "45  https://grupoboticario.gupy.io/job/eyJqb2JJZCI...   \n",
       "46  https://leomadeiras.gupy.io/job/eyJqb2JJZCI6OD...   \n",
       "47  https://fcamara.gupy.io/job/eyJqb2JJZCI6ODIzOT...   \n",
       "48  https://montreal.gupy.io/job/eyJqb2JJZCI6ODIyO...   \n",
       "49  https://casarcom.gupy.io/job/eyJqb2JJZCI6ODIyM...   \n",
       "\n",
       "                      badges disabilities  workplaceType  \\\n",
       "0    {'friendlyBadge': True}         True         hybrid   \n",
       "1    {'friendlyBadge': True}         True        on-site   \n",
       "2   {'friendlyBadge': False}        False         hybrid   \n",
       "3   {'friendlyBadge': False}         True         hybrid   \n",
       "4   {'friendlyBadge': False}        False        on-site   \n",
       "5    {'friendlyBadge': True}         True         remote   \n",
       "6    {'friendlyBadge': True}         True         hybrid   \n",
       "7    {'friendlyBadge': True}         True         remote   \n",
       "8    {'friendlyBadge': True}        False         remote   \n",
       "9    {'friendlyBadge': True}        False         remote   \n",
       "10   {'friendlyBadge': True}         True         remote   \n",
       "11   {'friendlyBadge': True}         True         remote   \n",
       "12   {'friendlyBadge': True}         True         hybrid   \n",
       "13   {'friendlyBadge': True}        False        on-site   \n",
       "14   {'friendlyBadge': True}         True         hybrid   \n",
       "15   {'friendlyBadge': True}         True        on-site   \n",
       "16   {'friendlyBadge': True}        False         remote   \n",
       "17   {'friendlyBadge': True}         True         remote   \n",
       "18   {'friendlyBadge': True}        False         remote   \n",
       "19  {'friendlyBadge': False}         True         remote   \n",
       "20   {'friendlyBadge': True}        False        on-site   \n",
       "21   {'friendlyBadge': True}         True        on-site   \n",
       "22  {'friendlyBadge': False}         True         hybrid   \n",
       "23   {'friendlyBadge': True}         True        on-site   \n",
       "24   {'friendlyBadge': True}         True        on-site   \n",
       "25   {'friendlyBadge': True}         True        on-site   \n",
       "26   {'friendlyBadge': True}         True        on-site   \n",
       "27  {'friendlyBadge': False}         True        on-site   \n",
       "28  {'friendlyBadge': False}        False        on-site   \n",
       "29   {'friendlyBadge': True}         True        on-site   \n",
       "30   {'friendlyBadge': True}         True        on-site   \n",
       "31  {'friendlyBadge': False}         True        on-site   \n",
       "32   {'friendlyBadge': True}         True        on-site   \n",
       "33   {'friendlyBadge': True}         True        on-site   \n",
       "34   {'friendlyBadge': True}         True         hybrid   \n",
       "35  {'friendlyBadge': False}         True        on-site   \n",
       "36   {'friendlyBadge': True}         True        on-site   \n",
       "37   {'friendlyBadge': True}        False        on-site   \n",
       "38   {'friendlyBadge': True}         True        on-site   \n",
       "39   {'friendlyBadge': True}         True        on-site   \n",
       "40   {'friendlyBadge': True}         True         remote   \n",
       "41   {'friendlyBadge': True}         True         remote   \n",
       "42   {'friendlyBadge': True}        False         remote   \n",
       "43   {'friendlyBadge': True}         True         remote   \n",
       "44   {'friendlyBadge': True}         True         remote   \n",
       "45   {'friendlyBadge': True}         True         remote   \n",
       "46  {'friendlyBadge': False}        False         hybrid   \n",
       "47   {'friendlyBadge': True}         True         remote   \n",
       "48   {'friendlyBadge': True}         True         remote   \n",
       "49   {'friendlyBadge': True}        False         remote   \n",
       "\n",
       "                                        careerPageUrl job_type  \\\n",
       "0   https://vivo.gupy.io/eyJzb3VyY2UiOiJndXB5X3Bvc...    DADOS   \n",
       "1   https://vagasnutrien.gupy.io/eyJzb3VyY2UiOiJnd...    DADOS   \n",
       "2   https://credsystem.gupy.io/eyJzb3VyY2UiOiJndXB...    DADOS   \n",
       "3   https://anbima.gupy.io/eyJzb3VyY2UiOiJndXB5X3B...    DADOS   \n",
       "4   https://vemserguess.gupy.io/eyJzb3VyY2UiOiJndX...    DADOS   \n",
       "5   https://darede.gupy.io/eyJzb3VyY2UiOiJndXB5X3B...    DADOS   \n",
       "6   https://bmg.gupy.io/eyJzb3VyY2UiOiJndXB5X3Bvcn...    DADOS   \n",
       "7   https://brisanet.gupy.io/eyJzb3VyY2UiOiJndXB5X...    DADOS   \n",
       "8   https://leega.gupy.io/eyJzb3VyY2UiOiJndXB5X3Bv...    DADOS   \n",
       "9   https://leega.gupy.io/eyJzb3VyY2UiOiJndXB5X3Bv...    DADOS   \n",
       "10  https://tivit.gupy.io/eyJzb3VyY2UiOiJndXB5X3Bv...    UX/UI   \n",
       "11  https://minsait.gupy.io/eyJzb3VyY2UiOiJndXB5X3...    UX/UI   \n",
       "12  https://hypnobox.gupy.io/eyJzb3VyY2UiOiJndXB5X...    UX/UI   \n",
       "13  https://villelabrasilbank.gupy.io/eyJzb3VyY2Ui...    UX/UI   \n",
       "14  https://akross.gupy.io/eyJzb3VyY2UiOiJndXB5X3B...    UX/UI   \n",
       "15  https://autoglassestagio.gupy.io/eyJzb3VyY2UiO...    UX/UI   \n",
       "16  https://1doc.gupy.io/eyJzb3VyY2UiOiJndXB5X3Bvc...    UX/UI   \n",
       "17  https://verity.gupy.io/eyJzb3VyY2UiOiJndXB5X3B...    UX/UI   \n",
       "18  https://1doc.gupy.io/eyJzb3VyY2UiOiJndXB5X3Bvc...    UX/UI   \n",
       "19  https://dwsbrazil.gupy.io/eyJzb3VyY2UiOiJndXB5...    UX/UI   \n",
       "20  https://csn.gupy.io/eyJzb3VyY2UiOiJndXB5X3Bvcn...      ADM   \n",
       "21  https://ibmec.gupy.io/eyJzb3VyY2UiOiJndXB5X3Bv...      ADM   \n",
       "22  https://saintgobainppc.gupy.io/eyJzb3VyY2UiOiJ...      ADM   \n",
       "23  https://setoreducacao.gupy.io/eyJzb3VyY2UiOiJn...      ADM   \n",
       "24  https://cogna.gupy.io/eyJzb3VyY2UiOiJndXB5X3Bv...      ADM   \n",
       "25  https://cialne.gupy.io/eyJzb3VyY2UiOiJndXB5X3B...      ADM   \n",
       "26  https://simpar.gupy.io/eyJzb3VyY2UiOiJndXB5X3B...      ADM   \n",
       "27  https://rededamas.gupy.io/eyJzb3VyY2UiOiJndXB5...      ADM   \n",
       "28  https://cocacolafemsabr.gupy.io/eyJzb3VyY2UiOi...      ADM   \n",
       "29  https://vagas-mrveco.gupy.io/eyJzb3VyY2UiOiJnd...      ADM   \n",
       "30  https://sejaesm.gupy.io/eyJzb3VyY2UiOiJndXB5X3...       RH   \n",
       "31  https://assai.gupy.io/eyJzb3VyY2UiOiJndXB5X3Bv...       RH   \n",
       "32  https://vilanova.gupy.io/eyJzb3VyY2UiOiJndXB5X...       RH   \n",
       "33  https://logos-ma.gupy.io/eyJzb3VyY2UiOiJndXB5X...       RH   \n",
       "34  https://sankhya.gupy.io/eyJzb3VyY2UiOiJndXB5X3...       RH   \n",
       "35                                Dado Não Disponível       RH   \n",
       "36  https://conexaotalento.gupy.io/eyJzb3VyY2UiOiJ...       RH   \n",
       "37  https://bauducco.gupy.io/eyJzb3VyY2UiOiJndXB5X...       RH   \n",
       "38  https://bellinatiperez.gupy.io/eyJzb3VyY2UiOiJ...       RH   \n",
       "39  https://paytrack.gupy.io/eyJzb3VyY2UiOiJndXB5X...       RH   \n",
       "40  https://softplan.gupy.io/eyJzb3VyY2UiOiJndXB5X...   FRTEND   \n",
       "41  https://vemserolxbrasil.gupy.io/eyJzb3VyY2UiOi...   FRTEND   \n",
       "42  https://tivitlatam.gupy.io/eyJzb3VyY2UiOiJndXB...   FRTEND   \n",
       "43  https://minsait.gupy.io/eyJzb3VyY2UiOiJndXB5X3...   FRTEND   \n",
       "44  https://minsait.gupy.io/eyJzb3VyY2UiOiJndXB5X3...   FRTEND   \n",
       "45  https://grupoboticario.gupy.io/eyJzb3VyY2UiOiJ...   FRTEND   \n",
       "46  https://leomadeiras.gupy.io/eyJzb3VyY2UiOiJndX...   FRTEND   \n",
       "47  https://fcamara.gupy.io/eyJzb3VyY2UiOiJndXB5X3...   FRTEND   \n",
       "48  https://montreal.gupy.io/eyJzb3VyY2UiOiJndXB5X...   FRTEND   \n",
       "49  https://casarcom.gupy.io/eyJzb3VyY2UiOiJndXB5X...   FRTEND   \n",
       "\n",
       "               experience  \n",
       "0   DADO NÃO IDENTIFICADO  \n",
       "1                  JUNIOR  \n",
       "2                 ESTAGIO  \n",
       "3                  SENIOR  \n",
       "4   DADO NÃO IDENTIFICADO  \n",
       "5                   PLENO  \n",
       "6                  JUNIOR  \n",
       "7   DADO NÃO IDENTIFICADO  \n",
       "8                  SENIOR  \n",
       "9                   PLENO  \n",
       "10                 SENIOR  \n",
       "11                 SENIOR  \n",
       "12  DADO NÃO IDENTIFICADO  \n",
       "13  DADO NÃO IDENTIFICADO  \n",
       "14                 SENIOR  \n",
       "15                ESTAGIO  \n",
       "16                 JUNIOR  \n",
       "17                 SENIOR  \n",
       "18                  PLENO  \n",
       "19                 SENIOR  \n",
       "20                 JUNIOR  \n",
       "21  DADO NÃO IDENTIFICADO  \n",
       "22                ESTAGIO  \n",
       "23  DADO NÃO IDENTIFICADO  \n",
       "24  DADO NÃO IDENTIFICADO  \n",
       "25                ESTAGIO  \n",
       "26  DADO NÃO IDENTIFICADO  \n",
       "27                ESTAGIO  \n",
       "28                  PLENO  \n",
       "29                ESTAGIO  \n",
       "30  DADO NÃO IDENTIFICADO  \n",
       "31  DADO NÃO IDENTIFICADO  \n",
       "32  DADO NÃO IDENTIFICADO  \n",
       "33  DADO NÃO IDENTIFICADO  \n",
       "34                 JUNIOR  \n",
       "35  DADO NÃO IDENTIFICADO  \n",
       "36                ESTAGIO  \n",
       "37                  PLENO  \n",
       "38  DADO NÃO IDENTIFICADO  \n",
       "39  DADO NÃO IDENTIFICADO  \n",
       "40  DADO NÃO IDENTIFICADO  \n",
       "41                 JUNIOR  \n",
       "42  DADO NÃO IDENTIFICADO  \n",
       "43  DADO NÃO IDENTIFICADO  \n",
       "44  DADO NÃO IDENTIFICADO  \n",
       "45  DADO NÃO IDENTIFICADO  \n",
       "46                 JUNIOR  \n",
       "47                 SENIOR  \n",
       "48                 SENIOR  \n",
       "49                  PLENO  \n",
       "\n",
       "[50 rows x 21 columns]"
      ]
     },
     "execution_count": 128,
     "metadata": {},
     "output_type": "execute_result"
    }
   ],
   "source": [
    "df_jobs"
   ]
  },
  {
   "cell_type": "code",
   "execution_count": 25,
   "metadata": {},
   "outputs": [
    {
     "data": {
      "text/html": [
       "<div>\n",
       "<style scoped>\n",
       "    .dataframe tbody tr th:only-of-type {\n",
       "        vertical-align: middle;\n",
       "    }\n",
       "\n",
       "    .dataframe tbody tr th {\n",
       "        vertical-align: top;\n",
       "    }\n",
       "\n",
       "    .dataframe thead th {\n",
       "        text-align: right;\n",
       "    }\n",
       "</style>\n",
       "<table border=\"1\" class=\"dataframe\">\n",
       "  <thead>\n",
       "    <tr style=\"text-align: right;\">\n",
       "      <th></th>\n",
       "      <th>state</th>\n",
       "      <th>job_type</th>\n",
       "      <th>workplaceType</th>\n",
       "      <th>workplace_type_count</th>\n",
       "    </tr>\n",
       "  </thead>\n",
       "  <tbody>\n",
       "    <tr>\n",
       "      <th>0</th>\n",
       "      <td>Ceará</td>\n",
       "      <td>DADOS</td>\n",
       "      <td>on-site</td>\n",
       "      <td>1</td>\n",
       "    </tr>\n",
       "    <tr>\n",
       "      <th>1</th>\n",
       "      <td>Ceará</td>\n",
       "      <td>RH</td>\n",
       "      <td>on-site</td>\n",
       "      <td>1</td>\n",
       "    </tr>\n",
       "    <tr>\n",
       "      <th>2</th>\n",
       "      <td>Dado Não Disponível</td>\n",
       "      <td>DADOS</td>\n",
       "      <td>remote</td>\n",
       "      <td>1</td>\n",
       "    </tr>\n",
       "    <tr>\n",
       "      <th>3</th>\n",
       "      <td>Dado Não Disponível</td>\n",
       "      <td>FRTEND</td>\n",
       "      <td>remote</td>\n",
       "      <td>8</td>\n",
       "    </tr>\n",
       "    <tr>\n",
       "      <th>4</th>\n",
       "      <td>Dado Não Disponível</td>\n",
       "      <td>UX/UI</td>\n",
       "      <td>remote</td>\n",
       "      <td>5</td>\n",
       "    </tr>\n",
       "    <tr>\n",
       "      <th>5</th>\n",
       "      <td>Distrito Federal</td>\n",
       "      <td>ADM</td>\n",
       "      <td>on-site</td>\n",
       "      <td>1</td>\n",
       "    </tr>\n",
       "    <tr>\n",
       "      <th>6</th>\n",
       "      <td>Espírito Santo</td>\n",
       "      <td>ADM</td>\n",
       "      <td>on-site</td>\n",
       "      <td>1</td>\n",
       "    </tr>\n",
       "    <tr>\n",
       "      <th>7</th>\n",
       "      <td>Espírito Santo</td>\n",
       "      <td>UX/UI</td>\n",
       "      <td>on-site</td>\n",
       "      <td>1</td>\n",
       "    </tr>\n",
       "    <tr>\n",
       "      <th>8</th>\n",
       "      <td>Goiás</td>\n",
       "      <td>ADM</td>\n",
       "      <td>on-site</td>\n",
       "      <td>1</td>\n",
       "    </tr>\n",
       "    <tr>\n",
       "      <th>9</th>\n",
       "      <td>Mato Grosso do Sul</td>\n",
       "      <td>DADOS</td>\n",
       "      <td>on-site</td>\n",
       "      <td>1</td>\n",
       "    </tr>\n",
       "    <tr>\n",
       "      <th>10</th>\n",
       "      <td>Mato Grosso do Sul</td>\n",
       "      <td>RH</td>\n",
       "      <td>on-site</td>\n",
       "      <td>1</td>\n",
       "    </tr>\n",
       "    <tr>\n",
       "      <th>11</th>\n",
       "      <td>Minas Gerais</td>\n",
       "      <td>ADM</td>\n",
       "      <td>on-site</td>\n",
       "      <td>3</td>\n",
       "    </tr>\n",
       "    <tr>\n",
       "      <th>12</th>\n",
       "      <td>Minas Gerais</td>\n",
       "      <td>DADOS</td>\n",
       "      <td>hybrid</td>\n",
       "      <td>1</td>\n",
       "    </tr>\n",
       "    <tr>\n",
       "      <th>13</th>\n",
       "      <td>Minas Gerais</td>\n",
       "      <td>RH</td>\n",
       "      <td>on-site</td>\n",
       "      <td>1</td>\n",
       "    </tr>\n",
       "    <tr>\n",
       "      <th>14</th>\n",
       "      <td>Paraná</td>\n",
       "      <td>RH</td>\n",
       "      <td>on-site</td>\n",
       "      <td>3</td>\n",
       "    </tr>\n",
       "    <tr>\n",
       "      <th>15</th>\n",
       "      <td>Rio Grande do Sul</td>\n",
       "      <td>ADM</td>\n",
       "      <td>on-site</td>\n",
       "      <td>1</td>\n",
       "    </tr>\n",
       "    <tr>\n",
       "      <th>16</th>\n",
       "      <td>Rio Grande do Sul</td>\n",
       "      <td>DADOS</td>\n",
       "      <td>hybrid</td>\n",
       "      <td>1</td>\n",
       "    </tr>\n",
       "    <tr>\n",
       "      <th>17</th>\n",
       "      <td>Rio Grande do Sul</td>\n",
       "      <td>UX/UI</td>\n",
       "      <td>on-site</td>\n",
       "      <td>1</td>\n",
       "    </tr>\n",
       "    <tr>\n",
       "      <th>18</th>\n",
       "      <td>Rio de Janeiro</td>\n",
       "      <td>DADOS</td>\n",
       "      <td>hybrid</td>\n",
       "      <td>1</td>\n",
       "    </tr>\n",
       "    <tr>\n",
       "      <th>19</th>\n",
       "      <td>Santa Catarina</td>\n",
       "      <td>DADOS</td>\n",
       "      <td>hybrid</td>\n",
       "      <td>1</td>\n",
       "    </tr>\n",
       "    <tr>\n",
       "      <th>20</th>\n",
       "      <td>Santa Catarina</td>\n",
       "      <td>DADOS</td>\n",
       "      <td>on-site</td>\n",
       "      <td>1</td>\n",
       "    </tr>\n",
       "    <tr>\n",
       "      <th>21</th>\n",
       "      <td>Santa Catarina</td>\n",
       "      <td>FRTEND</td>\n",
       "      <td>hybrid</td>\n",
       "      <td>1</td>\n",
       "    </tr>\n",
       "    <tr>\n",
       "      <th>22</th>\n",
       "      <td>Santa Catarina</td>\n",
       "      <td>RH</td>\n",
       "      <td>on-site</td>\n",
       "      <td>1</td>\n",
       "    </tr>\n",
       "    <tr>\n",
       "      <th>23</th>\n",
       "      <td>São Paulo</td>\n",
       "      <td>ADM</td>\n",
       "      <td>on-site</td>\n",
       "      <td>2</td>\n",
       "    </tr>\n",
       "    <tr>\n",
       "      <th>24</th>\n",
       "      <td>São Paulo</td>\n",
       "      <td>ADM</td>\n",
       "      <td>hybrid</td>\n",
       "      <td>1</td>\n",
       "    </tr>\n",
       "    <tr>\n",
       "      <th>25</th>\n",
       "      <td>São Paulo</td>\n",
       "      <td>DADOS</td>\n",
       "      <td>hybrid</td>\n",
       "      <td>1</td>\n",
       "    </tr>\n",
       "    <tr>\n",
       "      <th>26</th>\n",
       "      <td>São Paulo</td>\n",
       "      <td>DADOS</td>\n",
       "      <td>on-site</td>\n",
       "      <td>1</td>\n",
       "    </tr>\n",
       "    <tr>\n",
       "      <th>27</th>\n",
       "      <td>São Paulo</td>\n",
       "      <td>FRTEND</td>\n",
       "      <td>hybrid</td>\n",
       "      <td>1</td>\n",
       "    </tr>\n",
       "    <tr>\n",
       "      <th>28</th>\n",
       "      <td>São Paulo</td>\n",
       "      <td>RH</td>\n",
       "      <td>on-site</td>\n",
       "      <td>2</td>\n",
       "    </tr>\n",
       "    <tr>\n",
       "      <th>29</th>\n",
       "      <td>São Paulo</td>\n",
       "      <td>RH</td>\n",
       "      <td>hybrid</td>\n",
       "      <td>1</td>\n",
       "    </tr>\n",
       "    <tr>\n",
       "      <th>30</th>\n",
       "      <td>São Paulo</td>\n",
       "      <td>UX/UI</td>\n",
       "      <td>hybrid</td>\n",
       "      <td>3</td>\n",
       "    </tr>\n",
       "  </tbody>\n",
       "</table>\n",
       "</div>"
      ],
      "text/plain": [
       "                  state job_type workplaceType  workplace_type_count\n",
       "0                 Ceará    DADOS       on-site                     1\n",
       "1                 Ceará       RH       on-site                     1\n",
       "2   Dado Não Disponível    DADOS        remote                     1\n",
       "3   Dado Não Disponível   FRTEND        remote                     8\n",
       "4   Dado Não Disponível    UX/UI        remote                     5\n",
       "5      Distrito Federal      ADM       on-site                     1\n",
       "6        Espírito Santo      ADM       on-site                     1\n",
       "7        Espírito Santo    UX/UI       on-site                     1\n",
       "8                 Goiás      ADM       on-site                     1\n",
       "9    Mato Grosso do Sul    DADOS       on-site                     1\n",
       "10   Mato Grosso do Sul       RH       on-site                     1\n",
       "11         Minas Gerais      ADM       on-site                     3\n",
       "12         Minas Gerais    DADOS        hybrid                     1\n",
       "13         Minas Gerais       RH       on-site                     1\n",
       "14               Paraná       RH       on-site                     3\n",
       "15    Rio Grande do Sul      ADM       on-site                     1\n",
       "16    Rio Grande do Sul    DADOS        hybrid                     1\n",
       "17    Rio Grande do Sul    UX/UI       on-site                     1\n",
       "18       Rio de Janeiro    DADOS        hybrid                     1\n",
       "19       Santa Catarina    DADOS        hybrid                     1\n",
       "20       Santa Catarina    DADOS       on-site                     1\n",
       "21       Santa Catarina   FRTEND        hybrid                     1\n",
       "22       Santa Catarina       RH       on-site                     1\n",
       "23            São Paulo      ADM       on-site                     2\n",
       "24            São Paulo      ADM        hybrid                     1\n",
       "25            São Paulo    DADOS        hybrid                     1\n",
       "26            São Paulo    DADOS       on-site                     1\n",
       "27            São Paulo   FRTEND        hybrid                     1\n",
       "28            São Paulo       RH       on-site                     2\n",
       "29            São Paulo       RH        hybrid                     1\n",
       "30            São Paulo    UX/UI        hybrid                     3"
      ]
     },
     "execution_count": 25,
     "metadata": {},
     "output_type": "execute_result"
    }
   ],
   "source": [
    "df_jobs_workplace_type_count = (df_jobs.groupby(['state', 'job_type'])\n",
    "                .agg(\n",
    "                    workplace_type_count = ('workplaceType', 'value_counts')\n",
    "                ).reset_index()\n",
    "    )\n",
    "df_jobs_workplace_type_count"
   ]
  },
  {
   "cell_type": "code",
   "execution_count": 44,
   "metadata": {},
   "outputs": [
    {
     "ename": "ValueError",
     "evalue": "Mime type rendering requires nbformat>=4.2.0 but it is not installed",
     "output_type": "error",
     "traceback": [
      "\u001b[1;31m---------------------------------------------------------------------------\u001b[0m",
      "\u001b[1;31mValueError\u001b[0m                                Traceback (most recent call last)",
      "File \u001b[1;32mc:\\Users\\sbelo\\Documents\\vscode\\python\\estudo\\gupy_web_app\\.venv\\Lib\\site-packages\\IPython\\core\\formatters.py:984\u001b[0m, in \u001b[0;36mIPythonDisplayFormatter.__call__\u001b[1;34m(self, obj)\u001b[0m\n\u001b[0;32m    982\u001b[0m method \u001b[38;5;241m=\u001b[39m get_real_method(obj, \u001b[38;5;28mself\u001b[39m\u001b[38;5;241m.\u001b[39mprint_method)\n\u001b[0;32m    983\u001b[0m \u001b[38;5;28;01mif\u001b[39;00m method \u001b[38;5;129;01mis\u001b[39;00m \u001b[38;5;129;01mnot\u001b[39;00m \u001b[38;5;28;01mNone\u001b[39;00m:\n\u001b[1;32m--> 984\u001b[0m     \u001b[43mmethod\u001b[49m\u001b[43m(\u001b[49m\u001b[43m)\u001b[49m\n\u001b[0;32m    985\u001b[0m     \u001b[38;5;28;01mreturn\u001b[39;00m \u001b[38;5;28;01mTrue\u001b[39;00m\n",
      "File \u001b[1;32mc:\\Users\\sbelo\\Documents\\vscode\\python\\estudo\\gupy_web_app\\.venv\\Lib\\site-packages\\plotly\\basedatatypes.py:832\u001b[0m, in \u001b[0;36mBaseFigure._ipython_display_\u001b[1;34m(self)\u001b[0m\n\u001b[0;32m    829\u001b[0m \u001b[38;5;28;01mimport\u001b[39;00m \u001b[38;5;21;01mplotly\u001b[39;00m\u001b[38;5;21;01m.\u001b[39;00m\u001b[38;5;21;01mio\u001b[39;00m \u001b[38;5;28;01mas\u001b[39;00m \u001b[38;5;21;01mpio\u001b[39;00m\n\u001b[0;32m    831\u001b[0m \u001b[38;5;28;01mif\u001b[39;00m pio\u001b[38;5;241m.\u001b[39mrenderers\u001b[38;5;241m.\u001b[39mrender_on_display \u001b[38;5;129;01mand\u001b[39;00m pio\u001b[38;5;241m.\u001b[39mrenderers\u001b[38;5;241m.\u001b[39mdefault:\n\u001b[1;32m--> 832\u001b[0m     \u001b[43mpio\u001b[49m\u001b[38;5;241;43m.\u001b[39;49m\u001b[43mshow\u001b[49m\u001b[43m(\u001b[49m\u001b[38;5;28;43mself\u001b[39;49m\u001b[43m)\u001b[49m\n\u001b[0;32m    833\u001b[0m \u001b[38;5;28;01melse\u001b[39;00m:\n\u001b[0;32m    834\u001b[0m     \u001b[38;5;28mprint\u001b[39m(\u001b[38;5;28mrepr\u001b[39m(\u001b[38;5;28mself\u001b[39m))\n",
      "File \u001b[1;32mc:\\Users\\sbelo\\Documents\\vscode\\python\\estudo\\gupy_web_app\\.venv\\Lib\\site-packages\\plotly\\io\\_renderers.py:394\u001b[0m, in \u001b[0;36mshow\u001b[1;34m(fig, renderer, validate, **kwargs)\u001b[0m\n\u001b[0;32m    389\u001b[0m         \u001b[38;5;28;01mraise\u001b[39;00m \u001b[38;5;167;01mValueError\u001b[39;00m(\n\u001b[0;32m    390\u001b[0m             \u001b[38;5;124m\"\u001b[39m\u001b[38;5;124mMime type rendering requires ipython but it is not installed\u001b[39m\u001b[38;5;124m\"\u001b[39m\n\u001b[0;32m    391\u001b[0m         )\n\u001b[0;32m    393\u001b[0m     \u001b[38;5;28;01mif\u001b[39;00m \u001b[38;5;129;01mnot\u001b[39;00m nbformat \u001b[38;5;129;01mor\u001b[39;00m Version(nbformat\u001b[38;5;241m.\u001b[39m__version__) \u001b[38;5;241m<\u001b[39m Version(\u001b[38;5;124m\"\u001b[39m\u001b[38;5;124m4.2.0\u001b[39m\u001b[38;5;124m\"\u001b[39m):\n\u001b[1;32m--> 394\u001b[0m         \u001b[38;5;28;01mraise\u001b[39;00m \u001b[38;5;167;01mValueError\u001b[39;00m(\n\u001b[0;32m    395\u001b[0m             \u001b[38;5;124m\"\u001b[39m\u001b[38;5;124mMime type rendering requires nbformat>=4.2.0 but it is not installed\u001b[39m\u001b[38;5;124m\"\u001b[39m\n\u001b[0;32m    396\u001b[0m         )\n\u001b[0;32m    398\u001b[0m     ipython_display\u001b[38;5;241m.\u001b[39mdisplay(bundle, raw\u001b[38;5;241m=\u001b[39m\u001b[38;5;28;01mTrue\u001b[39;00m)\n\u001b[0;32m    400\u001b[0m \u001b[38;5;66;03m# external renderers\u001b[39;00m\n",
      "\u001b[1;31mValueError\u001b[0m: Mime type rendering requires nbformat>=4.2.0 but it is not installed"
     ]
    },
    {
     "data": {
      "application/vnd.plotly.v1+json": {
       "config": {
        "plotlyServerURL": "https://plot.ly"
       },
       "data": [
        {
         "alignmentgroup": "True",
         "bingroup": "x",
         "histfunc": "sum",
         "hovertemplate": "job_type=DADOS<br>workplaceType=%{x}<br>sum of workplace_type_count=%{y}<extra></extra>",
         "legendgroup": "DADOS",
         "marker": {
          "color": "#636efa",
          "pattern": {
           "shape": ""
          }
         },
         "name": "DADOS",
         "offsetgroup": "DADOS",
         "orientation": "v",
         "showlegend": true,
         "type": "histogram",
         "x": [
          "on-site",
          "remote",
          "on-site",
          "hybrid",
          "hybrid",
          "hybrid",
          "hybrid",
          "on-site",
          "hybrid",
          "on-site"
         ],
         "xaxis": "x",
         "y": [
          1,
          1,
          1,
          1,
          1,
          1,
          1,
          1,
          1,
          1
         ],
         "yaxis": "y"
        },
        {
         "alignmentgroup": "True",
         "bingroup": "x",
         "histfunc": "sum",
         "hovertemplate": "job_type=RH<br>workplaceType=%{x}<br>sum of workplace_type_count=%{y}<extra></extra>",
         "legendgroup": "RH",
         "marker": {
          "color": "#EF553B",
          "pattern": {
           "shape": ""
          }
         },
         "name": "RH",
         "offsetgroup": "RH",
         "orientation": "v",
         "showlegend": true,
         "type": "histogram",
         "x": [
          "on-site",
          "on-site",
          "on-site",
          "on-site",
          "on-site",
          "on-site",
          "hybrid"
         ],
         "xaxis": "x",
         "y": [
          1,
          1,
          1,
          3,
          1,
          2,
          1
         ],
         "yaxis": "y"
        },
        {
         "alignmentgroup": "True",
         "bingroup": "x",
         "histfunc": "sum",
         "hovertemplate": "job_type=FRTEND<br>workplaceType=%{x}<br>sum of workplace_type_count=%{y}<extra></extra>",
         "legendgroup": "FRTEND",
         "marker": {
          "color": "#00cc96",
          "pattern": {
           "shape": ""
          }
         },
         "name": "FRTEND",
         "offsetgroup": "FRTEND",
         "orientation": "v",
         "showlegend": true,
         "type": "histogram",
         "x": [
          "remote",
          "hybrid",
          "hybrid"
         ],
         "xaxis": "x",
         "y": [
          8,
          1,
          1
         ],
         "yaxis": "y"
        },
        {
         "alignmentgroup": "True",
         "bingroup": "x",
         "histfunc": "sum",
         "hovertemplate": "job_type=UX/UI<br>workplaceType=%{x}<br>sum of workplace_type_count=%{y}<extra></extra>",
         "legendgroup": "UX/UI",
         "marker": {
          "color": "#ab63fa",
          "pattern": {
           "shape": ""
          }
         },
         "name": "UX/UI",
         "offsetgroup": "UX/UI",
         "orientation": "v",
         "showlegend": true,
         "type": "histogram",
         "x": [
          "remote",
          "on-site",
          "on-site",
          "hybrid"
         ],
         "xaxis": "x",
         "y": [
          5,
          1,
          1,
          3
         ],
         "yaxis": "y"
        },
        {
         "alignmentgroup": "True",
         "bingroup": "x",
         "histfunc": "sum",
         "hovertemplate": "job_type=ADM<br>workplaceType=%{x}<br>sum of workplace_type_count=%{y}<extra></extra>",
         "legendgroup": "ADM",
         "marker": {
          "color": "#FFA15A",
          "pattern": {
           "shape": ""
          }
         },
         "name": "ADM",
         "offsetgroup": "ADM",
         "orientation": "v",
         "showlegend": true,
         "type": "histogram",
         "x": [
          "on-site",
          "on-site",
          "on-site",
          "on-site",
          "on-site",
          "on-site",
          "hybrid"
         ],
         "xaxis": "x",
         "y": [
          1,
          1,
          1,
          3,
          1,
          2,
          1
         ],
         "yaxis": "y"
        }
       ],
       "layout": {
        "barmode": "group",
        "legend": {
         "title": {
          "text": "job_type"
         },
         "tracegroupgap": 0
        },
        "margin": {
         "t": 60
        },
        "template": {
         "data": {
          "bar": [
           {
            "error_x": {
             "color": "#2a3f5f"
            },
            "error_y": {
             "color": "#2a3f5f"
            },
            "marker": {
             "line": {
              "color": "#E5ECF6",
              "width": 0.5
             },
             "pattern": {
              "fillmode": "overlay",
              "size": 10,
              "solidity": 0.2
             }
            },
            "type": "bar"
           }
          ],
          "barpolar": [
           {
            "marker": {
             "line": {
              "color": "#E5ECF6",
              "width": 0.5
             },
             "pattern": {
              "fillmode": "overlay",
              "size": 10,
              "solidity": 0.2
             }
            },
            "type": "barpolar"
           }
          ],
          "carpet": [
           {
            "aaxis": {
             "endlinecolor": "#2a3f5f",
             "gridcolor": "white",
             "linecolor": "white",
             "minorgridcolor": "white",
             "startlinecolor": "#2a3f5f"
            },
            "baxis": {
             "endlinecolor": "#2a3f5f",
             "gridcolor": "white",
             "linecolor": "white",
             "minorgridcolor": "white",
             "startlinecolor": "#2a3f5f"
            },
            "type": "carpet"
           }
          ],
          "choropleth": [
           {
            "colorbar": {
             "outlinewidth": 0,
             "ticks": ""
            },
            "type": "choropleth"
           }
          ],
          "contour": [
           {
            "colorbar": {
             "outlinewidth": 0,
             "ticks": ""
            },
            "colorscale": [
             [
              0,
              "#0d0887"
             ],
             [
              0.1111111111111111,
              "#46039f"
             ],
             [
              0.2222222222222222,
              "#7201a8"
             ],
             [
              0.3333333333333333,
              "#9c179e"
             ],
             [
              0.4444444444444444,
              "#bd3786"
             ],
             [
              0.5555555555555556,
              "#d8576b"
             ],
             [
              0.6666666666666666,
              "#ed7953"
             ],
             [
              0.7777777777777778,
              "#fb9f3a"
             ],
             [
              0.8888888888888888,
              "#fdca26"
             ],
             [
              1,
              "#f0f921"
             ]
            ],
            "type": "contour"
           }
          ],
          "contourcarpet": [
           {
            "colorbar": {
             "outlinewidth": 0,
             "ticks": ""
            },
            "type": "contourcarpet"
           }
          ],
          "heatmap": [
           {
            "colorbar": {
             "outlinewidth": 0,
             "ticks": ""
            },
            "colorscale": [
             [
              0,
              "#0d0887"
             ],
             [
              0.1111111111111111,
              "#46039f"
             ],
             [
              0.2222222222222222,
              "#7201a8"
             ],
             [
              0.3333333333333333,
              "#9c179e"
             ],
             [
              0.4444444444444444,
              "#bd3786"
             ],
             [
              0.5555555555555556,
              "#d8576b"
             ],
             [
              0.6666666666666666,
              "#ed7953"
             ],
             [
              0.7777777777777778,
              "#fb9f3a"
             ],
             [
              0.8888888888888888,
              "#fdca26"
             ],
             [
              1,
              "#f0f921"
             ]
            ],
            "type": "heatmap"
           }
          ],
          "heatmapgl": [
           {
            "colorbar": {
             "outlinewidth": 0,
             "ticks": ""
            },
            "colorscale": [
             [
              0,
              "#0d0887"
             ],
             [
              0.1111111111111111,
              "#46039f"
             ],
             [
              0.2222222222222222,
              "#7201a8"
             ],
             [
              0.3333333333333333,
              "#9c179e"
             ],
             [
              0.4444444444444444,
              "#bd3786"
             ],
             [
              0.5555555555555556,
              "#d8576b"
             ],
             [
              0.6666666666666666,
              "#ed7953"
             ],
             [
              0.7777777777777778,
              "#fb9f3a"
             ],
             [
              0.8888888888888888,
              "#fdca26"
             ],
             [
              1,
              "#f0f921"
             ]
            ],
            "type": "heatmapgl"
           }
          ],
          "histogram": [
           {
            "marker": {
             "pattern": {
              "fillmode": "overlay",
              "size": 10,
              "solidity": 0.2
             }
            },
            "type": "histogram"
           }
          ],
          "histogram2d": [
           {
            "colorbar": {
             "outlinewidth": 0,
             "ticks": ""
            },
            "colorscale": [
             [
              0,
              "#0d0887"
             ],
             [
              0.1111111111111111,
              "#46039f"
             ],
             [
              0.2222222222222222,
              "#7201a8"
             ],
             [
              0.3333333333333333,
              "#9c179e"
             ],
             [
              0.4444444444444444,
              "#bd3786"
             ],
             [
              0.5555555555555556,
              "#d8576b"
             ],
             [
              0.6666666666666666,
              "#ed7953"
             ],
             [
              0.7777777777777778,
              "#fb9f3a"
             ],
             [
              0.8888888888888888,
              "#fdca26"
             ],
             [
              1,
              "#f0f921"
             ]
            ],
            "type": "histogram2d"
           }
          ],
          "histogram2dcontour": [
           {
            "colorbar": {
             "outlinewidth": 0,
             "ticks": ""
            },
            "colorscale": [
             [
              0,
              "#0d0887"
             ],
             [
              0.1111111111111111,
              "#46039f"
             ],
             [
              0.2222222222222222,
              "#7201a8"
             ],
             [
              0.3333333333333333,
              "#9c179e"
             ],
             [
              0.4444444444444444,
              "#bd3786"
             ],
             [
              0.5555555555555556,
              "#d8576b"
             ],
             [
              0.6666666666666666,
              "#ed7953"
             ],
             [
              0.7777777777777778,
              "#fb9f3a"
             ],
             [
              0.8888888888888888,
              "#fdca26"
             ],
             [
              1,
              "#f0f921"
             ]
            ],
            "type": "histogram2dcontour"
           }
          ],
          "mesh3d": [
           {
            "colorbar": {
             "outlinewidth": 0,
             "ticks": ""
            },
            "type": "mesh3d"
           }
          ],
          "parcoords": [
           {
            "line": {
             "colorbar": {
              "outlinewidth": 0,
              "ticks": ""
             }
            },
            "type": "parcoords"
           }
          ],
          "pie": [
           {
            "automargin": true,
            "type": "pie"
           }
          ],
          "scatter": [
           {
            "fillpattern": {
             "fillmode": "overlay",
             "size": 10,
             "solidity": 0.2
            },
            "type": "scatter"
           }
          ],
          "scatter3d": [
           {
            "line": {
             "colorbar": {
              "outlinewidth": 0,
              "ticks": ""
             }
            },
            "marker": {
             "colorbar": {
              "outlinewidth": 0,
              "ticks": ""
             }
            },
            "type": "scatter3d"
           }
          ],
          "scattercarpet": [
           {
            "marker": {
             "colorbar": {
              "outlinewidth": 0,
              "ticks": ""
             }
            },
            "type": "scattercarpet"
           }
          ],
          "scattergeo": [
           {
            "marker": {
             "colorbar": {
              "outlinewidth": 0,
              "ticks": ""
             }
            },
            "type": "scattergeo"
           }
          ],
          "scattergl": [
           {
            "marker": {
             "colorbar": {
              "outlinewidth": 0,
              "ticks": ""
             }
            },
            "type": "scattergl"
           }
          ],
          "scattermapbox": [
           {
            "marker": {
             "colorbar": {
              "outlinewidth": 0,
              "ticks": ""
             }
            },
            "type": "scattermapbox"
           }
          ],
          "scatterpolar": [
           {
            "marker": {
             "colorbar": {
              "outlinewidth": 0,
              "ticks": ""
             }
            },
            "type": "scatterpolar"
           }
          ],
          "scatterpolargl": [
           {
            "marker": {
             "colorbar": {
              "outlinewidth": 0,
              "ticks": ""
             }
            },
            "type": "scatterpolargl"
           }
          ],
          "scatterternary": [
           {
            "marker": {
             "colorbar": {
              "outlinewidth": 0,
              "ticks": ""
             }
            },
            "type": "scatterternary"
           }
          ],
          "surface": [
           {
            "colorbar": {
             "outlinewidth": 0,
             "ticks": ""
            },
            "colorscale": [
             [
              0,
              "#0d0887"
             ],
             [
              0.1111111111111111,
              "#46039f"
             ],
             [
              0.2222222222222222,
              "#7201a8"
             ],
             [
              0.3333333333333333,
              "#9c179e"
             ],
             [
              0.4444444444444444,
              "#bd3786"
             ],
             [
              0.5555555555555556,
              "#d8576b"
             ],
             [
              0.6666666666666666,
              "#ed7953"
             ],
             [
              0.7777777777777778,
              "#fb9f3a"
             ],
             [
              0.8888888888888888,
              "#fdca26"
             ],
             [
              1,
              "#f0f921"
             ]
            ],
            "type": "surface"
           }
          ],
          "table": [
           {
            "cells": {
             "fill": {
              "color": "#EBF0F8"
             },
             "line": {
              "color": "white"
             }
            },
            "header": {
             "fill": {
              "color": "#C8D4E3"
             },
             "line": {
              "color": "white"
             }
            },
            "type": "table"
           }
          ]
         },
         "layout": {
          "annotationdefaults": {
           "arrowcolor": "#2a3f5f",
           "arrowhead": 0,
           "arrowwidth": 1
          },
          "autotypenumbers": "strict",
          "coloraxis": {
           "colorbar": {
            "outlinewidth": 0,
            "ticks": ""
           }
          },
          "colorscale": {
           "diverging": [
            [
             0,
             "#8e0152"
            ],
            [
             0.1,
             "#c51b7d"
            ],
            [
             0.2,
             "#de77ae"
            ],
            [
             0.3,
             "#f1b6da"
            ],
            [
             0.4,
             "#fde0ef"
            ],
            [
             0.5,
             "#f7f7f7"
            ],
            [
             0.6,
             "#e6f5d0"
            ],
            [
             0.7,
             "#b8e186"
            ],
            [
             0.8,
             "#7fbc41"
            ],
            [
             0.9,
             "#4d9221"
            ],
            [
             1,
             "#276419"
            ]
           ],
           "sequential": [
            [
             0,
             "#0d0887"
            ],
            [
             0.1111111111111111,
             "#46039f"
            ],
            [
             0.2222222222222222,
             "#7201a8"
            ],
            [
             0.3333333333333333,
             "#9c179e"
            ],
            [
             0.4444444444444444,
             "#bd3786"
            ],
            [
             0.5555555555555556,
             "#d8576b"
            ],
            [
             0.6666666666666666,
             "#ed7953"
            ],
            [
             0.7777777777777778,
             "#fb9f3a"
            ],
            [
             0.8888888888888888,
             "#fdca26"
            ],
            [
             1,
             "#f0f921"
            ]
           ],
           "sequentialminus": [
            [
             0,
             "#0d0887"
            ],
            [
             0.1111111111111111,
             "#46039f"
            ],
            [
             0.2222222222222222,
             "#7201a8"
            ],
            [
             0.3333333333333333,
             "#9c179e"
            ],
            [
             0.4444444444444444,
             "#bd3786"
            ],
            [
             0.5555555555555556,
             "#d8576b"
            ],
            [
             0.6666666666666666,
             "#ed7953"
            ],
            [
             0.7777777777777778,
             "#fb9f3a"
            ],
            [
             0.8888888888888888,
             "#fdca26"
            ],
            [
             1,
             "#f0f921"
            ]
           ]
          },
          "colorway": [
           "#636efa",
           "#EF553B",
           "#00cc96",
           "#ab63fa",
           "#FFA15A",
           "#19d3f3",
           "#FF6692",
           "#B6E880",
           "#FF97FF",
           "#FECB52"
          ],
          "font": {
           "color": "#2a3f5f"
          },
          "geo": {
           "bgcolor": "white",
           "lakecolor": "white",
           "landcolor": "#E5ECF6",
           "showlakes": true,
           "showland": true,
           "subunitcolor": "white"
          },
          "hoverlabel": {
           "align": "left"
          },
          "hovermode": "closest",
          "mapbox": {
           "style": "light"
          },
          "paper_bgcolor": "white",
          "plot_bgcolor": "#E5ECF6",
          "polar": {
           "angularaxis": {
            "gridcolor": "white",
            "linecolor": "white",
            "ticks": ""
           },
           "bgcolor": "#E5ECF6",
           "radialaxis": {
            "gridcolor": "white",
            "linecolor": "white",
            "ticks": ""
           }
          },
          "scene": {
           "xaxis": {
            "backgroundcolor": "#E5ECF6",
            "gridcolor": "white",
            "gridwidth": 2,
            "linecolor": "white",
            "showbackground": true,
            "ticks": "",
            "zerolinecolor": "white"
           },
           "yaxis": {
            "backgroundcolor": "#E5ECF6",
            "gridcolor": "white",
            "gridwidth": 2,
            "linecolor": "white",
            "showbackground": true,
            "ticks": "",
            "zerolinecolor": "white"
           },
           "zaxis": {
            "backgroundcolor": "#E5ECF6",
            "gridcolor": "white",
            "gridwidth": 2,
            "linecolor": "white",
            "showbackground": true,
            "ticks": "",
            "zerolinecolor": "white"
           }
          },
          "shapedefaults": {
           "line": {
            "color": "#2a3f5f"
           }
          },
          "ternary": {
           "aaxis": {
            "gridcolor": "white",
            "linecolor": "white",
            "ticks": ""
           },
           "baxis": {
            "gridcolor": "white",
            "linecolor": "white",
            "ticks": ""
           },
           "bgcolor": "#E5ECF6",
           "caxis": {
            "gridcolor": "white",
            "linecolor": "white",
            "ticks": ""
           }
          },
          "title": {
           "x": 0.05
          },
          "xaxis": {
           "automargin": true,
           "gridcolor": "white",
           "linecolor": "white",
           "ticks": "",
           "title": {
            "standoff": 15
           },
           "zerolinecolor": "white",
           "zerolinewidth": 2
          },
          "yaxis": {
           "automargin": true,
           "gridcolor": "white",
           "linecolor": "white",
           "ticks": "",
           "title": {
            "standoff": 15
           },
           "zerolinecolor": "white",
           "zerolinewidth": 2
          }
         }
        },
        "xaxis": {
         "anchor": "y",
         "domain": [
          0,
          1
         ],
         "title": {
          "text": "workplaceType"
         }
        },
        "yaxis": {
         "anchor": "x",
         "domain": [
          0,
          1
         ],
         "title": {
          "text": "sum of workplace_type_count"
         }
        }
       }
      },
      "text/html": [
       "<div>                        <script type=\"text/javascript\">window.PlotlyConfig = {MathJaxConfig: 'local'};</script>\n",
       "        <script charset=\"utf-8\" src=\"https://cdn.plot.ly/plotly-2.35.2.min.js\"></script>                <div id=\"1c131ef3-1852-46f6-85f2-d142e736bd1c\" class=\"plotly-graph-div\" style=\"height:100%; width:100%;\"></div>            <script type=\"text/javascript\">                                    window.PLOTLYENV=window.PLOTLYENV || {};                                    if (document.getElementById(\"1c131ef3-1852-46f6-85f2-d142e736bd1c\")) {                    Plotly.newPlot(                        \"1c131ef3-1852-46f6-85f2-d142e736bd1c\",                        [{\"alignmentgroup\":\"True\",\"bingroup\":\"x\",\"histfunc\":\"sum\",\"hovertemplate\":\"job_type=DADOS\\u003cbr\\u003eworkplaceType=%{x}\\u003cbr\\u003esum of workplace_type_count=%{y}\\u003cextra\\u003e\\u003c\\u002fextra\\u003e\",\"legendgroup\":\"DADOS\",\"marker\":{\"color\":\"#636efa\",\"pattern\":{\"shape\":\"\"}},\"name\":\"DADOS\",\"offsetgroup\":\"DADOS\",\"orientation\":\"v\",\"showlegend\":true,\"x\":[\"on-site\",\"remote\",\"on-site\",\"hybrid\",\"hybrid\",\"hybrid\",\"hybrid\",\"on-site\",\"hybrid\",\"on-site\"],\"xaxis\":\"x\",\"y\":[1,1,1,1,1,1,1,1,1,1],\"yaxis\":\"y\",\"type\":\"histogram\"},{\"alignmentgroup\":\"True\",\"bingroup\":\"x\",\"histfunc\":\"sum\",\"hovertemplate\":\"job_type=RH\\u003cbr\\u003eworkplaceType=%{x}\\u003cbr\\u003esum of workplace_type_count=%{y}\\u003cextra\\u003e\\u003c\\u002fextra\\u003e\",\"legendgroup\":\"RH\",\"marker\":{\"color\":\"#EF553B\",\"pattern\":{\"shape\":\"\"}},\"name\":\"RH\",\"offsetgroup\":\"RH\",\"orientation\":\"v\",\"showlegend\":true,\"x\":[\"on-site\",\"on-site\",\"on-site\",\"on-site\",\"on-site\",\"on-site\",\"hybrid\"],\"xaxis\":\"x\",\"y\":[1,1,1,3,1,2,1],\"yaxis\":\"y\",\"type\":\"histogram\"},{\"alignmentgroup\":\"True\",\"bingroup\":\"x\",\"histfunc\":\"sum\",\"hovertemplate\":\"job_type=FRTEND\\u003cbr\\u003eworkplaceType=%{x}\\u003cbr\\u003esum of workplace_type_count=%{y}\\u003cextra\\u003e\\u003c\\u002fextra\\u003e\",\"legendgroup\":\"FRTEND\",\"marker\":{\"color\":\"#00cc96\",\"pattern\":{\"shape\":\"\"}},\"name\":\"FRTEND\",\"offsetgroup\":\"FRTEND\",\"orientation\":\"v\",\"showlegend\":true,\"x\":[\"remote\",\"hybrid\",\"hybrid\"],\"xaxis\":\"x\",\"y\":[8,1,1],\"yaxis\":\"y\",\"type\":\"histogram\"},{\"alignmentgroup\":\"True\",\"bingroup\":\"x\",\"histfunc\":\"sum\",\"hovertemplate\":\"job_type=UX\\u002fUI\\u003cbr\\u003eworkplaceType=%{x}\\u003cbr\\u003esum of workplace_type_count=%{y}\\u003cextra\\u003e\\u003c\\u002fextra\\u003e\",\"legendgroup\":\"UX\\u002fUI\",\"marker\":{\"color\":\"#ab63fa\",\"pattern\":{\"shape\":\"\"}},\"name\":\"UX\\u002fUI\",\"offsetgroup\":\"UX\\u002fUI\",\"orientation\":\"v\",\"showlegend\":true,\"x\":[\"remote\",\"on-site\",\"on-site\",\"hybrid\"],\"xaxis\":\"x\",\"y\":[5,1,1,3],\"yaxis\":\"y\",\"type\":\"histogram\"},{\"alignmentgroup\":\"True\",\"bingroup\":\"x\",\"histfunc\":\"sum\",\"hovertemplate\":\"job_type=ADM\\u003cbr\\u003eworkplaceType=%{x}\\u003cbr\\u003esum of workplace_type_count=%{y}\\u003cextra\\u003e\\u003c\\u002fextra\\u003e\",\"legendgroup\":\"ADM\",\"marker\":{\"color\":\"#FFA15A\",\"pattern\":{\"shape\":\"\"}},\"name\":\"ADM\",\"offsetgroup\":\"ADM\",\"orientation\":\"v\",\"showlegend\":true,\"x\":[\"on-site\",\"on-site\",\"on-site\",\"on-site\",\"on-site\",\"on-site\",\"hybrid\"],\"xaxis\":\"x\",\"y\":[1,1,1,3,1,2,1],\"yaxis\":\"y\",\"type\":\"histogram\"}],                        {\"template\":{\"data\":{\"histogram2dcontour\":[{\"type\":\"histogram2dcontour\",\"colorbar\":{\"outlinewidth\":0,\"ticks\":\"\"},\"colorscale\":[[0.0,\"#0d0887\"],[0.1111111111111111,\"#46039f\"],[0.2222222222222222,\"#7201a8\"],[0.3333333333333333,\"#9c179e\"],[0.4444444444444444,\"#bd3786\"],[0.5555555555555556,\"#d8576b\"],[0.6666666666666666,\"#ed7953\"],[0.7777777777777778,\"#fb9f3a\"],[0.8888888888888888,\"#fdca26\"],[1.0,\"#f0f921\"]]}],\"choropleth\":[{\"type\":\"choropleth\",\"colorbar\":{\"outlinewidth\":0,\"ticks\":\"\"}}],\"histogram2d\":[{\"type\":\"histogram2d\",\"colorbar\":{\"outlinewidth\":0,\"ticks\":\"\"},\"colorscale\":[[0.0,\"#0d0887\"],[0.1111111111111111,\"#46039f\"],[0.2222222222222222,\"#7201a8\"],[0.3333333333333333,\"#9c179e\"],[0.4444444444444444,\"#bd3786\"],[0.5555555555555556,\"#d8576b\"],[0.6666666666666666,\"#ed7953\"],[0.7777777777777778,\"#fb9f3a\"],[0.8888888888888888,\"#fdca26\"],[1.0,\"#f0f921\"]]}],\"heatmap\":[{\"type\":\"heatmap\",\"colorbar\":{\"outlinewidth\":0,\"ticks\":\"\"},\"colorscale\":[[0.0,\"#0d0887\"],[0.1111111111111111,\"#46039f\"],[0.2222222222222222,\"#7201a8\"],[0.3333333333333333,\"#9c179e\"],[0.4444444444444444,\"#bd3786\"],[0.5555555555555556,\"#d8576b\"],[0.6666666666666666,\"#ed7953\"],[0.7777777777777778,\"#fb9f3a\"],[0.8888888888888888,\"#fdca26\"],[1.0,\"#f0f921\"]]}],\"heatmapgl\":[{\"type\":\"heatmapgl\",\"colorbar\":{\"outlinewidth\":0,\"ticks\":\"\"},\"colorscale\":[[0.0,\"#0d0887\"],[0.1111111111111111,\"#46039f\"],[0.2222222222222222,\"#7201a8\"],[0.3333333333333333,\"#9c179e\"],[0.4444444444444444,\"#bd3786\"],[0.5555555555555556,\"#d8576b\"],[0.6666666666666666,\"#ed7953\"],[0.7777777777777778,\"#fb9f3a\"],[0.8888888888888888,\"#fdca26\"],[1.0,\"#f0f921\"]]}],\"contourcarpet\":[{\"type\":\"contourcarpet\",\"colorbar\":{\"outlinewidth\":0,\"ticks\":\"\"}}],\"contour\":[{\"type\":\"contour\",\"colorbar\":{\"outlinewidth\":0,\"ticks\":\"\"},\"colorscale\":[[0.0,\"#0d0887\"],[0.1111111111111111,\"#46039f\"],[0.2222222222222222,\"#7201a8\"],[0.3333333333333333,\"#9c179e\"],[0.4444444444444444,\"#bd3786\"],[0.5555555555555556,\"#d8576b\"],[0.6666666666666666,\"#ed7953\"],[0.7777777777777778,\"#fb9f3a\"],[0.8888888888888888,\"#fdca26\"],[1.0,\"#f0f921\"]]}],\"surface\":[{\"type\":\"surface\",\"colorbar\":{\"outlinewidth\":0,\"ticks\":\"\"},\"colorscale\":[[0.0,\"#0d0887\"],[0.1111111111111111,\"#46039f\"],[0.2222222222222222,\"#7201a8\"],[0.3333333333333333,\"#9c179e\"],[0.4444444444444444,\"#bd3786\"],[0.5555555555555556,\"#d8576b\"],[0.6666666666666666,\"#ed7953\"],[0.7777777777777778,\"#fb9f3a\"],[0.8888888888888888,\"#fdca26\"],[1.0,\"#f0f921\"]]}],\"mesh3d\":[{\"type\":\"mesh3d\",\"colorbar\":{\"outlinewidth\":0,\"ticks\":\"\"}}],\"scatter\":[{\"fillpattern\":{\"fillmode\":\"overlay\",\"size\":10,\"solidity\":0.2},\"type\":\"scatter\"}],\"parcoords\":[{\"type\":\"parcoords\",\"line\":{\"colorbar\":{\"outlinewidth\":0,\"ticks\":\"\"}}}],\"scatterpolargl\":[{\"type\":\"scatterpolargl\",\"marker\":{\"colorbar\":{\"outlinewidth\":0,\"ticks\":\"\"}}}],\"bar\":[{\"error_x\":{\"color\":\"#2a3f5f\"},\"error_y\":{\"color\":\"#2a3f5f\"},\"marker\":{\"line\":{\"color\":\"#E5ECF6\",\"width\":0.5},\"pattern\":{\"fillmode\":\"overlay\",\"size\":10,\"solidity\":0.2}},\"type\":\"bar\"}],\"scattergeo\":[{\"type\":\"scattergeo\",\"marker\":{\"colorbar\":{\"outlinewidth\":0,\"ticks\":\"\"}}}],\"scatterpolar\":[{\"type\":\"scatterpolar\",\"marker\":{\"colorbar\":{\"outlinewidth\":0,\"ticks\":\"\"}}}],\"histogram\":[{\"marker\":{\"pattern\":{\"fillmode\":\"overlay\",\"size\":10,\"solidity\":0.2}},\"type\":\"histogram\"}],\"scattergl\":[{\"type\":\"scattergl\",\"marker\":{\"colorbar\":{\"outlinewidth\":0,\"ticks\":\"\"}}}],\"scatter3d\":[{\"type\":\"scatter3d\",\"line\":{\"colorbar\":{\"outlinewidth\":0,\"ticks\":\"\"}},\"marker\":{\"colorbar\":{\"outlinewidth\":0,\"ticks\":\"\"}}}],\"scattermapbox\":[{\"type\":\"scattermapbox\",\"marker\":{\"colorbar\":{\"outlinewidth\":0,\"ticks\":\"\"}}}],\"scatterternary\":[{\"type\":\"scatterternary\",\"marker\":{\"colorbar\":{\"outlinewidth\":0,\"ticks\":\"\"}}}],\"scattercarpet\":[{\"type\":\"scattercarpet\",\"marker\":{\"colorbar\":{\"outlinewidth\":0,\"ticks\":\"\"}}}],\"carpet\":[{\"aaxis\":{\"endlinecolor\":\"#2a3f5f\",\"gridcolor\":\"white\",\"linecolor\":\"white\",\"minorgridcolor\":\"white\",\"startlinecolor\":\"#2a3f5f\"},\"baxis\":{\"endlinecolor\":\"#2a3f5f\",\"gridcolor\":\"white\",\"linecolor\":\"white\",\"minorgridcolor\":\"white\",\"startlinecolor\":\"#2a3f5f\"},\"type\":\"carpet\"}],\"table\":[{\"cells\":{\"fill\":{\"color\":\"#EBF0F8\"},\"line\":{\"color\":\"white\"}},\"header\":{\"fill\":{\"color\":\"#C8D4E3\"},\"line\":{\"color\":\"white\"}},\"type\":\"table\"}],\"barpolar\":[{\"marker\":{\"line\":{\"color\":\"#E5ECF6\",\"width\":0.5},\"pattern\":{\"fillmode\":\"overlay\",\"size\":10,\"solidity\":0.2}},\"type\":\"barpolar\"}],\"pie\":[{\"automargin\":true,\"type\":\"pie\"}]},\"layout\":{\"autotypenumbers\":\"strict\",\"colorway\":[\"#636efa\",\"#EF553B\",\"#00cc96\",\"#ab63fa\",\"#FFA15A\",\"#19d3f3\",\"#FF6692\",\"#B6E880\",\"#FF97FF\",\"#FECB52\"],\"font\":{\"color\":\"#2a3f5f\"},\"hovermode\":\"closest\",\"hoverlabel\":{\"align\":\"left\"},\"paper_bgcolor\":\"white\",\"plot_bgcolor\":\"#E5ECF6\",\"polar\":{\"bgcolor\":\"#E5ECF6\",\"angularaxis\":{\"gridcolor\":\"white\",\"linecolor\":\"white\",\"ticks\":\"\"},\"radialaxis\":{\"gridcolor\":\"white\",\"linecolor\":\"white\",\"ticks\":\"\"}},\"ternary\":{\"bgcolor\":\"#E5ECF6\",\"aaxis\":{\"gridcolor\":\"white\",\"linecolor\":\"white\",\"ticks\":\"\"},\"baxis\":{\"gridcolor\":\"white\",\"linecolor\":\"white\",\"ticks\":\"\"},\"caxis\":{\"gridcolor\":\"white\",\"linecolor\":\"white\",\"ticks\":\"\"}},\"coloraxis\":{\"colorbar\":{\"outlinewidth\":0,\"ticks\":\"\"}},\"colorscale\":{\"sequential\":[[0.0,\"#0d0887\"],[0.1111111111111111,\"#46039f\"],[0.2222222222222222,\"#7201a8\"],[0.3333333333333333,\"#9c179e\"],[0.4444444444444444,\"#bd3786\"],[0.5555555555555556,\"#d8576b\"],[0.6666666666666666,\"#ed7953\"],[0.7777777777777778,\"#fb9f3a\"],[0.8888888888888888,\"#fdca26\"],[1.0,\"#f0f921\"]],\"sequentialminus\":[[0.0,\"#0d0887\"],[0.1111111111111111,\"#46039f\"],[0.2222222222222222,\"#7201a8\"],[0.3333333333333333,\"#9c179e\"],[0.4444444444444444,\"#bd3786\"],[0.5555555555555556,\"#d8576b\"],[0.6666666666666666,\"#ed7953\"],[0.7777777777777778,\"#fb9f3a\"],[0.8888888888888888,\"#fdca26\"],[1.0,\"#f0f921\"]],\"diverging\":[[0,\"#8e0152\"],[0.1,\"#c51b7d\"],[0.2,\"#de77ae\"],[0.3,\"#f1b6da\"],[0.4,\"#fde0ef\"],[0.5,\"#f7f7f7\"],[0.6,\"#e6f5d0\"],[0.7,\"#b8e186\"],[0.8,\"#7fbc41\"],[0.9,\"#4d9221\"],[1,\"#276419\"]]},\"xaxis\":{\"gridcolor\":\"white\",\"linecolor\":\"white\",\"ticks\":\"\",\"title\":{\"standoff\":15},\"zerolinecolor\":\"white\",\"automargin\":true,\"zerolinewidth\":2},\"yaxis\":{\"gridcolor\":\"white\",\"linecolor\":\"white\",\"ticks\":\"\",\"title\":{\"standoff\":15},\"zerolinecolor\":\"white\",\"automargin\":true,\"zerolinewidth\":2},\"scene\":{\"xaxis\":{\"backgroundcolor\":\"#E5ECF6\",\"gridcolor\":\"white\",\"linecolor\":\"white\",\"showbackground\":true,\"ticks\":\"\",\"zerolinecolor\":\"white\",\"gridwidth\":2},\"yaxis\":{\"backgroundcolor\":\"#E5ECF6\",\"gridcolor\":\"white\",\"linecolor\":\"white\",\"showbackground\":true,\"ticks\":\"\",\"zerolinecolor\":\"white\",\"gridwidth\":2},\"zaxis\":{\"backgroundcolor\":\"#E5ECF6\",\"gridcolor\":\"white\",\"linecolor\":\"white\",\"showbackground\":true,\"ticks\":\"\",\"zerolinecolor\":\"white\",\"gridwidth\":2}},\"shapedefaults\":{\"line\":{\"color\":\"#2a3f5f\"}},\"annotationdefaults\":{\"arrowcolor\":\"#2a3f5f\",\"arrowhead\":0,\"arrowwidth\":1},\"geo\":{\"bgcolor\":\"white\",\"landcolor\":\"#E5ECF6\",\"subunitcolor\":\"white\",\"showland\":true,\"showlakes\":true,\"lakecolor\":\"white\"},\"title\":{\"x\":0.05},\"mapbox\":{\"style\":\"light\"}}},\"xaxis\":{\"anchor\":\"y\",\"domain\":[0.0,1.0],\"title\":{\"text\":\"workplaceType\"}},\"yaxis\":{\"anchor\":\"x\",\"domain\":[0.0,1.0],\"title\":{\"text\":\"sum of workplace_type_count\"}},\"legend\":{\"title\":{\"text\":\"job_type\"},\"tracegroupgap\":0},\"margin\":{\"t\":60},\"barmode\":\"group\"},                        {\"responsive\": true}                    )                };                            </script>        </div>"
      ],
      "text/plain": [
       "Figure({\n",
       "    'data': [{'alignmentgroup': 'True',\n",
       "              'bingroup': 'x',\n",
       "              'histfunc': 'sum',\n",
       "              'hovertemplate': ('job_type=DADOS<br>workplaceTyp' ... 'type_count=%{y}<extra></extra>'),\n",
       "              'legendgroup': 'DADOS',\n",
       "              'marker': {'color': '#636efa', 'pattern': {'shape': ''}},\n",
       "              'name': 'DADOS',\n",
       "              'offsetgroup': 'DADOS',\n",
       "              'orientation': 'v',\n",
       "              'showlegend': True,\n",
       "              'type': 'histogram',\n",
       "              'x': array(['on-site', 'remote', 'on-site', 'hybrid', 'hybrid', 'hybrid', 'hybrid',\n",
       "                          'on-site', 'hybrid', 'on-site'], dtype=object),\n",
       "              'xaxis': 'x',\n",
       "              'y': array([1, 1, 1, 1, 1, 1, 1, 1, 1, 1]),\n",
       "              'yaxis': 'y'},\n",
       "             {'alignmentgroup': 'True',\n",
       "              'bingroup': 'x',\n",
       "              'histfunc': 'sum',\n",
       "              'hovertemplate': ('job_type=RH<br>workplaceType=%' ... 'type_count=%{y}<extra></extra>'),\n",
       "              'legendgroup': 'RH',\n",
       "              'marker': {'color': '#EF553B', 'pattern': {'shape': ''}},\n",
       "              'name': 'RH',\n",
       "              'offsetgroup': 'RH',\n",
       "              'orientation': 'v',\n",
       "              'showlegend': True,\n",
       "              'type': 'histogram',\n",
       "              'x': array(['on-site', 'on-site', 'on-site', 'on-site', 'on-site', 'on-site',\n",
       "                          'hybrid'], dtype=object),\n",
       "              'xaxis': 'x',\n",
       "              'y': array([1, 1, 1, 3, 1, 2, 1]),\n",
       "              'yaxis': 'y'},\n",
       "             {'alignmentgroup': 'True',\n",
       "              'bingroup': 'x',\n",
       "              'histfunc': 'sum',\n",
       "              'hovertemplate': ('job_type=FRTEND<br>workplaceTy' ... 'type_count=%{y}<extra></extra>'),\n",
       "              'legendgroup': 'FRTEND',\n",
       "              'marker': {'color': '#00cc96', 'pattern': {'shape': ''}},\n",
       "              'name': 'FRTEND',\n",
       "              'offsetgroup': 'FRTEND',\n",
       "              'orientation': 'v',\n",
       "              'showlegend': True,\n",
       "              'type': 'histogram',\n",
       "              'x': array(['remote', 'hybrid', 'hybrid'], dtype=object),\n",
       "              'xaxis': 'x',\n",
       "              'y': array([8, 1, 1]),\n",
       "              'yaxis': 'y'},\n",
       "             {'alignmentgroup': 'True',\n",
       "              'bingroup': 'x',\n",
       "              'histfunc': 'sum',\n",
       "              'hovertemplate': ('job_type=UX/UI<br>workplaceTyp' ... 'type_count=%{y}<extra></extra>'),\n",
       "              'legendgroup': 'UX/UI',\n",
       "              'marker': {'color': '#ab63fa', 'pattern': {'shape': ''}},\n",
       "              'name': 'UX/UI',\n",
       "              'offsetgroup': 'UX/UI',\n",
       "              'orientation': 'v',\n",
       "              'showlegend': True,\n",
       "              'type': 'histogram',\n",
       "              'x': array(['remote', 'on-site', 'on-site', 'hybrid'], dtype=object),\n",
       "              'xaxis': 'x',\n",
       "              'y': array([5, 1, 1, 3]),\n",
       "              'yaxis': 'y'},\n",
       "             {'alignmentgroup': 'True',\n",
       "              'bingroup': 'x',\n",
       "              'histfunc': 'sum',\n",
       "              'hovertemplate': ('job_type=ADM<br>workplaceType=' ... 'type_count=%{y}<extra></extra>'),\n",
       "              'legendgroup': 'ADM',\n",
       "              'marker': {'color': '#FFA15A', 'pattern': {'shape': ''}},\n",
       "              'name': 'ADM',\n",
       "              'offsetgroup': 'ADM',\n",
       "              'orientation': 'v',\n",
       "              'showlegend': True,\n",
       "              'type': 'histogram',\n",
       "              'x': array(['on-site', 'on-site', 'on-site', 'on-site', 'on-site', 'on-site',\n",
       "                          'hybrid'], dtype=object),\n",
       "              'xaxis': 'x',\n",
       "              'y': array([1, 1, 1, 3, 1, 2, 1]),\n",
       "              'yaxis': 'y'}],\n",
       "    'layout': {'barmode': 'group',\n",
       "               'legend': {'title': {'text': 'job_type'}, 'tracegroupgap': 0},\n",
       "               'margin': {'t': 60},\n",
       "               'template': '...',\n",
       "               'xaxis': {'anchor': 'y', 'domain': [0.0, 1.0], 'title': {'text': 'workplaceType'}},\n",
       "               'yaxis': {'anchor': 'x', 'domain': [0.0, 1.0], 'title': {'text': 'sum of workplace_type_count'}}}\n",
       "})"
      ]
     },
     "execution_count": 44,
     "metadata": {},
     "output_type": "execute_result"
    }
   ],
   "source": [
    "fig2 = px.histogram(\n",
    "    df_jobs_workplace_type_count,\n",
    "    x= 'workplaceType',\n",
    "    y = 'workplace_type_count',\n",
    "    color='job_type',\n",
    "    barmode='group'\n",
    ")\n",
    "fig2"
   ]
  },
  {
   "cell_type": "code",
   "execution_count": 39,
   "metadata": {},
   "outputs": [
    {
     "data": {
      "text/plain": [
       "workplaceType\n",
       "on-site    18\n",
       "hybrid     10\n",
       "remote      3\n",
       "Name: count, dtype: int64"
      ]
     },
     "execution_count": 39,
     "metadata": {},
     "output_type": "execute_result"
    }
   ],
   "source": [
    "df_jobs_workplace_type_count['workplaceType'].value_counts()\n"
   ]
  },
  {
   "cell_type": "code",
   "execution_count": 74,
   "metadata": {},
   "outputs": [
    {
     "ename": "ValueError",
     "evalue": "Mime type rendering requires nbformat>=4.2.0 but it is not installed",
     "output_type": "error",
     "traceback": [
      "\u001b[1;31m---------------------------------------------------------------------------\u001b[0m",
      "\u001b[1;31mValueError\u001b[0m                                Traceback (most recent call last)",
      "File \u001b[1;32mc:\\Users\\sbelo\\Documents\\vscode\\python\\estudo\\gupy_web_app\\.venv\\Lib\\site-packages\\IPython\\core\\formatters.py:984\u001b[0m, in \u001b[0;36mIPythonDisplayFormatter.__call__\u001b[1;34m(self, obj)\u001b[0m\n\u001b[0;32m    982\u001b[0m method \u001b[38;5;241m=\u001b[39m get_real_method(obj, \u001b[38;5;28mself\u001b[39m\u001b[38;5;241m.\u001b[39mprint_method)\n\u001b[0;32m    983\u001b[0m \u001b[38;5;28;01mif\u001b[39;00m method \u001b[38;5;129;01mis\u001b[39;00m \u001b[38;5;129;01mnot\u001b[39;00m \u001b[38;5;28;01mNone\u001b[39;00m:\n\u001b[1;32m--> 984\u001b[0m     \u001b[43mmethod\u001b[49m\u001b[43m(\u001b[49m\u001b[43m)\u001b[49m\n\u001b[0;32m    985\u001b[0m     \u001b[38;5;28;01mreturn\u001b[39;00m \u001b[38;5;28;01mTrue\u001b[39;00m\n",
      "File \u001b[1;32mc:\\Users\\sbelo\\Documents\\vscode\\python\\estudo\\gupy_web_app\\.venv\\Lib\\site-packages\\plotly\\basedatatypes.py:832\u001b[0m, in \u001b[0;36mBaseFigure._ipython_display_\u001b[1;34m(self)\u001b[0m\n\u001b[0;32m    829\u001b[0m \u001b[38;5;28;01mimport\u001b[39;00m \u001b[38;5;21;01mplotly\u001b[39;00m\u001b[38;5;21;01m.\u001b[39;00m\u001b[38;5;21;01mio\u001b[39;00m \u001b[38;5;28;01mas\u001b[39;00m \u001b[38;5;21;01mpio\u001b[39;00m\n\u001b[0;32m    831\u001b[0m \u001b[38;5;28;01mif\u001b[39;00m pio\u001b[38;5;241m.\u001b[39mrenderers\u001b[38;5;241m.\u001b[39mrender_on_display \u001b[38;5;129;01mand\u001b[39;00m pio\u001b[38;5;241m.\u001b[39mrenderers\u001b[38;5;241m.\u001b[39mdefault:\n\u001b[1;32m--> 832\u001b[0m     \u001b[43mpio\u001b[49m\u001b[38;5;241;43m.\u001b[39;49m\u001b[43mshow\u001b[49m\u001b[43m(\u001b[49m\u001b[38;5;28;43mself\u001b[39;49m\u001b[43m)\u001b[49m\n\u001b[0;32m    833\u001b[0m \u001b[38;5;28;01melse\u001b[39;00m:\n\u001b[0;32m    834\u001b[0m     \u001b[38;5;28mprint\u001b[39m(\u001b[38;5;28mrepr\u001b[39m(\u001b[38;5;28mself\u001b[39m))\n",
      "File \u001b[1;32mc:\\Users\\sbelo\\Documents\\vscode\\python\\estudo\\gupy_web_app\\.venv\\Lib\\site-packages\\plotly\\io\\_renderers.py:394\u001b[0m, in \u001b[0;36mshow\u001b[1;34m(fig, renderer, validate, **kwargs)\u001b[0m\n\u001b[0;32m    389\u001b[0m         \u001b[38;5;28;01mraise\u001b[39;00m \u001b[38;5;167;01mValueError\u001b[39;00m(\n\u001b[0;32m    390\u001b[0m             \u001b[38;5;124m\"\u001b[39m\u001b[38;5;124mMime type rendering requires ipython but it is not installed\u001b[39m\u001b[38;5;124m\"\u001b[39m\n\u001b[0;32m    391\u001b[0m         )\n\u001b[0;32m    393\u001b[0m     \u001b[38;5;28;01mif\u001b[39;00m \u001b[38;5;129;01mnot\u001b[39;00m nbformat \u001b[38;5;129;01mor\u001b[39;00m Version(nbformat\u001b[38;5;241m.\u001b[39m__version__) \u001b[38;5;241m<\u001b[39m Version(\u001b[38;5;124m\"\u001b[39m\u001b[38;5;124m4.2.0\u001b[39m\u001b[38;5;124m\"\u001b[39m):\n\u001b[1;32m--> 394\u001b[0m         \u001b[38;5;28;01mraise\u001b[39;00m \u001b[38;5;167;01mValueError\u001b[39;00m(\n\u001b[0;32m    395\u001b[0m             \u001b[38;5;124m\"\u001b[39m\u001b[38;5;124mMime type rendering requires nbformat>=4.2.0 but it is not installed\u001b[39m\u001b[38;5;124m\"\u001b[39m\n\u001b[0;32m    396\u001b[0m         )\n\u001b[0;32m    398\u001b[0m     ipython_display\u001b[38;5;241m.\u001b[39mdisplay(bundle, raw\u001b[38;5;241m=\u001b[39m\u001b[38;5;28;01mTrue\u001b[39;00m)\n\u001b[0;32m    400\u001b[0m \u001b[38;5;66;03m# external renderers\u001b[39;00m\n",
      "\u001b[1;31mValueError\u001b[0m: Mime type rendering requires nbformat>=4.2.0 but it is not installed"
     ]
    },
    {
     "data": {
      "application/vnd.plotly.v1+json": {
       "config": {
        "plotlyServerURL": "https://plot.ly"
       },
       "data": [
        {
         "domain": {
          "x": [
           0,
           0.495
          ],
          "y": [
           0.8,
           1
          ]
         },
         "hovertemplate": "Área=DADOS<br>workplaceType=%{label}<br>workplace_type_count=%{value}<extra></extra>",
         "labels": [
          "on-site",
          "remote",
          "on-site",
          "hybrid",
          "hybrid",
          "hybrid",
          "hybrid",
          "on-site",
          "hybrid",
          "on-site"
         ],
         "legendgroup": "",
         "name": "",
         "showlegend": true,
         "type": "pie",
         "values": [
          1,
          1,
          1,
          1,
          1,
          1,
          1,
          1,
          1,
          1
         ]
        },
        {
         "domain": {
          "x": [
           0.505,
           1
          ],
          "y": [
           0.8,
           1
          ]
         },
         "hovertemplate": "Área=RH<br>workplaceType=%{label}<br>workplace_type_count=%{value}<extra></extra>",
         "labels": [
          "on-site",
          "on-site",
          "on-site",
          "on-site",
          "on-site",
          "on-site",
          "hybrid"
         ],
         "legendgroup": "",
         "name": "",
         "showlegend": true,
         "type": "pie",
         "values": [
          1,
          1,
          1,
          3,
          1,
          2,
          1
         ]
        },
        {
         "domain": {
          "x": [
           0,
           0.495
          ],
          "y": [
           0.4,
           0.6
          ]
         },
         "hovertemplate": "Área=FRTEND<br>workplaceType=%{label}<br>workplace_type_count=%{value}<extra></extra>",
         "labels": [
          "remote",
          "hybrid",
          "hybrid"
         ],
         "legendgroup": "",
         "name": "",
         "showlegend": true,
         "type": "pie",
         "values": [
          8,
          1,
          1
         ]
        },
        {
         "domain": {
          "x": [
           0.505,
           1
          ],
          "y": [
           0.4,
           0.6
          ]
         },
         "hovertemplate": "Área=UX/UI<br>workplaceType=%{label}<br>workplace_type_count=%{value}<extra></extra>",
         "labels": [
          "remote",
          "on-site",
          "on-site",
          "hybrid"
         ],
         "legendgroup": "",
         "name": "",
         "showlegend": true,
         "type": "pie",
         "values": [
          5,
          1,
          1,
          3
         ]
        },
        {
         "domain": {
          "x": [
           0,
           0.495
          ],
          "y": [
           0,
           0.19999999999999998
          ]
         },
         "hovertemplate": "Área=ADM<br>workplaceType=%{label}<br>workplace_type_count=%{value}<extra></extra>",
         "labels": [
          "on-site",
          "on-site",
          "on-site",
          "on-site",
          "on-site",
          "on-site",
          "hybrid"
         ],
         "legendgroup": "",
         "name": "",
         "showlegend": true,
         "type": "pie",
         "values": [
          1,
          1,
          1,
          3,
          1,
          2,
          1
         ]
        }
       ],
       "layout": {
        "annotations": [
         {
          "font": {},
          "showarrow": false,
          "text": "Área=ADM",
          "x": 0.2475,
          "xanchor": "center",
          "xref": "paper",
          "y": 0.19999999999999998,
          "yanchor": "bottom",
          "yref": "paper"
         },
         {
          "font": {},
          "showarrow": false,
          "text": "Área=FRTEND",
          "x": 0.2475,
          "xanchor": "center",
          "xref": "paper",
          "y": 0.6,
          "yanchor": "bottom",
          "yref": "paper"
         },
         {
          "font": {},
          "showarrow": false,
          "text": "Área=UX/UI",
          "x": 0.7525,
          "xanchor": "center",
          "xref": "paper",
          "y": 0.6,
          "yanchor": "bottom",
          "yref": "paper"
         },
         {
          "font": {},
          "showarrow": false,
          "text": "Área=DADOS",
          "x": 0.2475,
          "xanchor": "center",
          "xref": "paper",
          "y": 1,
          "yanchor": "bottom",
          "yref": "paper"
         },
         {
          "font": {},
          "showarrow": false,
          "text": "Área=RH",
          "x": 0.7525,
          "xanchor": "center",
          "xref": "paper",
          "y": 1,
          "yanchor": "bottom",
          "yref": "paper"
         }
        ],
        "height": 1080,
        "legend": {
         "tracegroupgap": 0
        },
        "margin": {
         "t": 60
        },
        "template": {
         "data": {
          "bar": [
           {
            "error_x": {
             "color": "#2a3f5f"
            },
            "error_y": {
             "color": "#2a3f5f"
            },
            "marker": {
             "line": {
              "color": "#E5ECF6",
              "width": 0.5
             },
             "pattern": {
              "fillmode": "overlay",
              "size": 10,
              "solidity": 0.2
             }
            },
            "type": "bar"
           }
          ],
          "barpolar": [
           {
            "marker": {
             "line": {
              "color": "#E5ECF6",
              "width": 0.5
             },
             "pattern": {
              "fillmode": "overlay",
              "size": 10,
              "solidity": 0.2
             }
            },
            "type": "barpolar"
           }
          ],
          "carpet": [
           {
            "aaxis": {
             "endlinecolor": "#2a3f5f",
             "gridcolor": "white",
             "linecolor": "white",
             "minorgridcolor": "white",
             "startlinecolor": "#2a3f5f"
            },
            "baxis": {
             "endlinecolor": "#2a3f5f",
             "gridcolor": "white",
             "linecolor": "white",
             "minorgridcolor": "white",
             "startlinecolor": "#2a3f5f"
            },
            "type": "carpet"
           }
          ],
          "choropleth": [
           {
            "colorbar": {
             "outlinewidth": 0,
             "ticks": ""
            },
            "type": "choropleth"
           }
          ],
          "contour": [
           {
            "colorbar": {
             "outlinewidth": 0,
             "ticks": ""
            },
            "colorscale": [
             [
              0,
              "#0d0887"
             ],
             [
              0.1111111111111111,
              "#46039f"
             ],
             [
              0.2222222222222222,
              "#7201a8"
             ],
             [
              0.3333333333333333,
              "#9c179e"
             ],
             [
              0.4444444444444444,
              "#bd3786"
             ],
             [
              0.5555555555555556,
              "#d8576b"
             ],
             [
              0.6666666666666666,
              "#ed7953"
             ],
             [
              0.7777777777777778,
              "#fb9f3a"
             ],
             [
              0.8888888888888888,
              "#fdca26"
             ],
             [
              1,
              "#f0f921"
             ]
            ],
            "type": "contour"
           }
          ],
          "contourcarpet": [
           {
            "colorbar": {
             "outlinewidth": 0,
             "ticks": ""
            },
            "type": "contourcarpet"
           }
          ],
          "heatmap": [
           {
            "colorbar": {
             "outlinewidth": 0,
             "ticks": ""
            },
            "colorscale": [
             [
              0,
              "#0d0887"
             ],
             [
              0.1111111111111111,
              "#46039f"
             ],
             [
              0.2222222222222222,
              "#7201a8"
             ],
             [
              0.3333333333333333,
              "#9c179e"
             ],
             [
              0.4444444444444444,
              "#bd3786"
             ],
             [
              0.5555555555555556,
              "#d8576b"
             ],
             [
              0.6666666666666666,
              "#ed7953"
             ],
             [
              0.7777777777777778,
              "#fb9f3a"
             ],
             [
              0.8888888888888888,
              "#fdca26"
             ],
             [
              1,
              "#f0f921"
             ]
            ],
            "type": "heatmap"
           }
          ],
          "heatmapgl": [
           {
            "colorbar": {
             "outlinewidth": 0,
             "ticks": ""
            },
            "colorscale": [
             [
              0,
              "#0d0887"
             ],
             [
              0.1111111111111111,
              "#46039f"
             ],
             [
              0.2222222222222222,
              "#7201a8"
             ],
             [
              0.3333333333333333,
              "#9c179e"
             ],
             [
              0.4444444444444444,
              "#bd3786"
             ],
             [
              0.5555555555555556,
              "#d8576b"
             ],
             [
              0.6666666666666666,
              "#ed7953"
             ],
             [
              0.7777777777777778,
              "#fb9f3a"
             ],
             [
              0.8888888888888888,
              "#fdca26"
             ],
             [
              1,
              "#f0f921"
             ]
            ],
            "type": "heatmapgl"
           }
          ],
          "histogram": [
           {
            "marker": {
             "pattern": {
              "fillmode": "overlay",
              "size": 10,
              "solidity": 0.2
             }
            },
            "type": "histogram"
           }
          ],
          "histogram2d": [
           {
            "colorbar": {
             "outlinewidth": 0,
             "ticks": ""
            },
            "colorscale": [
             [
              0,
              "#0d0887"
             ],
             [
              0.1111111111111111,
              "#46039f"
             ],
             [
              0.2222222222222222,
              "#7201a8"
             ],
             [
              0.3333333333333333,
              "#9c179e"
             ],
             [
              0.4444444444444444,
              "#bd3786"
             ],
             [
              0.5555555555555556,
              "#d8576b"
             ],
             [
              0.6666666666666666,
              "#ed7953"
             ],
             [
              0.7777777777777778,
              "#fb9f3a"
             ],
             [
              0.8888888888888888,
              "#fdca26"
             ],
             [
              1,
              "#f0f921"
             ]
            ],
            "type": "histogram2d"
           }
          ],
          "histogram2dcontour": [
           {
            "colorbar": {
             "outlinewidth": 0,
             "ticks": ""
            },
            "colorscale": [
             [
              0,
              "#0d0887"
             ],
             [
              0.1111111111111111,
              "#46039f"
             ],
             [
              0.2222222222222222,
              "#7201a8"
             ],
             [
              0.3333333333333333,
              "#9c179e"
             ],
             [
              0.4444444444444444,
              "#bd3786"
             ],
             [
              0.5555555555555556,
              "#d8576b"
             ],
             [
              0.6666666666666666,
              "#ed7953"
             ],
             [
              0.7777777777777778,
              "#fb9f3a"
             ],
             [
              0.8888888888888888,
              "#fdca26"
             ],
             [
              1,
              "#f0f921"
             ]
            ],
            "type": "histogram2dcontour"
           }
          ],
          "mesh3d": [
           {
            "colorbar": {
             "outlinewidth": 0,
             "ticks": ""
            },
            "type": "mesh3d"
           }
          ],
          "parcoords": [
           {
            "line": {
             "colorbar": {
              "outlinewidth": 0,
              "ticks": ""
             }
            },
            "type": "parcoords"
           }
          ],
          "pie": [
           {
            "automargin": true,
            "type": "pie"
           }
          ],
          "scatter": [
           {
            "fillpattern": {
             "fillmode": "overlay",
             "size": 10,
             "solidity": 0.2
            },
            "type": "scatter"
           }
          ],
          "scatter3d": [
           {
            "line": {
             "colorbar": {
              "outlinewidth": 0,
              "ticks": ""
             }
            },
            "marker": {
             "colorbar": {
              "outlinewidth": 0,
              "ticks": ""
             }
            },
            "type": "scatter3d"
           }
          ],
          "scattercarpet": [
           {
            "marker": {
             "colorbar": {
              "outlinewidth": 0,
              "ticks": ""
             }
            },
            "type": "scattercarpet"
           }
          ],
          "scattergeo": [
           {
            "marker": {
             "colorbar": {
              "outlinewidth": 0,
              "ticks": ""
             }
            },
            "type": "scattergeo"
           }
          ],
          "scattergl": [
           {
            "marker": {
             "colorbar": {
              "outlinewidth": 0,
              "ticks": ""
             }
            },
            "type": "scattergl"
           }
          ],
          "scattermapbox": [
           {
            "marker": {
             "colorbar": {
              "outlinewidth": 0,
              "ticks": ""
             }
            },
            "type": "scattermapbox"
           }
          ],
          "scatterpolar": [
           {
            "marker": {
             "colorbar": {
              "outlinewidth": 0,
              "ticks": ""
             }
            },
            "type": "scatterpolar"
           }
          ],
          "scatterpolargl": [
           {
            "marker": {
             "colorbar": {
              "outlinewidth": 0,
              "ticks": ""
             }
            },
            "type": "scatterpolargl"
           }
          ],
          "scatterternary": [
           {
            "marker": {
             "colorbar": {
              "outlinewidth": 0,
              "ticks": ""
             }
            },
            "type": "scatterternary"
           }
          ],
          "surface": [
           {
            "colorbar": {
             "outlinewidth": 0,
             "ticks": ""
            },
            "colorscale": [
             [
              0,
              "#0d0887"
             ],
             [
              0.1111111111111111,
              "#46039f"
             ],
             [
              0.2222222222222222,
              "#7201a8"
             ],
             [
              0.3333333333333333,
              "#9c179e"
             ],
             [
              0.4444444444444444,
              "#bd3786"
             ],
             [
              0.5555555555555556,
              "#d8576b"
             ],
             [
              0.6666666666666666,
              "#ed7953"
             ],
             [
              0.7777777777777778,
              "#fb9f3a"
             ],
             [
              0.8888888888888888,
              "#fdca26"
             ],
             [
              1,
              "#f0f921"
             ]
            ],
            "type": "surface"
           }
          ],
          "table": [
           {
            "cells": {
             "fill": {
              "color": "#EBF0F8"
             },
             "line": {
              "color": "white"
             }
            },
            "header": {
             "fill": {
              "color": "#C8D4E3"
             },
             "line": {
              "color": "white"
             }
            },
            "type": "table"
           }
          ]
         },
         "layout": {
          "annotationdefaults": {
           "arrowcolor": "#2a3f5f",
           "arrowhead": 0,
           "arrowwidth": 1
          },
          "autotypenumbers": "strict",
          "coloraxis": {
           "colorbar": {
            "outlinewidth": 0,
            "ticks": ""
           }
          },
          "colorscale": {
           "diverging": [
            [
             0,
             "#8e0152"
            ],
            [
             0.1,
             "#c51b7d"
            ],
            [
             0.2,
             "#de77ae"
            ],
            [
             0.3,
             "#f1b6da"
            ],
            [
             0.4,
             "#fde0ef"
            ],
            [
             0.5,
             "#f7f7f7"
            ],
            [
             0.6,
             "#e6f5d0"
            ],
            [
             0.7,
             "#b8e186"
            ],
            [
             0.8,
             "#7fbc41"
            ],
            [
             0.9,
             "#4d9221"
            ],
            [
             1,
             "#276419"
            ]
           ],
           "sequential": [
            [
             0,
             "#0d0887"
            ],
            [
             0.1111111111111111,
             "#46039f"
            ],
            [
             0.2222222222222222,
             "#7201a8"
            ],
            [
             0.3333333333333333,
             "#9c179e"
            ],
            [
             0.4444444444444444,
             "#bd3786"
            ],
            [
             0.5555555555555556,
             "#d8576b"
            ],
            [
             0.6666666666666666,
             "#ed7953"
            ],
            [
             0.7777777777777778,
             "#fb9f3a"
            ],
            [
             0.8888888888888888,
             "#fdca26"
            ],
            [
             1,
             "#f0f921"
            ]
           ],
           "sequentialminus": [
            [
             0,
             "#0d0887"
            ],
            [
             0.1111111111111111,
             "#46039f"
            ],
            [
             0.2222222222222222,
             "#7201a8"
            ],
            [
             0.3333333333333333,
             "#9c179e"
            ],
            [
             0.4444444444444444,
             "#bd3786"
            ],
            [
             0.5555555555555556,
             "#d8576b"
            ],
            [
             0.6666666666666666,
             "#ed7953"
            ],
            [
             0.7777777777777778,
             "#fb9f3a"
            ],
            [
             0.8888888888888888,
             "#fdca26"
            ],
            [
             1,
             "#f0f921"
            ]
           ]
          },
          "colorway": [
           "#636efa",
           "#EF553B",
           "#00cc96",
           "#ab63fa",
           "#FFA15A",
           "#19d3f3",
           "#FF6692",
           "#B6E880",
           "#FF97FF",
           "#FECB52"
          ],
          "font": {
           "color": "#2a3f5f"
          },
          "geo": {
           "bgcolor": "white",
           "lakecolor": "white",
           "landcolor": "#E5ECF6",
           "showlakes": true,
           "showland": true,
           "subunitcolor": "white"
          },
          "hoverlabel": {
           "align": "left"
          },
          "hovermode": "closest",
          "mapbox": {
           "style": "light"
          },
          "paper_bgcolor": "white",
          "plot_bgcolor": "#E5ECF6",
          "polar": {
           "angularaxis": {
            "gridcolor": "white",
            "linecolor": "white",
            "ticks": ""
           },
           "bgcolor": "#E5ECF6",
           "radialaxis": {
            "gridcolor": "white",
            "linecolor": "white",
            "ticks": ""
           }
          },
          "scene": {
           "xaxis": {
            "backgroundcolor": "#E5ECF6",
            "gridcolor": "white",
            "gridwidth": 2,
            "linecolor": "white",
            "showbackground": true,
            "ticks": "",
            "zerolinecolor": "white"
           },
           "yaxis": {
            "backgroundcolor": "#E5ECF6",
            "gridcolor": "white",
            "gridwidth": 2,
            "linecolor": "white",
            "showbackground": true,
            "ticks": "",
            "zerolinecolor": "white"
           },
           "zaxis": {
            "backgroundcolor": "#E5ECF6",
            "gridcolor": "white",
            "gridwidth": 2,
            "linecolor": "white",
            "showbackground": true,
            "ticks": "",
            "zerolinecolor": "white"
           }
          },
          "shapedefaults": {
           "line": {
            "color": "#2a3f5f"
           }
          },
          "ternary": {
           "aaxis": {
            "gridcolor": "white",
            "linecolor": "white",
            "ticks": ""
           },
           "baxis": {
            "gridcolor": "white",
            "linecolor": "white",
            "ticks": ""
           },
           "bgcolor": "#E5ECF6",
           "caxis": {
            "gridcolor": "white",
            "linecolor": "white",
            "ticks": ""
           }
          },
          "title": {
           "x": 0.05
          },
          "xaxis": {
           "automargin": true,
           "gridcolor": "white",
           "linecolor": "white",
           "ticks": "",
           "title": {
            "standoff": 15
           },
           "zerolinecolor": "white",
           "zerolinewidth": 2
          },
          "yaxis": {
           "automargin": true,
           "gridcolor": "white",
           "linecolor": "white",
           "ticks": "",
           "title": {
            "standoff": 15
           },
           "zerolinecolor": "white",
           "zerolinewidth": 2
          }
         }
        },
        "width": 1920
       }
      },
      "text/html": [
       "<div>                        <script type=\"text/javascript\">window.PlotlyConfig = {MathJaxConfig: 'local'};</script>\n",
       "        <script charset=\"utf-8\" src=\"https://cdn.plot.ly/plotly-2.35.2.min.js\"></script>                <div id=\"0753eca5-51df-4088-8d74-369c961e09c1\" class=\"plotly-graph-div\" style=\"height:1080px; width:1920px;\"></div>            <script type=\"text/javascript\">                                    window.PLOTLYENV=window.PLOTLYENV || {};                                    if (document.getElementById(\"0753eca5-51df-4088-8d74-369c961e09c1\")) {                    Plotly.newPlot(                        \"0753eca5-51df-4088-8d74-369c961e09c1\",                        [{\"domain\":{\"x\":[0.0,0.495],\"y\":[0.8,1.0]},\"hovertemplate\":\"\\u00c1rea=DADOS\\u003cbr\\u003eworkplaceType=%{label}\\u003cbr\\u003eworkplace_type_count=%{value}\\u003cextra\\u003e\\u003c\\u002fextra\\u003e\",\"labels\":[\"on-site\",\"remote\",\"on-site\",\"hybrid\",\"hybrid\",\"hybrid\",\"hybrid\",\"on-site\",\"hybrid\",\"on-site\"],\"legendgroup\":\"\",\"name\":\"\",\"showlegend\":true,\"values\":[1,1,1,1,1,1,1,1,1,1],\"type\":\"pie\"},{\"domain\":{\"x\":[0.505,1.0],\"y\":[0.8,1.0]},\"hovertemplate\":\"\\u00c1rea=RH\\u003cbr\\u003eworkplaceType=%{label}\\u003cbr\\u003eworkplace_type_count=%{value}\\u003cextra\\u003e\\u003c\\u002fextra\\u003e\",\"labels\":[\"on-site\",\"on-site\",\"on-site\",\"on-site\",\"on-site\",\"on-site\",\"hybrid\"],\"legendgroup\":\"\",\"name\":\"\",\"showlegend\":true,\"values\":[1,1,1,3,1,2,1],\"type\":\"pie\"},{\"domain\":{\"x\":[0.0,0.495],\"y\":[0.4,0.6]},\"hovertemplate\":\"\\u00c1rea=FRTEND\\u003cbr\\u003eworkplaceType=%{label}\\u003cbr\\u003eworkplace_type_count=%{value}\\u003cextra\\u003e\\u003c\\u002fextra\\u003e\",\"labels\":[\"remote\",\"hybrid\",\"hybrid\"],\"legendgroup\":\"\",\"name\":\"\",\"showlegend\":true,\"values\":[8,1,1],\"type\":\"pie\"},{\"domain\":{\"x\":[0.505,1.0],\"y\":[0.4,0.6]},\"hovertemplate\":\"\\u00c1rea=UX\\u002fUI\\u003cbr\\u003eworkplaceType=%{label}\\u003cbr\\u003eworkplace_type_count=%{value}\\u003cextra\\u003e\\u003c\\u002fextra\\u003e\",\"labels\":[\"remote\",\"on-site\",\"on-site\",\"hybrid\"],\"legendgroup\":\"\",\"name\":\"\",\"showlegend\":true,\"values\":[5,1,1,3],\"type\":\"pie\"},{\"domain\":{\"x\":[0.0,0.495],\"y\":[0.0,0.19999999999999998]},\"hovertemplate\":\"\\u00c1rea=ADM\\u003cbr\\u003eworkplaceType=%{label}\\u003cbr\\u003eworkplace_type_count=%{value}\\u003cextra\\u003e\\u003c\\u002fextra\\u003e\",\"labels\":[\"on-site\",\"on-site\",\"on-site\",\"on-site\",\"on-site\",\"on-site\",\"hybrid\"],\"legendgroup\":\"\",\"name\":\"\",\"showlegend\":true,\"values\":[1,1,1,3,1,2,1],\"type\":\"pie\"}],                        {\"template\":{\"data\":{\"histogram2dcontour\":[{\"type\":\"histogram2dcontour\",\"colorbar\":{\"outlinewidth\":0,\"ticks\":\"\"},\"colorscale\":[[0.0,\"#0d0887\"],[0.1111111111111111,\"#46039f\"],[0.2222222222222222,\"#7201a8\"],[0.3333333333333333,\"#9c179e\"],[0.4444444444444444,\"#bd3786\"],[0.5555555555555556,\"#d8576b\"],[0.6666666666666666,\"#ed7953\"],[0.7777777777777778,\"#fb9f3a\"],[0.8888888888888888,\"#fdca26\"],[1.0,\"#f0f921\"]]}],\"choropleth\":[{\"type\":\"choropleth\",\"colorbar\":{\"outlinewidth\":0,\"ticks\":\"\"}}],\"histogram2d\":[{\"type\":\"histogram2d\",\"colorbar\":{\"outlinewidth\":0,\"ticks\":\"\"},\"colorscale\":[[0.0,\"#0d0887\"],[0.1111111111111111,\"#46039f\"],[0.2222222222222222,\"#7201a8\"],[0.3333333333333333,\"#9c179e\"],[0.4444444444444444,\"#bd3786\"],[0.5555555555555556,\"#d8576b\"],[0.6666666666666666,\"#ed7953\"],[0.7777777777777778,\"#fb9f3a\"],[0.8888888888888888,\"#fdca26\"],[1.0,\"#f0f921\"]]}],\"heatmap\":[{\"type\":\"heatmap\",\"colorbar\":{\"outlinewidth\":0,\"ticks\":\"\"},\"colorscale\":[[0.0,\"#0d0887\"],[0.1111111111111111,\"#46039f\"],[0.2222222222222222,\"#7201a8\"],[0.3333333333333333,\"#9c179e\"],[0.4444444444444444,\"#bd3786\"],[0.5555555555555556,\"#d8576b\"],[0.6666666666666666,\"#ed7953\"],[0.7777777777777778,\"#fb9f3a\"],[0.8888888888888888,\"#fdca26\"],[1.0,\"#f0f921\"]]}],\"heatmapgl\":[{\"type\":\"heatmapgl\",\"colorbar\":{\"outlinewidth\":0,\"ticks\":\"\"},\"colorscale\":[[0.0,\"#0d0887\"],[0.1111111111111111,\"#46039f\"],[0.2222222222222222,\"#7201a8\"],[0.3333333333333333,\"#9c179e\"],[0.4444444444444444,\"#bd3786\"],[0.5555555555555556,\"#d8576b\"],[0.6666666666666666,\"#ed7953\"],[0.7777777777777778,\"#fb9f3a\"],[0.8888888888888888,\"#fdca26\"],[1.0,\"#f0f921\"]]}],\"contourcarpet\":[{\"type\":\"contourcarpet\",\"colorbar\":{\"outlinewidth\":0,\"ticks\":\"\"}}],\"contour\":[{\"type\":\"contour\",\"colorbar\":{\"outlinewidth\":0,\"ticks\":\"\"},\"colorscale\":[[0.0,\"#0d0887\"],[0.1111111111111111,\"#46039f\"],[0.2222222222222222,\"#7201a8\"],[0.3333333333333333,\"#9c179e\"],[0.4444444444444444,\"#bd3786\"],[0.5555555555555556,\"#d8576b\"],[0.6666666666666666,\"#ed7953\"],[0.7777777777777778,\"#fb9f3a\"],[0.8888888888888888,\"#fdca26\"],[1.0,\"#f0f921\"]]}],\"surface\":[{\"type\":\"surface\",\"colorbar\":{\"outlinewidth\":0,\"ticks\":\"\"},\"colorscale\":[[0.0,\"#0d0887\"],[0.1111111111111111,\"#46039f\"],[0.2222222222222222,\"#7201a8\"],[0.3333333333333333,\"#9c179e\"],[0.4444444444444444,\"#bd3786\"],[0.5555555555555556,\"#d8576b\"],[0.6666666666666666,\"#ed7953\"],[0.7777777777777778,\"#fb9f3a\"],[0.8888888888888888,\"#fdca26\"],[1.0,\"#f0f921\"]]}],\"mesh3d\":[{\"type\":\"mesh3d\",\"colorbar\":{\"outlinewidth\":0,\"ticks\":\"\"}}],\"scatter\":[{\"fillpattern\":{\"fillmode\":\"overlay\",\"size\":10,\"solidity\":0.2},\"type\":\"scatter\"}],\"parcoords\":[{\"type\":\"parcoords\",\"line\":{\"colorbar\":{\"outlinewidth\":0,\"ticks\":\"\"}}}],\"scatterpolargl\":[{\"type\":\"scatterpolargl\",\"marker\":{\"colorbar\":{\"outlinewidth\":0,\"ticks\":\"\"}}}],\"bar\":[{\"error_x\":{\"color\":\"#2a3f5f\"},\"error_y\":{\"color\":\"#2a3f5f\"},\"marker\":{\"line\":{\"color\":\"#E5ECF6\",\"width\":0.5},\"pattern\":{\"fillmode\":\"overlay\",\"size\":10,\"solidity\":0.2}},\"type\":\"bar\"}],\"scattergeo\":[{\"type\":\"scattergeo\",\"marker\":{\"colorbar\":{\"outlinewidth\":0,\"ticks\":\"\"}}}],\"scatterpolar\":[{\"type\":\"scatterpolar\",\"marker\":{\"colorbar\":{\"outlinewidth\":0,\"ticks\":\"\"}}}],\"histogram\":[{\"marker\":{\"pattern\":{\"fillmode\":\"overlay\",\"size\":10,\"solidity\":0.2}},\"type\":\"histogram\"}],\"scattergl\":[{\"type\":\"scattergl\",\"marker\":{\"colorbar\":{\"outlinewidth\":0,\"ticks\":\"\"}}}],\"scatter3d\":[{\"type\":\"scatter3d\",\"line\":{\"colorbar\":{\"outlinewidth\":0,\"ticks\":\"\"}},\"marker\":{\"colorbar\":{\"outlinewidth\":0,\"ticks\":\"\"}}}],\"scattermapbox\":[{\"type\":\"scattermapbox\",\"marker\":{\"colorbar\":{\"outlinewidth\":0,\"ticks\":\"\"}}}],\"scatterternary\":[{\"type\":\"scatterternary\",\"marker\":{\"colorbar\":{\"outlinewidth\":0,\"ticks\":\"\"}}}],\"scattercarpet\":[{\"type\":\"scattercarpet\",\"marker\":{\"colorbar\":{\"outlinewidth\":0,\"ticks\":\"\"}}}],\"carpet\":[{\"aaxis\":{\"endlinecolor\":\"#2a3f5f\",\"gridcolor\":\"white\",\"linecolor\":\"white\",\"minorgridcolor\":\"white\",\"startlinecolor\":\"#2a3f5f\"},\"baxis\":{\"endlinecolor\":\"#2a3f5f\",\"gridcolor\":\"white\",\"linecolor\":\"white\",\"minorgridcolor\":\"white\",\"startlinecolor\":\"#2a3f5f\"},\"type\":\"carpet\"}],\"table\":[{\"cells\":{\"fill\":{\"color\":\"#EBF0F8\"},\"line\":{\"color\":\"white\"}},\"header\":{\"fill\":{\"color\":\"#C8D4E3\"},\"line\":{\"color\":\"white\"}},\"type\":\"table\"}],\"barpolar\":[{\"marker\":{\"line\":{\"color\":\"#E5ECF6\",\"width\":0.5},\"pattern\":{\"fillmode\":\"overlay\",\"size\":10,\"solidity\":0.2}},\"type\":\"barpolar\"}],\"pie\":[{\"automargin\":true,\"type\":\"pie\"}]},\"layout\":{\"autotypenumbers\":\"strict\",\"colorway\":[\"#636efa\",\"#EF553B\",\"#00cc96\",\"#ab63fa\",\"#FFA15A\",\"#19d3f3\",\"#FF6692\",\"#B6E880\",\"#FF97FF\",\"#FECB52\"],\"font\":{\"color\":\"#2a3f5f\"},\"hovermode\":\"closest\",\"hoverlabel\":{\"align\":\"left\"},\"paper_bgcolor\":\"white\",\"plot_bgcolor\":\"#E5ECF6\",\"polar\":{\"bgcolor\":\"#E5ECF6\",\"angularaxis\":{\"gridcolor\":\"white\",\"linecolor\":\"white\",\"ticks\":\"\"},\"radialaxis\":{\"gridcolor\":\"white\",\"linecolor\":\"white\",\"ticks\":\"\"}},\"ternary\":{\"bgcolor\":\"#E5ECF6\",\"aaxis\":{\"gridcolor\":\"white\",\"linecolor\":\"white\",\"ticks\":\"\"},\"baxis\":{\"gridcolor\":\"white\",\"linecolor\":\"white\",\"ticks\":\"\"},\"caxis\":{\"gridcolor\":\"white\",\"linecolor\":\"white\",\"ticks\":\"\"}},\"coloraxis\":{\"colorbar\":{\"outlinewidth\":0,\"ticks\":\"\"}},\"colorscale\":{\"sequential\":[[0.0,\"#0d0887\"],[0.1111111111111111,\"#46039f\"],[0.2222222222222222,\"#7201a8\"],[0.3333333333333333,\"#9c179e\"],[0.4444444444444444,\"#bd3786\"],[0.5555555555555556,\"#d8576b\"],[0.6666666666666666,\"#ed7953\"],[0.7777777777777778,\"#fb9f3a\"],[0.8888888888888888,\"#fdca26\"],[1.0,\"#f0f921\"]],\"sequentialminus\":[[0.0,\"#0d0887\"],[0.1111111111111111,\"#46039f\"],[0.2222222222222222,\"#7201a8\"],[0.3333333333333333,\"#9c179e\"],[0.4444444444444444,\"#bd3786\"],[0.5555555555555556,\"#d8576b\"],[0.6666666666666666,\"#ed7953\"],[0.7777777777777778,\"#fb9f3a\"],[0.8888888888888888,\"#fdca26\"],[1.0,\"#f0f921\"]],\"diverging\":[[0,\"#8e0152\"],[0.1,\"#c51b7d\"],[0.2,\"#de77ae\"],[0.3,\"#f1b6da\"],[0.4,\"#fde0ef\"],[0.5,\"#f7f7f7\"],[0.6,\"#e6f5d0\"],[0.7,\"#b8e186\"],[0.8,\"#7fbc41\"],[0.9,\"#4d9221\"],[1,\"#276419\"]]},\"xaxis\":{\"gridcolor\":\"white\",\"linecolor\":\"white\",\"ticks\":\"\",\"title\":{\"standoff\":15},\"zerolinecolor\":\"white\",\"automargin\":true,\"zerolinewidth\":2},\"yaxis\":{\"gridcolor\":\"white\",\"linecolor\":\"white\",\"ticks\":\"\",\"title\":{\"standoff\":15},\"zerolinecolor\":\"white\",\"automargin\":true,\"zerolinewidth\":2},\"scene\":{\"xaxis\":{\"backgroundcolor\":\"#E5ECF6\",\"gridcolor\":\"white\",\"linecolor\":\"white\",\"showbackground\":true,\"ticks\":\"\",\"zerolinecolor\":\"white\",\"gridwidth\":2},\"yaxis\":{\"backgroundcolor\":\"#E5ECF6\",\"gridcolor\":\"white\",\"linecolor\":\"white\",\"showbackground\":true,\"ticks\":\"\",\"zerolinecolor\":\"white\",\"gridwidth\":2},\"zaxis\":{\"backgroundcolor\":\"#E5ECF6\",\"gridcolor\":\"white\",\"linecolor\":\"white\",\"showbackground\":true,\"ticks\":\"\",\"zerolinecolor\":\"white\",\"gridwidth\":2}},\"shapedefaults\":{\"line\":{\"color\":\"#2a3f5f\"}},\"annotationdefaults\":{\"arrowcolor\":\"#2a3f5f\",\"arrowhead\":0,\"arrowwidth\":1},\"geo\":{\"bgcolor\":\"white\",\"landcolor\":\"#E5ECF6\",\"subunitcolor\":\"white\",\"showland\":true,\"showlakes\":true,\"lakecolor\":\"white\"},\"title\":{\"x\":0.05},\"mapbox\":{\"style\":\"light\"}}},\"annotations\":[{\"font\":{},\"showarrow\":false,\"text\":\"\\u00c1rea=ADM\",\"x\":0.2475,\"xanchor\":\"center\",\"xref\":\"paper\",\"y\":0.19999999999999998,\"yanchor\":\"bottom\",\"yref\":\"paper\"},{\"font\":{},\"showarrow\":false,\"text\":\"\\u00c1rea=FRTEND\",\"x\":0.2475,\"xanchor\":\"center\",\"xref\":\"paper\",\"y\":0.6,\"yanchor\":\"bottom\",\"yref\":\"paper\"},{\"font\":{},\"showarrow\":false,\"text\":\"\\u00c1rea=UX\\u002fUI\",\"x\":0.7525,\"xanchor\":\"center\",\"xref\":\"paper\",\"y\":0.6,\"yanchor\":\"bottom\",\"yref\":\"paper\"},{\"font\":{},\"showarrow\":false,\"text\":\"\\u00c1rea=DADOS\",\"x\":0.2475,\"xanchor\":\"center\",\"xref\":\"paper\",\"y\":1.0,\"yanchor\":\"bottom\",\"yref\":\"paper\"},{\"font\":{},\"showarrow\":false,\"text\":\"\\u00c1rea=RH\",\"x\":0.7525,\"xanchor\":\"center\",\"xref\":\"paper\",\"y\":1.0,\"yanchor\":\"bottom\",\"yref\":\"paper\"}],\"legend\":{\"tracegroupgap\":0},\"margin\":{\"t\":60},\"height\":1080,\"width\":1920},                        {\"responsive\": true}                    )                };                            </script>        </div>"
      ],
      "text/plain": [
       "Figure({\n",
       "    'data': [{'domain': {'x': [0.0, 0.495], 'y': [0.8, 1.0]},\n",
       "              'hovertemplate': ('Área=DADOS<br>workplaceType=%{' ... '_count=%{value}<extra></extra>'),\n",
       "              'labels': array(['on-site', 'remote', 'on-site', 'hybrid', 'hybrid', 'hybrid', 'hybrid',\n",
       "                               'on-site', 'hybrid', 'on-site'], dtype=object),\n",
       "              'legendgroup': '',\n",
       "              'name': '',\n",
       "              'showlegend': True,\n",
       "              'type': 'pie',\n",
       "              'values': array([1, 1, 1, 1, 1, 1, 1, 1, 1, 1])},\n",
       "             {'domain': {'x': [0.505, 1.0], 'y': [0.8, 1.0]},\n",
       "              'hovertemplate': ('Área=RH<br>workplaceType=%{lab' ... '_count=%{value}<extra></extra>'),\n",
       "              'labels': array(['on-site', 'on-site', 'on-site', 'on-site', 'on-site', 'on-site',\n",
       "                               'hybrid'], dtype=object),\n",
       "              'legendgroup': '',\n",
       "              'name': '',\n",
       "              'showlegend': True,\n",
       "              'type': 'pie',\n",
       "              'values': array([1, 1, 1, 3, 1, 2, 1])},\n",
       "             {'domain': {'x': [0.0, 0.495], 'y': [0.4, 0.6]},\n",
       "              'hovertemplate': ('Área=FRTEND<br>workplaceType=%' ... '_count=%{value}<extra></extra>'),\n",
       "              'labels': array(['remote', 'hybrid', 'hybrid'], dtype=object),\n",
       "              'legendgroup': '',\n",
       "              'name': '',\n",
       "              'showlegend': True,\n",
       "              'type': 'pie',\n",
       "              'values': array([8, 1, 1])},\n",
       "             {'domain': {'x': [0.505, 1.0], 'y': [0.4, 0.6]},\n",
       "              'hovertemplate': ('Área=UX/UI<br>workplaceType=%{' ... '_count=%{value}<extra></extra>'),\n",
       "              'labels': array(['remote', 'on-site', 'on-site', 'hybrid'], dtype=object),\n",
       "              'legendgroup': '',\n",
       "              'name': '',\n",
       "              'showlegend': True,\n",
       "              'type': 'pie',\n",
       "              'values': array([5, 1, 1, 3])},\n",
       "             {'domain': {'x': [0.0, 0.495], 'y': [0.0, 0.19999999999999998]},\n",
       "              'hovertemplate': ('Área=ADM<br>workplaceType=%{la' ... '_count=%{value}<extra></extra>'),\n",
       "              'labels': array(['on-site', 'on-site', 'on-site', 'on-site', 'on-site', 'on-site',\n",
       "                               'hybrid'], dtype=object),\n",
       "              'legendgroup': '',\n",
       "              'name': '',\n",
       "              'showlegend': True,\n",
       "              'type': 'pie',\n",
       "              'values': array([1, 1, 1, 3, 1, 2, 1])}],\n",
       "    'layout': {'annotations': [{'font': {},\n",
       "                                'showarrow': False,\n",
       "                                'text': 'Área=ADM',\n",
       "                                'x': 0.2475,\n",
       "                                'xanchor': 'center',\n",
       "                                'xref': 'paper',\n",
       "                                'y': 0.19999999999999998,\n",
       "                                'yanchor': 'bottom',\n",
       "                                'yref': 'paper'},\n",
       "                               {'font': {},\n",
       "                                'showarrow': False,\n",
       "                                'text': 'Área=FRTEND',\n",
       "                                'x': 0.2475,\n",
       "                                'xanchor': 'center',\n",
       "                                'xref': 'paper',\n",
       "                                'y': 0.6,\n",
       "                                'yanchor': 'bottom',\n",
       "                                'yref': 'paper'},\n",
       "                               {'font': {},\n",
       "                                'showarrow': False,\n",
       "                                'text': 'Área=UX/UI',\n",
       "                                'x': 0.7525,\n",
       "                                'xanchor': 'center',\n",
       "                                'xref': 'paper',\n",
       "                                'y': 0.6,\n",
       "                                'yanchor': 'bottom',\n",
       "                                'yref': 'paper'},\n",
       "                               {'font': {},\n",
       "                                'showarrow': False,\n",
       "                                'text': 'Área=DADOS',\n",
       "                                'x': 0.2475,\n",
       "                                'xanchor': 'center',\n",
       "                                'xref': 'paper',\n",
       "                                'y': 1.0,\n",
       "                                'yanchor': 'bottom',\n",
       "                                'yref': 'paper'},\n",
       "                               {'font': {},\n",
       "                                'showarrow': False,\n",
       "                                'text': 'Área=RH',\n",
       "                                'x': 0.7525,\n",
       "                                'xanchor': 'center',\n",
       "                                'xref': 'paper',\n",
       "                                'y': 1.0,\n",
       "                                'yanchor': 'bottom',\n",
       "                                'yref': 'paper'}],\n",
       "               'height': 1080,\n",
       "               'legend': {'tracegroupgap': 0},\n",
       "               'margin': {'t': 60},\n",
       "               'template': '...',\n",
       "               'width': 1920}\n",
       "})"
      ]
     },
     "execution_count": 74,
     "metadata": {},
     "output_type": "execute_result"
    }
   ],
   "source": [
    "px.pie(df_jobs_workplace_type_count,\n",
    "    names='workplaceType', values='workplace_type_count',\n",
    "            facet_col='job_type',\n",
    "            facet_col_wrap=2,\n",
    "            facet_col_spacing=0.01,\n",
    "            facet_row_spacing=0.2,\n",
    "            labels={\n",
    "                'job_type': 'Área',\n",
    "            },\n",
    "        )"
   ]
  },
  {
   "cell_type": "code",
   "execution_count": 83,
   "metadata": {},
   "outputs": [
    {
     "data": {
      "text/html": [
       "<div>\n",
       "<style scoped>\n",
       "    .dataframe tbody tr th:only-of-type {\n",
       "        vertical-align: middle;\n",
       "    }\n",
       "\n",
       "    .dataframe tbody tr th {\n",
       "        vertical-align: top;\n",
       "    }\n",
       "\n",
       "    .dataframe thead th {\n",
       "        text-align: right;\n",
       "    }\n",
       "</style>\n",
       "<table border=\"1\" class=\"dataframe\">\n",
       "  <thead>\n",
       "    <tr style=\"text-align: right;\">\n",
       "      <th></th>\n",
       "      <th>id</th>\n",
       "      <th>companyId</th>\n",
       "      <th>name</th>\n",
       "      <th>description</th>\n",
       "      <th>careerPageId</th>\n",
       "      <th>careerPageName</th>\n",
       "      <th>careerPageLogo</th>\n",
       "      <th>type</th>\n",
       "      <th>publishedDate</th>\n",
       "      <th>applicationDeadline</th>\n",
       "      <th>...</th>\n",
       "      <th>city</th>\n",
       "      <th>state</th>\n",
       "      <th>country</th>\n",
       "      <th>jobUrl</th>\n",
       "      <th>badges</th>\n",
       "      <th>disabilities</th>\n",
       "      <th>workplaceType</th>\n",
       "      <th>careerPageUrl</th>\n",
       "      <th>job_type</th>\n",
       "      <th>experience</th>\n",
       "    </tr>\n",
       "  </thead>\n",
       "  <tbody>\n",
       "    <tr>\n",
       "      <th>0</th>\n",
       "      <td>8309213</td>\n",
       "      <td>48481</td>\n",
       "      <td>Analista de Dados - PL</td>\n",
       "      <td>Estamos em busca de alguém motivado a abraçar ...</td>\n",
       "      <td>97921</td>\n",
       "      <td>Órigo Energia</td>\n",
       "      <td>https://attachments.gupy.io/production/compani...</td>\n",
       "      <td>vacancy_type_effective</td>\n",
       "      <td>2024-12-16T23:49:41.951Z</td>\n",
       "      <td>2025-02-14T00:00:00.000Z</td>\n",
       "      <td>...</td>\n",
       "      <td>Campo Grande</td>\n",
       "      <td>Mato Grosso do Sul</td>\n",
       "      <td>Brasil</td>\n",
       "      <td>https://origoenergia.gupy.io/job/eyJqb2JJZCI6O...</td>\n",
       "      <td>{'friendlyBadge': True}</td>\n",
       "      <td>True</td>\n",
       "      <td>on-site</td>\n",
       "      <td>https://origoenergia.gupy.io/eyJzb3VyY2UiOiJnd...</td>\n",
       "      <td>DADOS</td>\n",
       "      <td>PLENO</td>\n",
       "    </tr>\n",
       "    <tr>\n",
       "      <th>1</th>\n",
       "      <td>8129537</td>\n",
       "      <td>364</td>\n",
       "      <td>CAS | Analista de Dados Pleno - Fundação Sicredi</td>\n",
       "      <td>Buscamos para essa posição um(a) novo(a) coleg...</td>\n",
       "      <td>317</td>\n",
       "      <td>Sicredi</td>\n",
       "      <td>https://attachments.gupy.io/production/compani...</td>\n",
       "      <td>vacancy_type_effective</td>\n",
       "      <td>2024-12-16T21:50:47.290Z</td>\n",
       "      <td>2025-01-20T00:00:00.000Z</td>\n",
       "      <td>...</td>\n",
       "      <td>Porto Alegre</td>\n",
       "      <td>Rio Grande do Sul</td>\n",
       "      <td>Brasil</td>\n",
       "      <td>https://sicredi.gupy.io/job/eyJqb2JJZCI6ODEyOT...</td>\n",
       "      <td>{'friendlyBadge': True}</td>\n",
       "      <td>True</td>\n",
       "      <td>hybrid</td>\n",
       "      <td>https://sicredi.gupy.io/eyJzb3VyY2UiOiJndXB5X3...</td>\n",
       "      <td>DADOS</td>\n",
       "      <td>PLENO</td>\n",
       "    </tr>\n",
       "    <tr>\n",
       "      <th>2</th>\n",
       "      <td>8260501</td>\n",
       "      <td>49702</td>\n",
       "      <td>Analista de dados Sênior</td>\n",
       "      <td>Estamos em busca de um Analista de Dados para ...</td>\n",
       "      <td>100264</td>\n",
       "      <td>Clinicorp Solutions</td>\n",
       "      <td>https://attachments.gupy.io/production/compani...</td>\n",
       "      <td>vacancy_type_effective</td>\n",
       "      <td>2024-12-16T21:13:47.538Z</td>\n",
       "      <td>2025-01-24T00:00:00.000Z</td>\n",
       "      <td>...</td>\n",
       "      <td>Jaraguá do Sul</td>\n",
       "      <td>Santa Catarina</td>\n",
       "      <td>Brasil</td>\n",
       "      <td>https://clinicorp.gupy.io/job/eyJqb2JJZCI6ODI2...</td>\n",
       "      <td>{'friendlyBadge': True}</td>\n",
       "      <td>True</td>\n",
       "      <td>hybrid</td>\n",
       "      <td>https://clinicorp.gupy.io/eyJzb3VyY2UiOiJndXB5...</td>\n",
       "      <td>DADOS</td>\n",
       "      <td>SENIOR</td>\n",
       "    </tr>\n",
       "    <tr>\n",
       "      <th>3</th>\n",
       "      <td>8307420</td>\n",
       "      <td>68351</td>\n",
       "      <td>Analista de Dados SQL</td>\n",
       "      <td>Se você é um profissional com perfil analítico...</td>\n",
       "      <td>164682</td>\n",
       "      <td>DNA Recursos Humanos</td>\n",
       "      <td>https://attachments.gupy.io/production/compani...</td>\n",
       "      <td>vacancy_type_effective</td>\n",
       "      <td>2024-12-16T21:11:33.204Z</td>\n",
       "      <td>2025-02-14T00:00:00.000Z</td>\n",
       "      <td>...</td>\n",
       "      <td>Florianópolis</td>\n",
       "      <td>Santa Catarina</td>\n",
       "      <td>Brasil</td>\n",
       "      <td>https://dna-recursos-humanos.gupy.io/job/eyJqb...</td>\n",
       "      <td>{'friendlyBadge': False}</td>\n",
       "      <td>True</td>\n",
       "      <td>on-site</td>\n",
       "      <td>https://dna-recursos-humanos.gupy.io/eyJzb3VyY...</td>\n",
       "      <td>DADOS</td>\n",
       "      <td>DADO NÃO IDENTIFICADO</td>\n",
       "    </tr>\n",
       "    <tr>\n",
       "      <th>4</th>\n",
       "      <td>8307006</td>\n",
       "      <td>47657</td>\n",
       "      <td>ESPECIALISTA DE DADOS - MERCADO LIVRE</td>\n",
       "      <td>Somos o Grupo Energisa! Com mais de cem anos d...</td>\n",
       "      <td>104884</td>\n",
       "      <td>Energisa</td>\n",
       "      <td>https://attachments.gupy.io/production/compani...</td>\n",
       "      <td>vacancy_type_effective</td>\n",
       "      <td>2024-12-16T18:16:09.306Z</td>\n",
       "      <td>2025-02-14T00:00:00.000Z</td>\n",
       "      <td>...</td>\n",
       "      <td>Rio de Janeiro</td>\n",
       "      <td>Rio de Janeiro</td>\n",
       "      <td>Brasil</td>\n",
       "      <td>https://grupoenergisa.gupy.io/job/eyJqb2JJZCI6...</td>\n",
       "      <td>{'friendlyBadge': True}</td>\n",
       "      <td>True</td>\n",
       "      <td>hybrid</td>\n",
       "      <td>https://grupoenergisa.gupy.io/eyJzb3VyY2UiOiJn...</td>\n",
       "      <td>DADOS</td>\n",
       "      <td>DADO NÃO IDENTIFICADO</td>\n",
       "    </tr>\n",
       "    <tr>\n",
       "      <th>5</th>\n",
       "      <td>8306845</td>\n",
       "      <td>47657</td>\n",
       "      <td>ANALISTA DE DADOS FINANCEIROS III</td>\n",
       "      <td>Somos o Grupo Energisa! Com mais de cem anos d...</td>\n",
       "      <td>104884</td>\n",
       "      <td>Energisa</td>\n",
       "      <td>https://attachments.gupy.io/production/compani...</td>\n",
       "      <td>vacancy_type_effective</td>\n",
       "      <td>2024-12-16T18:10:42.411Z</td>\n",
       "      <td>2025-02-14T00:00:00.000Z</td>\n",
       "      <td>...</td>\n",
       "      <td>Cataguases</td>\n",
       "      <td>Minas Gerais</td>\n",
       "      <td>Brasil</td>\n",
       "      <td>https://grupoenergisa.gupy.io/job/eyJqb2JJZCI6...</td>\n",
       "      <td>{'friendlyBadge': True}</td>\n",
       "      <td>True</td>\n",
       "      <td>hybrid</td>\n",
       "      <td>https://grupoenergisa.gupy.io/eyJzb3VyY2UiOiJn...</td>\n",
       "      <td>DADOS</td>\n",
       "      <td>DADO NÃO IDENTIFICADO</td>\n",
       "    </tr>\n",
       "    <tr>\n",
       "      <th>6</th>\n",
       "      <td>8234123</td>\n",
       "      <td>36436</td>\n",
       "      <td>Pessoa Engenheira de Dados Júnior</td>\n",
       "      <td>Sobre a AlmapBBDOQUEM SOMOS!#1 Agência Global ...</td>\n",
       "      <td>80332</td>\n",
       "      <td>AlmapBBDO</td>\n",
       "      <td>https://attachments.gupy.io/production/compani...</td>\n",
       "      <td>vacancy_type_freelancer</td>\n",
       "      <td>2024-12-16T18:05:25.794Z</td>\n",
       "      <td>2025-02-01T00:00:00.000Z</td>\n",
       "      <td>...</td>\n",
       "      <td>Dado Não Disponível</td>\n",
       "      <td>Dado Não Disponível</td>\n",
       "      <td>Brasil</td>\n",
       "      <td>https://almapbbdo.gupy.io/job/eyJqb2JJZCI6ODIz...</td>\n",
       "      <td>{'friendlyBadge': False}</td>\n",
       "      <td>True</td>\n",
       "      <td>remote</td>\n",
       "      <td>https://almapbbdo.gupy.io/eyJzb3VyY2UiOiJndXB5...</td>\n",
       "      <td>DADOS</td>\n",
       "      <td>JUNIOR</td>\n",
       "    </tr>\n",
       "    <tr>\n",
       "      <th>7</th>\n",
       "      <td>8306779</td>\n",
       "      <td>2119</td>\n",
       "      <td>Cientista de Dados Sr.</td>\n",
       "      <td>Há mais de 90 anos, o Banco Bmg vem construind...</td>\n",
       "      <td>3326</td>\n",
       "      <td>Banco Bmg</td>\n",
       "      <td>https://attachments.gupy.io/production/compani...</td>\n",
       "      <td>vacancy_type_effective</td>\n",
       "      <td>2024-12-16T18:00:31.929Z</td>\n",
       "      <td>2025-02-14T00:00:00.000Z</td>\n",
       "      <td>...</td>\n",
       "      <td>São Paulo</td>\n",
       "      <td>São Paulo</td>\n",
       "      <td>Brasil</td>\n",
       "      <td>https://bmg.gupy.io/job/eyJqb2JJZCI6ODMwNjc3OS...</td>\n",
       "      <td>{'friendlyBadge': True}</td>\n",
       "      <td>True</td>\n",
       "      <td>hybrid</td>\n",
       "      <td>https://bmg.gupy.io/eyJzb3VyY2UiOiJndXB5X3Bvcn...</td>\n",
       "      <td>DADOS</td>\n",
       "      <td>SENIOR</td>\n",
       "    </tr>\n",
       "    <tr>\n",
       "      <th>8</th>\n",
       "      <td>8306392</td>\n",
       "      <td>230</td>\n",
       "      <td>Consultor de Dados Sênior</td>\n",
       "      <td>Inclusão e respeito à diversidade e equidade f...</td>\n",
       "      <td>163843</td>\n",
       "      <td>KPMG Brasil</td>\n",
       "      <td>https://attachments.gupy.io/production/compani...</td>\n",
       "      <td>vacancy_type_effective</td>\n",
       "      <td>2024-12-16T17:37:11.872Z</td>\n",
       "      <td>2025-02-14T00:00:00.000Z</td>\n",
       "      <td>...</td>\n",
       "      <td>São Paulo</td>\n",
       "      <td>São Paulo</td>\n",
       "      <td>Brasil</td>\n",
       "      <td>https://kpmgbrasil.gupy.io/job/eyJqb2JJZCI6ODM...</td>\n",
       "      <td>{'friendlyBadge': False}</td>\n",
       "      <td>True</td>\n",
       "      <td>on-site</td>\n",
       "      <td>https://kpmgbrasil.gupy.io/eyJzb3VyY2UiOiJndXB...</td>\n",
       "      <td>DADOS</td>\n",
       "      <td>SENIOR</td>\n",
       "    </tr>\n",
       "    <tr>\n",
       "      <th>9</th>\n",
       "      <td>8133378</td>\n",
       "      <td>2051</td>\n",
       "      <td>Analista de Dados Industriais - Unidade Crato</td>\n",
       "      <td>Inovação e transformação digital caminham junt...</td>\n",
       "      <td>3291</td>\n",
       "      <td>Grendene</td>\n",
       "      <td>https://attachments.gupy.io/production/compani...</td>\n",
       "      <td>vacancy_type_effective</td>\n",
       "      <td>2024-12-16T17:13:52.025Z</td>\n",
       "      <td>2025-01-06T00:00:00.000Z</td>\n",
       "      <td>...</td>\n",
       "      <td>Crato</td>\n",
       "      <td>Ceará</td>\n",
       "      <td>Brasil</td>\n",
       "      <td>https://facapartegrendene.gupy.io/job/eyJqb2JJ...</td>\n",
       "      <td>{'friendlyBadge': True}</td>\n",
       "      <td>False</td>\n",
       "      <td>on-site</td>\n",
       "      <td>https://facapartegrendene.gupy.io/eyJzb3VyY2Ui...</td>\n",
       "      <td>DADOS</td>\n",
       "      <td>DADO NÃO IDENTIFICADO</td>\n",
       "    </tr>\n",
       "    <tr>\n",
       "      <th>10</th>\n",
       "      <td>8259154</td>\n",
       "      <td>66730</td>\n",
       "      <td>Designer UX/UI SR</td>\n",
       "      <td>Designer UX/UI SR100% Remota - CLT / PJCapacid...</td>\n",
       "      <td>162540</td>\n",
       "      <td>TIVIT</td>\n",
       "      <td>https://attachments.gupy.io/production/compani...</td>\n",
       "      <td>vacancy_type_effective</td>\n",
       "      <td>2024-12-10T20:45:18.981Z</td>\n",
       "      <td>2025-01-10T00:00:00.000Z</td>\n",
       "      <td>...</td>\n",
       "      <td>Dado Não Disponível</td>\n",
       "      <td>Dado Não Disponível</td>\n",
       "      <td>Brasil</td>\n",
       "      <td>https://tivit.gupy.io/job/eyJqb2JJZCI6ODI1OTE1...</td>\n",
       "      <td>{'friendlyBadge': True}</td>\n",
       "      <td>True</td>\n",
       "      <td>remote</td>\n",
       "      <td>https://tivit.gupy.io/eyJzb3VyY2UiOiJndXB5X3Bv...</td>\n",
       "      <td>UX/UI</td>\n",
       "      <td>SENIOR</td>\n",
       "    </tr>\n",
       "    <tr>\n",
       "      <th>11</th>\n",
       "      <td>8250217</td>\n",
       "      <td>551</td>\n",
       "      <td>Analista UX/UI Sênior</td>\n",
       "      <td>Somos aproximadamente 50k Minsaiters no Mundo ...</td>\n",
       "      <td>71488</td>\n",
       "      <td>Minsait an Indra Company</td>\n",
       "      <td>https://attachments.gupy.io/production/compani...</td>\n",
       "      <td>vacancy_type_effective</td>\n",
       "      <td>2024-12-10T12:49:53.389Z</td>\n",
       "      <td>2025-02-03T00:00:00.000Z</td>\n",
       "      <td>...</td>\n",
       "      <td>Dado Não Disponível</td>\n",
       "      <td>Dado Não Disponível</td>\n",
       "      <td>Brasil</td>\n",
       "      <td>https://minsait.gupy.io/job/eyJqb2JJZCI6ODI1MD...</td>\n",
       "      <td>{'friendlyBadge': True}</td>\n",
       "      <td>True</td>\n",
       "      <td>remote</td>\n",
       "      <td>https://minsait.gupy.io/eyJzb3VyY2UiOiJndXB5X3...</td>\n",
       "      <td>UX/UI</td>\n",
       "      <td>SENIOR</td>\n",
       "    </tr>\n",
       "    <tr>\n",
       "      <th>12</th>\n",
       "      <td>8267530</td>\n",
       "      <td>2351</td>\n",
       "      <td>UX UI - Designer</td>\n",
       "      <td>Já conhece a Hypnobox? Somos um software compa...</td>\n",
       "      <td>7006</td>\n",
       "      <td>Vem ser Hypnobox</td>\n",
       "      <td>https://attachments.gupy.io/production/compani...</td>\n",
       "      <td>vacancy_type_effective</td>\n",
       "      <td>2024-12-09T19:24:28.191Z</td>\n",
       "      <td>2025-02-07T00:00:00.000Z</td>\n",
       "      <td>...</td>\n",
       "      <td>São Paulo</td>\n",
       "      <td>São Paulo</td>\n",
       "      <td>Brasil</td>\n",
       "      <td>https://hypnobox.gupy.io/job/eyJqb2JJZCI6ODI2N...</td>\n",
       "      <td>{'friendlyBadge': True}</td>\n",
       "      <td>True</td>\n",
       "      <td>hybrid</td>\n",
       "      <td>https://hypnobox.gupy.io/eyJzb3VyY2UiOiJndXB5X...</td>\n",
       "      <td>UX/UI</td>\n",
       "      <td>DADO NÃO IDENTIFICADO</td>\n",
       "    </tr>\n",
       "    <tr>\n",
       "      <th>13</th>\n",
       "      <td>8266403</td>\n",
       "      <td>46666</td>\n",
       "      <td>UX/UI Designer</td>\n",
       "      <td>Você é apaixonado(a) por criar experiências in...</td>\n",
       "      <td>145540</td>\n",
       "      <td>Villela Brasil Bank | Gestão de Carreiras</td>\n",
       "      <td>https://attachments.gupy.io/production/compani...</td>\n",
       "      <td>vacancy_type_associate</td>\n",
       "      <td>2024-12-09T16:44:19.360Z</td>\n",
       "      <td>2025-01-09T00:00:00.000Z</td>\n",
       "      <td>...</td>\n",
       "      <td>Porto Alegre</td>\n",
       "      <td>Rio Grande do Sul</td>\n",
       "      <td>Brasil</td>\n",
       "      <td>https://villelabrasilbank.gupy.io/job/eyJqb2JJ...</td>\n",
       "      <td>{'friendlyBadge': True}</td>\n",
       "      <td>False</td>\n",
       "      <td>on-site</td>\n",
       "      <td>https://villelabrasilbank.gupy.io/eyJzb3VyY2Ui...</td>\n",
       "      <td>UX/UI</td>\n",
       "      <td>DADO NÃO IDENTIFICADO</td>\n",
       "    </tr>\n",
       "    <tr>\n",
       "      <th>14</th>\n",
       "      <td>8239104</td>\n",
       "      <td>40726</td>\n",
       "      <td>Pessoa UX/UI Designer Sênior</td>\n",
       "      <td>A Akross é uma Tech Boutique que desenvolve e ...</td>\n",
       "      <td>89176</td>\n",
       "      <td>Akross</td>\n",
       "      <td>https://attachments.gupy.io/production/compani...</td>\n",
       "      <td>vacancy_type_effective</td>\n",
       "      <td>2024-12-09T15:36:45.002Z</td>\n",
       "      <td>2025-02-02T00:00:00.000Z</td>\n",
       "      <td>...</td>\n",
       "      <td>São Paulo</td>\n",
       "      <td>São Paulo</td>\n",
       "      <td>Brasil</td>\n",
       "      <td>https://akross.gupy.io/job/eyJqb2JJZCI6ODIzOTE...</td>\n",
       "      <td>{'friendlyBadge': True}</td>\n",
       "      <td>True</td>\n",
       "      <td>hybrid</td>\n",
       "      <td>https://akross.gupy.io/eyJzb3VyY2UiOiJndXB5X3B...</td>\n",
       "      <td>UX/UI</td>\n",
       "      <td>SENIOR</td>\n",
       "    </tr>\n",
       "    <tr>\n",
       "      <th>15</th>\n",
       "      <td>8170541</td>\n",
       "      <td>345</td>\n",
       "      <td>Estagiário(a) - UX UI Design</td>\n",
       "      <td>Olá!! :DEstamos em busca de estagiário(a) para...</td>\n",
       "      <td>94918</td>\n",
       "      <td>Grupo Autoglass Estágio</td>\n",
       "      <td>https://attachments.gupy.io/production/compani...</td>\n",
       "      <td>vacancy_type_internship</td>\n",
       "      <td>2024-12-06T19:25:10.216Z</td>\n",
       "      <td>2025-01-20T00:00:00.000Z</td>\n",
       "      <td>...</td>\n",
       "      <td>Vila Velha</td>\n",
       "      <td>Espírito Santo</td>\n",
       "      <td>Brasil</td>\n",
       "      <td>https://autoglassestagio.gupy.io/job/eyJqb2JJZ...</td>\n",
       "      <td>{'friendlyBadge': True}</td>\n",
       "      <td>True</td>\n",
       "      <td>on-site</td>\n",
       "      <td>https://autoglassestagio.gupy.io/eyJzb3VyY2UiO...</td>\n",
       "      <td>UX/UI</td>\n",
       "      <td>ESTAGIO</td>\n",
       "    </tr>\n",
       "    <tr>\n",
       "      <th>16</th>\n",
       "      <td>8256163</td>\n",
       "      <td>56566</td>\n",
       "      <td>Pessoa Analista de UX/UI Design Junior</td>\n",
       "      <td>🔹Sobre a 1Doc 💙A 1Doc tem como propósito democ...</td>\n",
       "      <td>118019</td>\n",
       "      <td>1Doc</td>\n",
       "      <td>https://attachments.gupy.io/production/compani...</td>\n",
       "      <td>vacancy_type_effective</td>\n",
       "      <td>2024-12-06T16:16:44.633Z</td>\n",
       "      <td>2025-02-04T00:00:00.000Z</td>\n",
       "      <td>...</td>\n",
       "      <td>Dado Não Disponível</td>\n",
       "      <td>Dado Não Disponível</td>\n",
       "      <td>Brasil</td>\n",
       "      <td>https://1doc.gupy.io/job/eyJqb2JJZCI6ODI1NjE2M...</td>\n",
       "      <td>{'friendlyBadge': True}</td>\n",
       "      <td>False</td>\n",
       "      <td>remote</td>\n",
       "      <td>https://1doc.gupy.io/eyJzb3VyY2UiOiJndXB5X3Bvc...</td>\n",
       "      <td>UX/UI</td>\n",
       "      <td>JUNIOR</td>\n",
       "    </tr>\n",
       "    <tr>\n",
       "      <th>17</th>\n",
       "      <td>8225991</td>\n",
       "      <td>56566</td>\n",
       "      <td>Pessoa Analista de UX/UI Design Pleno</td>\n",
       "      <td>🔹Sobre a 1Doc 💙A 1Doc tem como propósito democ...</td>\n",
       "      <td>118019</td>\n",
       "      <td>1Doc</td>\n",
       "      <td>https://attachments.gupy.io/production/compani...</td>\n",
       "      <td>vacancy_type_effective</td>\n",
       "      <td>2024-12-02T18:59:48.805Z</td>\n",
       "      <td>2025-01-31T00:00:00.000Z</td>\n",
       "      <td>...</td>\n",
       "      <td>Dado Não Disponível</td>\n",
       "      <td>Dado Não Disponível</td>\n",
       "      <td>Brasil</td>\n",
       "      <td>https://1doc.gupy.io/job/eyJqb2JJZCI6ODIyNTk5M...</td>\n",
       "      <td>{'friendlyBadge': True}</td>\n",
       "      <td>False</td>\n",
       "      <td>remote</td>\n",
       "      <td>https://1doc.gupy.io/eyJzb3VyY2UiOiJndXB5X3Bvc...</td>\n",
       "      <td>UX/UI</td>\n",
       "      <td>PLENO</td>\n",
       "    </tr>\n",
       "    <tr>\n",
       "      <th>18</th>\n",
       "      <td>8223272</td>\n",
       "      <td>59833</td>\n",
       "      <td>Senior UX/UI Designer</td>\n",
       "      <td>Quem somos:A Dentsu World Services (DWS) é par...</td>\n",
       "      <td>147026</td>\n",
       "      <td>Dentsu World Services Brazil</td>\n",
       "      <td>https://attachments.gupy.io/production/compani...</td>\n",
       "      <td>vacancy_type_effective</td>\n",
       "      <td>2024-12-02T11:48:09.454Z</td>\n",
       "      <td>2025-01-31T00:00:00.000Z</td>\n",
       "      <td>...</td>\n",
       "      <td>Dado Não Disponível</td>\n",
       "      <td>Dado Não Disponível</td>\n",
       "      <td>Brasil</td>\n",
       "      <td>https://dwsbrazil.gupy.io/job/eyJqb2JJZCI6ODIy...</td>\n",
       "      <td>{'friendlyBadge': False}</td>\n",
       "      <td>True</td>\n",
       "      <td>remote</td>\n",
       "      <td>https://dwsbrazil.gupy.io/eyJzb3VyY2UiOiJndXB5...</td>\n",
       "      <td>UX/UI</td>\n",
       "      <td>SENIOR</td>\n",
       "    </tr>\n",
       "    <tr>\n",
       "      <th>19</th>\n",
       "      <td>8218247</td>\n",
       "      <td>41090</td>\n",
       "      <td>UX/UI - Pleno - Híbrido</td>\n",
       "      <td>Estamos em busca de um UX/UI Designer Pleno qu...</td>\n",
       "      <td>93235</td>\n",
       "      <td>Just a Little Data</td>\n",
       "      <td>https://attachments.gupy.io/production/compani...</td>\n",
       "      <td>vacancy_type_effective</td>\n",
       "      <td>2024-11-29T22:02:06.516Z</td>\n",
       "      <td>2025-01-28T00:00:00.000Z</td>\n",
       "      <td>...</td>\n",
       "      <td>São Paulo</td>\n",
       "      <td>São Paulo</td>\n",
       "      <td>Brasil</td>\n",
       "      <td>https://justalittledata.gupy.io/job/eyJqb2JJZC...</td>\n",
       "      <td>{'friendlyBadge': True}</td>\n",
       "      <td>True</td>\n",
       "      <td>hybrid</td>\n",
       "      <td>https://justalittledata.gupy.io/eyJzb3VyY2UiOi...</td>\n",
       "      <td>UX/UI</td>\n",
       "      <td>PLENO</td>\n",
       "    </tr>\n",
       "    <tr>\n",
       "      <th>20</th>\n",
       "      <td>8308974</td>\n",
       "      <td>2326</td>\n",
       "      <td>Analista de Administração de Vendas Jr</td>\n",
       "      <td>Venha fazer parte do time de Administração de ...</td>\n",
       "      <td>28687</td>\n",
       "      <td>Softys Brasil</td>\n",
       "      <td>https://attachments.gupy.io/production/compani...</td>\n",
       "      <td>vacancy_type_effective</td>\n",
       "      <td>2024-12-16T22:13:08.372Z</td>\n",
       "      <td>2024-12-31T00:00:00.000Z</td>\n",
       "      <td>...</td>\n",
       "      <td>Caieiras</td>\n",
       "      <td>São Paulo</td>\n",
       "      <td>Brasil</td>\n",
       "      <td>https://querosersoftys.gupy.io/job/eyJqb2JJZCI...</td>\n",
       "      <td>{'friendlyBadge': False}</td>\n",
       "      <td>True</td>\n",
       "      <td>hybrid</td>\n",
       "      <td>https://querosersoftys.gupy.io/eyJzb3VyY2UiOiJ...</td>\n",
       "      <td>ADM</td>\n",
       "      <td>JUNIOR</td>\n",
       "    </tr>\n",
       "    <tr>\n",
       "      <th>21</th>\n",
       "      <td>8307691</td>\n",
       "      <td>2133</td>\n",
       "      <td>Estágio Usiminas - Taubaté, SP  | Administraçã...</td>\n",
       "      <td>Imagine fazer parte de uma indústria líder no ...</td>\n",
       "      <td>26377</td>\n",
       "      <td>Programas de Entrada Usiminas</td>\n",
       "      <td>https://attachments.gupy.io/production/compani...</td>\n",
       "      <td>vacancy_type_internship</td>\n",
       "      <td>2024-12-16T19:24:48.598Z</td>\n",
       "      <td>2025-01-31T00:00:00.000Z</td>\n",
       "      <td>...</td>\n",
       "      <td>Taubaté</td>\n",
       "      <td>São Paulo</td>\n",
       "      <td>Brasil</td>\n",
       "      <td>https://programasdeentradausiminas.gupy.io/job...</td>\n",
       "      <td>{'friendlyBadge': True}</td>\n",
       "      <td>True</td>\n",
       "      <td>on-site</td>\n",
       "      <td>https://programasdeentradausiminas.gupy.io/eyJ...</td>\n",
       "      <td>ADM</td>\n",
       "      <td>ESTAGIO</td>\n",
       "    </tr>\n",
       "    <tr>\n",
       "      <th>22</th>\n",
       "      <td>8307632</td>\n",
       "      <td>2133</td>\n",
       "      <td>Estágio Usiminas - Porto Alegre, RS  | Adminis...</td>\n",
       "      <td>Imagine fazer parte de uma indústria líder no ...</td>\n",
       "      <td>26377</td>\n",
       "      <td>Programas de Entrada Usiminas</td>\n",
       "      <td>https://attachments.gupy.io/production/compani...</td>\n",
       "      <td>vacancy_type_internship</td>\n",
       "      <td>2024-12-16T19:18:40.589Z</td>\n",
       "      <td>2025-01-31T00:00:00.000Z</td>\n",
       "      <td>...</td>\n",
       "      <td>Porto Alegre</td>\n",
       "      <td>Rio Grande do Sul</td>\n",
       "      <td>Brasil</td>\n",
       "      <td>https://programasdeentradausiminas.gupy.io/job...</td>\n",
       "      <td>{'friendlyBadge': True}</td>\n",
       "      <td>True</td>\n",
       "      <td>on-site</td>\n",
       "      <td>https://programasdeentradausiminas.gupy.io/eyJ...</td>\n",
       "      <td>ADM</td>\n",
       "      <td>ESTAGIO</td>\n",
       "    </tr>\n",
       "    <tr>\n",
       "      <th>23</th>\n",
       "      <td>8307608</td>\n",
       "      <td>2133</td>\n",
       "      <td>Estágio Usiminas - Guarulhos, SP  | Administra...</td>\n",
       "      <td>Imagine fazer parte de uma indústria líder no ...</td>\n",
       "      <td>26377</td>\n",
       "      <td>Programas de Entrada Usiminas</td>\n",
       "      <td>https://attachments.gupy.io/production/compani...</td>\n",
       "      <td>vacancy_type_internship</td>\n",
       "      <td>2024-12-16T19:15:27.208Z</td>\n",
       "      <td>2025-02-14T00:00:00.000Z</td>\n",
       "      <td>...</td>\n",
       "      <td>Guarulhos</td>\n",
       "      <td>São Paulo</td>\n",
       "      <td>Brasil</td>\n",
       "      <td>https://programasdeentradausiminas.gupy.io/job...</td>\n",
       "      <td>{'friendlyBadge': True}</td>\n",
       "      <td>True</td>\n",
       "      <td>on-site</td>\n",
       "      <td>https://programasdeentradausiminas.gupy.io/eyJ...</td>\n",
       "      <td>ADM</td>\n",
       "      <td>ESTAGIO</td>\n",
       "    </tr>\n",
       "    <tr>\n",
       "      <th>24</th>\n",
       "      <td>8307560</td>\n",
       "      <td>2133</td>\n",
       "      <td>Estágio Usiminas - Belo Horizonte, MG  | Admin...</td>\n",
       "      <td>Imagine fazer parte de uma indústria líder no ...</td>\n",
       "      <td>26377</td>\n",
       "      <td>Programas de Entrada Usiminas</td>\n",
       "      <td>https://attachments.gupy.io/production/compani...</td>\n",
       "      <td>vacancy_type_internship</td>\n",
       "      <td>2024-12-16T19:10:23.619Z</td>\n",
       "      <td>2025-02-14T00:00:00.000Z</td>\n",
       "      <td>...</td>\n",
       "      <td>Belo Horizonte</td>\n",
       "      <td>Minas Gerais</td>\n",
       "      <td>Brasil</td>\n",
       "      <td>https://programasdeentradausiminas.gupy.io/job...</td>\n",
       "      <td>{'friendlyBadge': True}</td>\n",
       "      <td>True</td>\n",
       "      <td>on-site</td>\n",
       "      <td>https://programasdeentradausiminas.gupy.io/eyJ...</td>\n",
       "      <td>ADM</td>\n",
       "      <td>ESTAGIO</td>\n",
       "    </tr>\n",
       "    <tr>\n",
       "      <th>25</th>\n",
       "      <td>8307421</td>\n",
       "      <td>2133</td>\n",
       "      <td>Estágio Usiminas - Vitória, ES  | Administraçã...</td>\n",
       "      <td>Imagine fazer parte de uma indústria líder no ...</td>\n",
       "      <td>26377</td>\n",
       "      <td>Programas de Entrada Usiminas</td>\n",
       "      <td>https://attachments.gupy.io/production/compani...</td>\n",
       "      <td>vacancy_type_internship</td>\n",
       "      <td>2024-12-16T19:00:11.541Z</td>\n",
       "      <td>2025-02-14T00:00:00.000Z</td>\n",
       "      <td>...</td>\n",
       "      <td>Vitória</td>\n",
       "      <td>Espírito Santo</td>\n",
       "      <td>Brasil</td>\n",
       "      <td>https://programasdeentradausiminas.gupy.io/job...</td>\n",
       "      <td>{'friendlyBadge': True}</td>\n",
       "      <td>True</td>\n",
       "      <td>on-site</td>\n",
       "      <td>https://programasdeentradausiminas.gupy.io/eyJ...</td>\n",
       "      <td>ADM</td>\n",
       "      <td>ESTAGIO</td>\n",
       "    </tr>\n",
       "    <tr>\n",
       "      <th>26</th>\n",
       "      <td>8307248</td>\n",
       "      <td>2133</td>\n",
       "      <td>Estágio Usiminas - Itatiaiuçu, MG  | Administr...</td>\n",
       "      <td>Imagine fazer parte de uma indústria líder no ...</td>\n",
       "      <td>26377</td>\n",
       "      <td>Programas de Entrada Usiminas</td>\n",
       "      <td>https://attachments.gupy.io/production/compani...</td>\n",
       "      <td>vacancy_type_internship</td>\n",
       "      <td>2024-12-16T18:38:12.214Z</td>\n",
       "      <td>2025-01-31T00:00:00.000Z</td>\n",
       "      <td>...</td>\n",
       "      <td>Itatiaiuçu</td>\n",
       "      <td>Minas Gerais</td>\n",
       "      <td>Brasil</td>\n",
       "      <td>https://programasdeentradausiminas.gupy.io/job...</td>\n",
       "      <td>{'friendlyBadge': True}</td>\n",
       "      <td>True</td>\n",
       "      <td>on-site</td>\n",
       "      <td>https://programasdeentradausiminas.gupy.io/eyJ...</td>\n",
       "      <td>ADM</td>\n",
       "      <td>ESTAGIO</td>\n",
       "    </tr>\n",
       "    <tr>\n",
       "      <th>27</th>\n",
       "      <td>8270040</td>\n",
       "      <td>42838</td>\n",
       "      <td>Professor Mestre - Administração</td>\n",
       "      <td>Você está pronto para transformar o mundo atra...</td>\n",
       "      <td>93173</td>\n",
       "      <td>Universidade Católica de Brasília</td>\n",
       "      <td>https://attachments.gupy.io/production/compani...</td>\n",
       "      <td>vacancy_type_talent_pool</td>\n",
       "      <td>2024-12-16T18:30:41.019Z</td>\n",
       "      <td>2025-01-03T00:00:00.000Z</td>\n",
       "      <td>...</td>\n",
       "      <td>Brasilia</td>\n",
       "      <td>Distrito Federal</td>\n",
       "      <td>Brasil</td>\n",
       "      <td>https://ucb.gupy.io/job/eyJqb2JJZCI6ODI3MDA0MC...</td>\n",
       "      <td>{'friendlyBadge': True}</td>\n",
       "      <td>True</td>\n",
       "      <td>on-site</td>\n",
       "      <td>https://ucb.gupy.io/eyJzb3VyY2UiOiJndXB5X3Bvcn...</td>\n",
       "      <td>ADM</td>\n",
       "      <td>DADO NÃO IDENTIFICADO</td>\n",
       "    </tr>\n",
       "    <tr>\n",
       "      <th>28</th>\n",
       "      <td>8306978</td>\n",
       "      <td>2133</td>\n",
       "      <td>Estágio Usiminas - Ipatinga, MG  | Administraç...</td>\n",
       "      <td>Imagine fazer parte de uma indústria líder no ...</td>\n",
       "      <td>26377</td>\n",
       "      <td>Programas de Entrada Usiminas</td>\n",
       "      <td>https://attachments.gupy.io/production/compani...</td>\n",
       "      <td>vacancy_type_internship</td>\n",
       "      <td>2024-12-16T18:13:30.480Z</td>\n",
       "      <td>2025-01-31T00:00:00.000Z</td>\n",
       "      <td>...</td>\n",
       "      <td>Ipatinga</td>\n",
       "      <td>Minas Gerais</td>\n",
       "      <td>Brasil</td>\n",
       "      <td>https://programasdeentradausiminas.gupy.io/job...</td>\n",
       "      <td>{'friendlyBadge': True}</td>\n",
       "      <td>True</td>\n",
       "      <td>on-site</td>\n",
       "      <td>https://programasdeentradausiminas.gupy.io/eyJ...</td>\n",
       "      <td>ADM</td>\n",
       "      <td>ESTAGIO</td>\n",
       "    </tr>\n",
       "    <tr>\n",
       "      <th>29</th>\n",
       "      <td>8306596</td>\n",
       "      <td>76993</td>\n",
       "      <td>Gerente de Administração de Vendas</td>\n",
       "      <td>O Gerente Administrativo de Vendas coordena e ...</td>\n",
       "      <td>192501</td>\n",
       "      <td>VB Alimentos</td>\n",
       "      <td>https://attachments.gupy.io/production/compani...</td>\n",
       "      <td>vacancy_legal_entity</td>\n",
       "      <td>2024-12-16T18:11:48.074Z</td>\n",
       "      <td>2025-02-14T00:00:00.000Z</td>\n",
       "      <td>...</td>\n",
       "      <td>Goiânia</td>\n",
       "      <td>Goiás</td>\n",
       "      <td>Brasil</td>\n",
       "      <td>https://vbalimentos.gupy.io/job/eyJqb2JJZCI6OD...</td>\n",
       "      <td>{'friendlyBadge': False}</td>\n",
       "      <td>False</td>\n",
       "      <td>on-site</td>\n",
       "      <td>https://vbalimentos.gupy.io/eyJzb3VyY2UiOiJndX...</td>\n",
       "      <td>ADM</td>\n",
       "      <td>DADO NÃO IDENTIFICADO</td>\n",
       "    </tr>\n",
       "    <tr>\n",
       "      <th>30</th>\n",
       "      <td>8208269</td>\n",
       "      <td>51022</td>\n",
       "      <td>Estagiário RH I Foco em Departamento Pessoal (...</td>\n",
       "      <td>Somos referência na implantação de negócios di...</td>\n",
       "      <td>105945</td>\n",
       "      <td>Corebiz</td>\n",
       "      <td>https://attachments.gupy.io/production/compani...</td>\n",
       "      <td>vacancy_type_internship</td>\n",
       "      <td>2024-12-17T01:41:10.227Z</td>\n",
       "      <td>2024-12-20T00:00:00.000Z</td>\n",
       "      <td>...</td>\n",
       "      <td>Barueri</td>\n",
       "      <td>São Paulo</td>\n",
       "      <td>Brasil</td>\n",
       "      <td>https://corebiz.gupy.io/job/eyJqb2JJZCI6ODIwOD...</td>\n",
       "      <td>{'friendlyBadge': True}</td>\n",
       "      <td>True</td>\n",
       "      <td>hybrid</td>\n",
       "      <td>https://corebiz.gupy.io/eyJzb3VyY2UiOiJndXB5X3...</td>\n",
       "      <td>RH</td>\n",
       "      <td>ESTAGIO</td>\n",
       "    </tr>\n",
       "    <tr>\n",
       "      <th>31</th>\n",
       "      <td>8308854</td>\n",
       "      <td>51319</td>\n",
       "      <td>Assistente de RH</td>\n",
       "      <td>A Livraria da Vila tem como objetivo proporcio...</td>\n",
       "      <td>104983</td>\n",
       "      <td>Livraria da Vila</td>\n",
       "      <td>https://attachments.gupy.io/production/compani...</td>\n",
       "      <td>vacancy_type_effective</td>\n",
       "      <td>2024-12-16T21:32:15.199Z</td>\n",
       "      <td>2025-01-10T00:00:00.000Z</td>\n",
       "      <td>...</td>\n",
       "      <td>São Paulo</td>\n",
       "      <td>São Paulo</td>\n",
       "      <td>Brasil</td>\n",
       "      <td>https://livrariadavila.gupy.io/job/eyJqb2JJZCI...</td>\n",
       "      <td>{'friendlyBadge': True}</td>\n",
       "      <td>False</td>\n",
       "      <td>on-site</td>\n",
       "      <td>https://livrariadavila.gupy.io/eyJzb3VyY2UiOiJ...</td>\n",
       "      <td>RH</td>\n",
       "      <td>DADO NÃO IDENTIFICADO</td>\n",
       "    </tr>\n",
       "    <tr>\n",
       "      <th>32</th>\n",
       "      <td>8307921</td>\n",
       "      <td>72045</td>\n",
       "      <td>Belo Horizonte - Analista RH</td>\n",
       "      <td>Empresa&amp;nbsp;de&amp;nbsp;grande&amp;nbsp;porte&amp;nbsp;(c...</td>\n",
       "      <td>188113</td>\n",
       "      <td>Confidencial</td>\n",
       "      <td>https://career-page-prod.gupy.io/default-creat...</td>\n",
       "      <td>vacancy_type_effective</td>\n",
       "      <td>2024-12-16T19:50:03.739Z</td>\n",
       "      <td>2025-02-14T00:00:00.000Z</td>\n",
       "      <td>...</td>\n",
       "      <td>Belo Horizonte</td>\n",
       "      <td>Minas Gerais</td>\n",
       "      <td>Brasil</td>\n",
       "      <td>https://pagconfid.gupy.io/job/eyJqb2JJZCI6ODMw...</td>\n",
       "      <td>{'friendlyBadge': False}</td>\n",
       "      <td>True</td>\n",
       "      <td>on-site</td>\n",
       "      <td>https://pagconfid.gupy.io/eyJzb3VyY2UiOiJndXB5...</td>\n",
       "      <td>RH</td>\n",
       "      <td>DADO NÃO IDENTIFICADO</td>\n",
       "    </tr>\n",
       "    <tr>\n",
       "      <th>33</th>\n",
       "      <td>8307191</td>\n",
       "      <td>72045</td>\n",
       "      <td>Gerente RH</td>\n",
       "      <td>Empresa&amp;nbsp;de&amp;nbsp;grande&amp;nbsp;porte&amp;nbsp;(c...</td>\n",
       "      <td>188113</td>\n",
       "      <td>Confidencial</td>\n",
       "      <td>https://career-page-prod.gupy.io/default-creat...</td>\n",
       "      <td>vacancy_type_effective</td>\n",
       "      <td>2024-12-16T18:36:53.750Z</td>\n",
       "      <td>2025-02-14T00:00:00.000Z</td>\n",
       "      <td>...</td>\n",
       "      <td>Curitiba</td>\n",
       "      <td>Paraná</td>\n",
       "      <td>Brasil</td>\n",
       "      <td>https://pagconfid.gupy.io/job/eyJqb2JJZCI6ODMw...</td>\n",
       "      <td>{'friendlyBadge': False}</td>\n",
       "      <td>True</td>\n",
       "      <td>on-site</td>\n",
       "      <td>https://pagconfid.gupy.io/eyJzb3VyY2UiOiJndXB5...</td>\n",
       "      <td>RH</td>\n",
       "      <td>DADO NÃO IDENTIFICADO</td>\n",
       "    </tr>\n",
       "    <tr>\n",
       "      <th>34</th>\n",
       "      <td>8305592</td>\n",
       "      <td>35776</td>\n",
       "      <td>Analista de RH</td>\n",
       "      <td>Se o seu propósito é inspirar pessoas a cuidar...</td>\n",
       "      <td>75052</td>\n",
       "      <td>Vagas Grupo Sabin</td>\n",
       "      <td>https://attachments.gupy.io/production/compani...</td>\n",
       "      <td>vacancy_type_effective</td>\n",
       "      <td>2024-12-16T17:37:32.181Z</td>\n",
       "      <td>2025-01-15T00:00:00.000Z</td>\n",
       "      <td>...</td>\n",
       "      <td>Campo Grande</td>\n",
       "      <td>Mato Grosso do Sul</td>\n",
       "      <td>Brasil</td>\n",
       "      <td>https://gruposabin.gupy.io/job/eyJqb2JJZCI6ODM...</td>\n",
       "      <td>{'friendlyBadge': False}</td>\n",
       "      <td>True</td>\n",
       "      <td>on-site</td>\n",
       "      <td>https://gruposabin.gupy.io/eyJzb3VyY2UiOiJndXB...</td>\n",
       "      <td>RH</td>\n",
       "      <td>DADO NÃO IDENTIFICADO</td>\n",
       "    </tr>\n",
       "    <tr>\n",
       "      <th>35</th>\n",
       "      <td>8306104</td>\n",
       "      <td>1900</td>\n",
       "      <td>Assistente de RH (Recrutamento e Seleção)</td>\n",
       "      <td>Publicar anúncios de emprego em plataformas re...</td>\n",
       "      <td>2996</td>\n",
       "      <td>Acal Home Center</td>\n",
       "      <td>https://attachments.gupy.io/production/compani...</td>\n",
       "      <td>vacancy_type_effective</td>\n",
       "      <td>2024-12-16T16:49:58.121Z</td>\n",
       "      <td>2025-02-14T00:00:00.000Z</td>\n",
       "      <td>...</td>\n",
       "      <td>Fortaleza</td>\n",
       "      <td>Ceará</td>\n",
       "      <td>Brasil</td>\n",
       "      <td>https://acal.gupy.io/job/eyJqb2JJZCI6ODMwNjEwN...</td>\n",
       "      <td>{'friendlyBadge': False}</td>\n",
       "      <td>True</td>\n",
       "      <td>on-site</td>\n",
       "      <td>https://acal.gupy.io/eyJzb3VyY2UiOiJndXB5X3Bvc...</td>\n",
       "      <td>RH</td>\n",
       "      <td>DADO NÃO IDENTIFICADO</td>\n",
       "    </tr>\n",
       "    <tr>\n",
       "      <th>36</th>\n",
       "      <td>8305721</td>\n",
       "      <td>72045</td>\n",
       "      <td>Analista RH</td>\n",
       "      <td>Empresa&amp;nbsp;de&amp;nbsp;grande&amp;nbsp;porte&amp;nbsp;(c...</td>\n",
       "      <td>188113</td>\n",
       "      <td>Confidencial</td>\n",
       "      <td>https://career-page-prod.gupy.io/default-creat...</td>\n",
       "      <td>vacancy_type_effective</td>\n",
       "      <td>2024-12-16T16:24:16.543Z</td>\n",
       "      <td>2025-02-14T00:00:00.000Z</td>\n",
       "      <td>...</td>\n",
       "      <td>Maringá</td>\n",
       "      <td>Paraná</td>\n",
       "      <td>Brasil</td>\n",
       "      <td>https://pagconfid.gupy.io/job/eyJqb2JJZCI6ODMw...</td>\n",
       "      <td>{'friendlyBadge': False}</td>\n",
       "      <td>True</td>\n",
       "      <td>on-site</td>\n",
       "      <td>https://pagconfid.gupy.io/eyJzb3VyY2UiOiJndXB5...</td>\n",
       "      <td>RH</td>\n",
       "      <td>DADO NÃO IDENTIFICADO</td>\n",
       "    </tr>\n",
       "    <tr>\n",
       "      <th>37</th>\n",
       "      <td>8304984</td>\n",
       "      <td>54454</td>\n",
       "      <td>Estagiário de RH - Business Partner</td>\n",
       "      <td>Quem somos?A Bellinati Perez,&amp;nbsp;atua na rec...</td>\n",
       "      <td>124388</td>\n",
       "      <td>Bellinati Perez</td>\n",
       "      <td>https://attachments.gupy.io/production/compani...</td>\n",
       "      <td>vacancy_type_internship</td>\n",
       "      <td>2024-12-16T14:26:56.032Z</td>\n",
       "      <td>2025-02-14T00:00:00.000Z</td>\n",
       "      <td>...</td>\n",
       "      <td>Curitiba</td>\n",
       "      <td>Paraná</td>\n",
       "      <td>Brasil</td>\n",
       "      <td>https://bellinatiperez.gupy.io/job/eyJqb2JJZCI...</td>\n",
       "      <td>{'friendlyBadge': True}</td>\n",
       "      <td>True</td>\n",
       "      <td>on-site</td>\n",
       "      <td>https://bellinatiperez.gupy.io/eyJzb3VyY2UiOiJ...</td>\n",
       "      <td>RH</td>\n",
       "      <td>ESTAGIO</td>\n",
       "    </tr>\n",
       "    <tr>\n",
       "      <th>38</th>\n",
       "      <td>8304316</td>\n",
       "      <td>77719</td>\n",
       "      <td>Analista de RH Junior</td>\n",
       "      <td>A Lojas Koerich é uma das empresas que mais cr...</td>\n",
       "      <td>198868</td>\n",
       "      <td>Lojas Koerich</td>\n",
       "      <td>https://attachments.gupy.io/production/compani...</td>\n",
       "      <td>vacancy_type_effective</td>\n",
       "      <td>2024-12-16T14:09:06.358Z</td>\n",
       "      <td>2025-02-14T00:00:00.000Z</td>\n",
       "      <td>...</td>\n",
       "      <td>Biguaçu</td>\n",
       "      <td>Santa Catarina</td>\n",
       "      <td>Brasil</td>\n",
       "      <td>https://lojaskoerich.gupy.io/job/eyJqb2JJZCI6O...</td>\n",
       "      <td>{'friendlyBadge': False}</td>\n",
       "      <td>True</td>\n",
       "      <td>on-site</td>\n",
       "      <td>https://lojaskoerich.gupy.io/eyJzb3VyY2UiOiJnd...</td>\n",
       "      <td>RH</td>\n",
       "      <td>JUNIOR</td>\n",
       "    </tr>\n",
       "    <tr>\n",
       "      <th>39</th>\n",
       "      <td>8303878</td>\n",
       "      <td>9805</td>\n",
       "      <td>ASSISTENTE DE RH</td>\n",
       "      <td>Vaga para atuar no Recursos Humanos da empresa...</td>\n",
       "      <td>22450</td>\n",
       "      <td>Bralimpia Equipamentos</td>\n",
       "      <td>https://attachments.gupy.io/production/compani...</td>\n",
       "      <td>vacancy_type_effective</td>\n",
       "      <td>2024-12-16T14:01:41.998Z</td>\n",
       "      <td>2025-02-14T00:00:00.000Z</td>\n",
       "      <td>...</td>\n",
       "      <td>São Paulo</td>\n",
       "      <td>São Paulo</td>\n",
       "      <td>Brasil</td>\n",
       "      <td>https://bralimpia.gupy.io/job/eyJqb2JJZCI6ODMw...</td>\n",
       "      <td>{'friendlyBadge': False}</td>\n",
       "      <td>False</td>\n",
       "      <td>on-site</td>\n",
       "      <td>https://bralimpia.gupy.io/eyJzb3VyY2UiOiJndXB5...</td>\n",
       "      <td>RH</td>\n",
       "      <td>DADO NÃO IDENTIFICADO</td>\n",
       "    </tr>\n",
       "    <tr>\n",
       "      <th>40</th>\n",
       "      <td>8307406</td>\n",
       "      <td>32048</td>\n",
       "      <td>Desenvolvedor(a) Frontend Sênior {Travel Agency}</td>\n",
       "      <td>Se você é apaixonado por resolver problemas e ...</td>\n",
       "      <td>70237</td>\n",
       "      <td>Paytrack</td>\n",
       "      <td>https://attachments.gupy.io/production/compani...</td>\n",
       "      <td>vacancy_type_effective</td>\n",
       "      <td>2024-12-16T18:54:04.894Z</td>\n",
       "      <td>2025-03-01T00:00:00.000Z</td>\n",
       "      <td>...</td>\n",
       "      <td>Blumenau</td>\n",
       "      <td>Santa Catarina</td>\n",
       "      <td>Brasil</td>\n",
       "      <td>https://paytrack.gupy.io/job/eyJqb2JJZCI6ODMwN...</td>\n",
       "      <td>{'friendlyBadge': True}</td>\n",
       "      <td>True</td>\n",
       "      <td>hybrid</td>\n",
       "      <td>https://paytrack.gupy.io/eyJzb3VyY2UiOiJndXB5X...</td>\n",
       "      <td>FRTEND</td>\n",
       "      <td>SENIOR</td>\n",
       "    </tr>\n",
       "    <tr>\n",
       "      <th>41</th>\n",
       "      <td>8186441</td>\n",
       "      <td>44323</td>\n",
       "      <td>Pessoa Especialista em Desenvolvimento Fronten...</td>\n",
       "      <td>Somos um dos maiores ecossistemas de Negócios ...</td>\n",
       "      <td>90628</td>\n",
       "      <td>Softplan</td>\n",
       "      <td>https://attachments.gupy.io/production/compani...</td>\n",
       "      <td>vacancy_type_effective</td>\n",
       "      <td>2024-12-13T22:47:53.139Z</td>\n",
       "      <td>2024-12-31T00:00:00.000Z</td>\n",
       "      <td>...</td>\n",
       "      <td>Dado Não Disponível</td>\n",
       "      <td>Dado Não Disponível</td>\n",
       "      <td>Brasil</td>\n",
       "      <td>https://softplan.gupy.io/job/eyJqb2JJZCI6ODE4N...</td>\n",
       "      <td>{'friendlyBadge': True}</td>\n",
       "      <td>True</td>\n",
       "      <td>remote</td>\n",
       "      <td>https://softplan.gupy.io/eyJzb3VyY2UiOiJndXB5X...</td>\n",
       "      <td>FRTEND</td>\n",
       "      <td>DADO NÃO IDENTIFICADO</td>\n",
       "    </tr>\n",
       "    <tr>\n",
       "      <th>42</th>\n",
       "      <td>8215294</td>\n",
       "      <td>68185</td>\n",
       "      <td>Pessoa Desenvolvedora de Software Júnior - Fro...</td>\n",
       "      <td>Somos uma empresa 100% digital, com tecnologia...</td>\n",
       "      <td>164020</td>\n",
       "      <td>Grupo OLX</td>\n",
       "      <td>https://attachments.gupy.io/production/compani...</td>\n",
       "      <td>vacancy_type_effective</td>\n",
       "      <td>2024-12-12T16:59:52.261Z</td>\n",
       "      <td>2025-03-31T00:00:00.000Z</td>\n",
       "      <td>...</td>\n",
       "      <td>Dado Não Disponível</td>\n",
       "      <td>Dado Não Disponível</td>\n",
       "      <td>Brasil</td>\n",
       "      <td>https://vemserolxbrasil.gupy.io/job/eyJqb2JJZC...</td>\n",
       "      <td>{'friendlyBadge': True}</td>\n",
       "      <td>True</td>\n",
       "      <td>remote</td>\n",
       "      <td>https://vemserolxbrasil.gupy.io/eyJzb3VyY2UiOi...</td>\n",
       "      <td>FRTEND</td>\n",
       "      <td>JUNIOR</td>\n",
       "    </tr>\n",
       "    <tr>\n",
       "      <th>43</th>\n",
       "      <td>8280734</td>\n",
       "      <td>66730</td>\n",
       "      <td>Desarrollador FrontEnd</td>\n",
       "      <td>Somos una compañía de soluciones digitales, co...</td>\n",
       "      <td>164302</td>\n",
       "      <td>TIVIT</td>\n",
       "      <td>https://attachments.gupy.io/production/compani...</td>\n",
       "      <td>vacancy_type_associate</td>\n",
       "      <td>2024-12-11T13:46:24.953Z</td>\n",
       "      <td>2025-02-09T00:00:00.000Z</td>\n",
       "      <td>...</td>\n",
       "      <td>Dado Não Disponível</td>\n",
       "      <td>Dado Não Disponível</td>\n",
       "      <td>Chile</td>\n",
       "      <td>https://tivitlatam.gupy.io/job/eyJqb2JJZCI6ODI...</td>\n",
       "      <td>{'friendlyBadge': True}</td>\n",
       "      <td>False</td>\n",
       "      <td>remote</td>\n",
       "      <td>https://tivitlatam.gupy.io/eyJzb3VyY2UiOiJndXB...</td>\n",
       "      <td>FRTEND</td>\n",
       "      <td>DADO NÃO IDENTIFICADO</td>\n",
       "    </tr>\n",
       "    <tr>\n",
       "      <th>44</th>\n",
       "      <td>8217409</td>\n",
       "      <td>551</td>\n",
       "      <td>Desenvolvedor Frontend Mobile</td>\n",
       "      <td>Somos aproximadamente 50k Minsaiters no Mundo ...</td>\n",
       "      <td>71488</td>\n",
       "      <td>Minsait an Indra Company</td>\n",
       "      <td>https://attachments.gupy.io/production/compani...</td>\n",
       "      <td>vacancy_type_effective</td>\n",
       "      <td>2024-12-10T12:16:28.225Z</td>\n",
       "      <td>2025-01-28T00:00:00.000Z</td>\n",
       "      <td>...</td>\n",
       "      <td>Dado Não Disponível</td>\n",
       "      <td>Dado Não Disponível</td>\n",
       "      <td>Brasil</td>\n",
       "      <td>https://minsait.gupy.io/job/eyJqb2JJZCI6ODIxNz...</td>\n",
       "      <td>{'friendlyBadge': True}</td>\n",
       "      <td>True</td>\n",
       "      <td>remote</td>\n",
       "      <td>https://minsait.gupy.io/eyJzb3VyY2UiOiJndXB5X3...</td>\n",
       "      <td>FRTEND</td>\n",
       "      <td>DADO NÃO IDENTIFICADO</td>\n",
       "    </tr>\n",
       "    <tr>\n",
       "      <th>45</th>\n",
       "      <td>8217412</td>\n",
       "      <td>551</td>\n",
       "      <td>Desenvolvedor Frontend WEB</td>\n",
       "      <td>Somos aproximadamente 50k Minsaiters no Mundo ...</td>\n",
       "      <td>71488</td>\n",
       "      <td>Minsait an Indra Company</td>\n",
       "      <td>https://attachments.gupy.io/production/compani...</td>\n",
       "      <td>vacancy_type_effective</td>\n",
       "      <td>2024-12-10T12:08:32.528Z</td>\n",
       "      <td>2025-01-28T00:00:00.000Z</td>\n",
       "      <td>...</td>\n",
       "      <td>Dado Não Disponível</td>\n",
       "      <td>Dado Não Disponível</td>\n",
       "      <td>Brasil</td>\n",
       "      <td>https://minsait.gupy.io/job/eyJqb2JJZCI6ODIxNz...</td>\n",
       "      <td>{'friendlyBadge': True}</td>\n",
       "      <td>True</td>\n",
       "      <td>remote</td>\n",
       "      <td>https://minsait.gupy.io/eyJzb3VyY2UiOiJndXB5X3...</td>\n",
       "      <td>FRTEND</td>\n",
       "      <td>DADO NÃO IDENTIFICADO</td>\n",
       "    </tr>\n",
       "    <tr>\n",
       "      <th>46</th>\n",
       "      <td>8177648</td>\n",
       "      <td>18155</td>\n",
       "      <td>Desenvolvedor de FrontEnd Junior</td>\n",
       "      <td>Você busca um lugar para aprender e contribuir...</td>\n",
       "      <td>43372</td>\n",
       "      <td>Leo Madeiras</td>\n",
       "      <td>https://attachments.gupy.io/production/compani...</td>\n",
       "      <td>vacancy_type_effective</td>\n",
       "      <td>2024-12-06T19:21:31.673Z</td>\n",
       "      <td>2025-01-21T00:00:00.000Z</td>\n",
       "      <td>...</td>\n",
       "      <td>Barueri</td>\n",
       "      <td>São Paulo</td>\n",
       "      <td>Brasil</td>\n",
       "      <td>https://leomadeiras.gupy.io/job/eyJqb2JJZCI6OD...</td>\n",
       "      <td>{'friendlyBadge': False}</td>\n",
       "      <td>False</td>\n",
       "      <td>hybrid</td>\n",
       "      <td>https://leomadeiras.gupy.io/eyJzb3VyY2UiOiJndX...</td>\n",
       "      <td>FRTEND</td>\n",
       "      <td>JUNIOR</td>\n",
       "    </tr>\n",
       "    <tr>\n",
       "      <th>47</th>\n",
       "      <td>8239968</td>\n",
       "      <td>50527</td>\n",
       "      <td>Pessoa Desenvolvedora Frontend Angular - Sênior</td>\n",
       "      <td>A FCamara está em busca de uma Desenvolvedor F...</td>\n",
       "      <td>117226</td>\n",
       "      <td>VENHA SER #SANGUELARANJA 🧡🚀</td>\n",
       "      <td>https://attachments.gupy.io/production/compani...</td>\n",
       "      <td>vacancy_type_effective</td>\n",
       "      <td>2024-12-05T14:41:56.421Z</td>\n",
       "      <td>2025-02-02T00:00:00.000Z</td>\n",
       "      <td>...</td>\n",
       "      <td>Dado Não Disponível</td>\n",
       "      <td>Dado Não Disponível</td>\n",
       "      <td>Brasil</td>\n",
       "      <td>https://fcamara.gupy.io/job/eyJqb2JJZCI6ODIzOT...</td>\n",
       "      <td>{'friendlyBadge': True}</td>\n",
       "      <td>True</td>\n",
       "      <td>remote</td>\n",
       "      <td>https://fcamara.gupy.io/eyJzb3VyY2UiOiJndXB5X3...</td>\n",
       "      <td>FRTEND</td>\n",
       "      <td>SENIOR</td>\n",
       "    </tr>\n",
       "    <tr>\n",
       "      <th>48</th>\n",
       "      <td>8229635</td>\n",
       "      <td>5977</td>\n",
       "      <td>Desenvolvedor de Software Sênior - Frontend</td>\n",
       "      <td>Como Desenvolvedor de Software Sênior Front-en...</td>\n",
       "      <td>12814</td>\n",
       "      <td>Montreal &amp; Tecnologia &amp; Inovação</td>\n",
       "      <td>https://attachments.gupy.io/production/compani...</td>\n",
       "      <td>vacancy_type_effective</td>\n",
       "      <td>2024-12-03T14:32:35.939Z</td>\n",
       "      <td>2025-02-01T00:00:00.000Z</td>\n",
       "      <td>...</td>\n",
       "      <td>Dado Não Disponível</td>\n",
       "      <td>Dado Não Disponível</td>\n",
       "      <td>Brasil</td>\n",
       "      <td>https://montreal.gupy.io/job/eyJqb2JJZCI6ODIyO...</td>\n",
       "      <td>{'friendlyBadge': True}</td>\n",
       "      <td>True</td>\n",
       "      <td>remote</td>\n",
       "      <td>https://montreal.gupy.io/eyJzb3VyY2UiOiJndXB5X...</td>\n",
       "      <td>FRTEND</td>\n",
       "      <td>SENIOR</td>\n",
       "    </tr>\n",
       "    <tr>\n",
       "      <th>49</th>\n",
       "      <td>8222289</td>\n",
       "      <td>45874</td>\n",
       "      <td>Pessoa Desenvolvedora Frontend Pleno</td>\n",
       "      <td>Como é trabalhar aqui? 🤩Temos um clima bem inf...</td>\n",
       "      <td>91133</td>\n",
       "      <td>Casar.com</td>\n",
       "      <td>https://attachments.gupy.io/production/compani...</td>\n",
       "      <td>vacancy_type_effective</td>\n",
       "      <td>2024-12-01T22:42:41.403Z</td>\n",
       "      <td>2025-02-24T00:00:00.000Z</td>\n",
       "      <td>...</td>\n",
       "      <td>Dado Não Disponível</td>\n",
       "      <td>Dado Não Disponível</td>\n",
       "      <td>Brasil</td>\n",
       "      <td>https://casarcom.gupy.io/job/eyJqb2JJZCI6ODIyM...</td>\n",
       "      <td>{'friendlyBadge': True}</td>\n",
       "      <td>False</td>\n",
       "      <td>remote</td>\n",
       "      <td>https://casarcom.gupy.io/eyJzb3VyY2UiOiJndXB5X...</td>\n",
       "      <td>FRTEND</td>\n",
       "      <td>PLENO</td>\n",
       "    </tr>\n",
       "  </tbody>\n",
       "</table>\n",
       "<p>50 rows × 21 columns</p>\n",
       "</div>"
      ],
      "text/plain": [
       "         id  companyId                                               name  \\\n",
       "0   8309213      48481                             Analista de Dados - PL   \n",
       "1   8129537        364  CAS | Analista de Dados Pleno - Fundação Sicredi    \n",
       "2   8260501      49702                          Analista de dados Sênior    \n",
       "3   8307420      68351                              Analista de Dados SQL   \n",
       "4   8307006      47657              ESPECIALISTA DE DADOS - MERCADO LIVRE   \n",
       "5   8306845      47657                  ANALISTA DE DADOS FINANCEIROS III   \n",
       "6   8234123      36436                  Pessoa Engenheira de Dados Júnior   \n",
       "7   8306779       2119                            Cientista de Dados Sr.    \n",
       "8   8306392        230                         Consultor de Dados Sênior    \n",
       "9   8133378       2051      Analista de Dados Industriais - Unidade Crato   \n",
       "10  8259154      66730                                  Designer UX/UI SR   \n",
       "11  8250217        551                              Analista UX/UI Sênior   \n",
       "12  8267530       2351                                  UX UI - Designer    \n",
       "13  8266403      46666                                     UX/UI Designer   \n",
       "14  8239104      40726                       Pessoa UX/UI Designer Sênior   \n",
       "15  8170541        345                       Estagiário(a) - UX UI Design   \n",
       "16  8256163      56566             Pessoa Analista de UX/UI Design Junior   \n",
       "17  8225991      56566              Pessoa Analista de UX/UI Design Pleno   \n",
       "18  8223272      59833                             Senior UX/UI Designer    \n",
       "19  8218247      41090                            UX/UI - Pleno - Híbrido   \n",
       "20  8308974       2326             Analista de Administração de Vendas Jr   \n",
       "21  8307691       2133  Estágio Usiminas - Taubaté, SP  | Administraçã...   \n",
       "22  8307632       2133  Estágio Usiminas - Porto Alegre, RS  | Adminis...   \n",
       "23  8307608       2133  Estágio Usiminas - Guarulhos, SP  | Administra...   \n",
       "24  8307560       2133  Estágio Usiminas - Belo Horizonte, MG  | Admin...   \n",
       "25  8307421       2133  Estágio Usiminas - Vitória, ES  | Administraçã...   \n",
       "26  8307248       2133  Estágio Usiminas - Itatiaiuçu, MG  | Administr...   \n",
       "27  8270040      42838                  Professor Mestre - Administração    \n",
       "28  8306978       2133  Estágio Usiminas - Ipatinga, MG  | Administraç...   \n",
       "29  8306596      76993                 Gerente de Administração de Vendas   \n",
       "30  8208269      51022  Estagiário RH I Foco em Departamento Pessoal (...   \n",
       "31  8308854      51319                                   Assistente de RH   \n",
       "32  8307921      72045                       Belo Horizonte - Analista RH   \n",
       "33  8307191      72045                                         Gerente RH   \n",
       "34  8305592      35776                                     Analista de RH   \n",
       "35  8306104       1900          Assistente de RH (Recrutamento e Seleção)   \n",
       "36  8305721      72045                                        Analista RH   \n",
       "37  8304984      54454                Estagiário de RH - Business Partner   \n",
       "38  8304316      77719                              Analista de RH Junior   \n",
       "39  8303878       9805                                   ASSISTENTE DE RH   \n",
       "40  8307406      32048   Desenvolvedor(a) Frontend Sênior {Travel Agency}   \n",
       "41  8186441      44323  Pessoa Especialista em Desenvolvimento Fronten...   \n",
       "42  8215294      68185  Pessoa Desenvolvedora de Software Júnior - Fro...   \n",
       "43  8280734      66730                             Desarrollador FrontEnd   \n",
       "44  8217409        551                      Desenvolvedor Frontend Mobile   \n",
       "45  8217412        551                         Desenvolvedor Frontend WEB   \n",
       "46  8177648      18155                   Desenvolvedor de FrontEnd Junior   \n",
       "47  8239968      50527    Pessoa Desenvolvedora Frontend Angular - Sênior   \n",
       "48  8229635       5977        Desenvolvedor de Software Sênior - Frontend   \n",
       "49  8222289      45874            Pessoa Desenvolvedora Frontend Pleno      \n",
       "\n",
       "                                          description  careerPageId  \\\n",
       "0   Estamos em busca de alguém motivado a abraçar ...         97921   \n",
       "1   Buscamos para essa posição um(a) novo(a) coleg...           317   \n",
       "2   Estamos em busca de um Analista de Dados para ...        100264   \n",
       "3   Se você é um profissional com perfil analítico...        164682   \n",
       "4   Somos o Grupo Energisa! Com mais de cem anos d...        104884   \n",
       "5   Somos o Grupo Energisa! Com mais de cem anos d...        104884   \n",
       "6   Sobre a AlmapBBDOQUEM SOMOS!#1 Agência Global ...         80332   \n",
       "7   Há mais de 90 anos, o Banco Bmg vem construind...          3326   \n",
       "8   Inclusão e respeito à diversidade e equidade f...        163843   \n",
       "9   Inovação e transformação digital caminham junt...          3291   \n",
       "10  Designer UX/UI SR100% Remota - CLT / PJCapacid...        162540   \n",
       "11  Somos aproximadamente 50k Minsaiters no Mundo ...         71488   \n",
       "12  Já conhece a Hypnobox? Somos um software compa...          7006   \n",
       "13  Você é apaixonado(a) por criar experiências in...        145540   \n",
       "14  A Akross é uma Tech Boutique que desenvolve e ...         89176   \n",
       "15  Olá!! :DEstamos em busca de estagiário(a) para...         94918   \n",
       "16  🔹Sobre a 1Doc 💙A 1Doc tem como propósito democ...        118019   \n",
       "17  🔹Sobre a 1Doc 💙A 1Doc tem como propósito democ...        118019   \n",
       "18  Quem somos:A Dentsu World Services (DWS) é par...        147026   \n",
       "19  Estamos em busca de um UX/UI Designer Pleno qu...         93235   \n",
       "20  Venha fazer parte do time de Administração de ...         28687   \n",
       "21  Imagine fazer parte de uma indústria líder no ...         26377   \n",
       "22  Imagine fazer parte de uma indústria líder no ...         26377   \n",
       "23  Imagine fazer parte de uma indústria líder no ...         26377   \n",
       "24  Imagine fazer parte de uma indústria líder no ...         26377   \n",
       "25  Imagine fazer parte de uma indústria líder no ...         26377   \n",
       "26  Imagine fazer parte de uma indústria líder no ...         26377   \n",
       "27  Você está pronto para transformar o mundo atra...         93173   \n",
       "28  Imagine fazer parte de uma indústria líder no ...         26377   \n",
       "29  O Gerente Administrativo de Vendas coordena e ...        192501   \n",
       "30  Somos referência na implantação de negócios di...        105945   \n",
       "31  A Livraria da Vila tem como objetivo proporcio...        104983   \n",
       "32  Empresa&nbsp;de&nbsp;grande&nbsp;porte&nbsp;(c...        188113   \n",
       "33  Empresa&nbsp;de&nbsp;grande&nbsp;porte&nbsp;(c...        188113   \n",
       "34  Se o seu propósito é inspirar pessoas a cuidar...         75052   \n",
       "35  Publicar anúncios de emprego em plataformas re...          2996   \n",
       "36  Empresa&nbsp;de&nbsp;grande&nbsp;porte&nbsp;(c...        188113   \n",
       "37  Quem somos?A Bellinati Perez,&nbsp;atua na rec...        124388   \n",
       "38  A Lojas Koerich é uma das empresas que mais cr...        198868   \n",
       "39  Vaga para atuar no Recursos Humanos da empresa...         22450   \n",
       "40  Se você é apaixonado por resolver problemas e ...         70237   \n",
       "41  Somos um dos maiores ecossistemas de Negócios ...         90628   \n",
       "42  Somos uma empresa 100% digital, com tecnologia...        164020   \n",
       "43  Somos una compañía de soluciones digitales, co...        164302   \n",
       "44  Somos aproximadamente 50k Minsaiters no Mundo ...         71488   \n",
       "45  Somos aproximadamente 50k Minsaiters no Mundo ...         71488   \n",
       "46  Você busca um lugar para aprender e contribuir...         43372   \n",
       "47  A FCamara está em busca de uma Desenvolvedor F...        117226   \n",
       "48  Como Desenvolvedor de Software Sênior Front-en...         12814   \n",
       "49  Como é trabalhar aqui? 🤩Temos um clima bem inf...         91133   \n",
       "\n",
       "                               careerPageName  \\\n",
       "0                               Órigo Energia   \n",
       "1                                     Sicredi   \n",
       "2                         Clinicorp Solutions   \n",
       "3                        DNA Recursos Humanos   \n",
       "4                                    Energisa   \n",
       "5                                    Energisa   \n",
       "6                                   AlmapBBDO   \n",
       "7                                   Banco Bmg   \n",
       "8                                 KPMG Brasil   \n",
       "9                                    Grendene   \n",
       "10                                      TIVIT   \n",
       "11                   Minsait an Indra Company   \n",
       "12                           Vem ser Hypnobox   \n",
       "13  Villela Brasil Bank | Gestão de Carreiras   \n",
       "14                                     Akross   \n",
       "15                    Grupo Autoglass Estágio   \n",
       "16                                       1Doc   \n",
       "17                                       1Doc   \n",
       "18               Dentsu World Services Brazil   \n",
       "19                         Just a Little Data   \n",
       "20                              Softys Brasil   \n",
       "21              Programas de Entrada Usiminas   \n",
       "22              Programas de Entrada Usiminas   \n",
       "23              Programas de Entrada Usiminas   \n",
       "24              Programas de Entrada Usiminas   \n",
       "25              Programas de Entrada Usiminas   \n",
       "26              Programas de Entrada Usiminas   \n",
       "27         Universidade Católica de Brasília    \n",
       "28              Programas de Entrada Usiminas   \n",
       "29                               VB Alimentos   \n",
       "30                                    Corebiz   \n",
       "31                           Livraria da Vila   \n",
       "32                               Confidencial   \n",
       "33                               Confidencial   \n",
       "34                          Vagas Grupo Sabin   \n",
       "35                           Acal Home Center   \n",
       "36                               Confidencial   \n",
       "37                            Bellinati Perez   \n",
       "38                              Lojas Koerich   \n",
       "39                     Bralimpia Equipamentos   \n",
       "40                                   Paytrack   \n",
       "41                                   Softplan   \n",
       "42                                  Grupo OLX   \n",
       "43                                      TIVIT   \n",
       "44                   Minsait an Indra Company   \n",
       "45                   Minsait an Indra Company   \n",
       "46                               Leo Madeiras   \n",
       "47                VENHA SER #SANGUELARANJA 🧡🚀   \n",
       "48           Montreal & Tecnologia & Inovação   \n",
       "49                                  Casar.com   \n",
       "\n",
       "                                       careerPageLogo  \\\n",
       "0   https://attachments.gupy.io/production/compani...   \n",
       "1   https://attachments.gupy.io/production/compani...   \n",
       "2   https://attachments.gupy.io/production/compani...   \n",
       "3   https://attachments.gupy.io/production/compani...   \n",
       "4   https://attachments.gupy.io/production/compani...   \n",
       "5   https://attachments.gupy.io/production/compani...   \n",
       "6   https://attachments.gupy.io/production/compani...   \n",
       "7   https://attachments.gupy.io/production/compani...   \n",
       "8   https://attachments.gupy.io/production/compani...   \n",
       "9   https://attachments.gupy.io/production/compani...   \n",
       "10  https://attachments.gupy.io/production/compani...   \n",
       "11  https://attachments.gupy.io/production/compani...   \n",
       "12  https://attachments.gupy.io/production/compani...   \n",
       "13  https://attachments.gupy.io/production/compani...   \n",
       "14  https://attachments.gupy.io/production/compani...   \n",
       "15  https://attachments.gupy.io/production/compani...   \n",
       "16  https://attachments.gupy.io/production/compani...   \n",
       "17  https://attachments.gupy.io/production/compani...   \n",
       "18  https://attachments.gupy.io/production/compani...   \n",
       "19  https://attachments.gupy.io/production/compani...   \n",
       "20  https://attachments.gupy.io/production/compani...   \n",
       "21  https://attachments.gupy.io/production/compani...   \n",
       "22  https://attachments.gupy.io/production/compani...   \n",
       "23  https://attachments.gupy.io/production/compani...   \n",
       "24  https://attachments.gupy.io/production/compani...   \n",
       "25  https://attachments.gupy.io/production/compani...   \n",
       "26  https://attachments.gupy.io/production/compani...   \n",
       "27  https://attachments.gupy.io/production/compani...   \n",
       "28  https://attachments.gupy.io/production/compani...   \n",
       "29  https://attachments.gupy.io/production/compani...   \n",
       "30  https://attachments.gupy.io/production/compani...   \n",
       "31  https://attachments.gupy.io/production/compani...   \n",
       "32  https://career-page-prod.gupy.io/default-creat...   \n",
       "33  https://career-page-prod.gupy.io/default-creat...   \n",
       "34  https://attachments.gupy.io/production/compani...   \n",
       "35  https://attachments.gupy.io/production/compani...   \n",
       "36  https://career-page-prod.gupy.io/default-creat...   \n",
       "37  https://attachments.gupy.io/production/compani...   \n",
       "38  https://attachments.gupy.io/production/compani...   \n",
       "39  https://attachments.gupy.io/production/compani...   \n",
       "40  https://attachments.gupy.io/production/compani...   \n",
       "41  https://attachments.gupy.io/production/compani...   \n",
       "42  https://attachments.gupy.io/production/compani...   \n",
       "43  https://attachments.gupy.io/production/compani...   \n",
       "44  https://attachments.gupy.io/production/compani...   \n",
       "45  https://attachments.gupy.io/production/compani...   \n",
       "46  https://attachments.gupy.io/production/compani...   \n",
       "47  https://attachments.gupy.io/production/compani...   \n",
       "48  https://attachments.gupy.io/production/compani...   \n",
       "49  https://attachments.gupy.io/production/compani...   \n",
       "\n",
       "                        type             publishedDate  \\\n",
       "0     vacancy_type_effective  2024-12-16T23:49:41.951Z   \n",
       "1     vacancy_type_effective  2024-12-16T21:50:47.290Z   \n",
       "2     vacancy_type_effective  2024-12-16T21:13:47.538Z   \n",
       "3     vacancy_type_effective  2024-12-16T21:11:33.204Z   \n",
       "4     vacancy_type_effective  2024-12-16T18:16:09.306Z   \n",
       "5     vacancy_type_effective  2024-12-16T18:10:42.411Z   \n",
       "6    vacancy_type_freelancer  2024-12-16T18:05:25.794Z   \n",
       "7     vacancy_type_effective  2024-12-16T18:00:31.929Z   \n",
       "8     vacancy_type_effective  2024-12-16T17:37:11.872Z   \n",
       "9     vacancy_type_effective  2024-12-16T17:13:52.025Z   \n",
       "10    vacancy_type_effective  2024-12-10T20:45:18.981Z   \n",
       "11    vacancy_type_effective  2024-12-10T12:49:53.389Z   \n",
       "12    vacancy_type_effective  2024-12-09T19:24:28.191Z   \n",
       "13    vacancy_type_associate  2024-12-09T16:44:19.360Z   \n",
       "14    vacancy_type_effective  2024-12-09T15:36:45.002Z   \n",
       "15   vacancy_type_internship  2024-12-06T19:25:10.216Z   \n",
       "16    vacancy_type_effective  2024-12-06T16:16:44.633Z   \n",
       "17    vacancy_type_effective  2024-12-02T18:59:48.805Z   \n",
       "18    vacancy_type_effective  2024-12-02T11:48:09.454Z   \n",
       "19    vacancy_type_effective  2024-11-29T22:02:06.516Z   \n",
       "20    vacancy_type_effective  2024-12-16T22:13:08.372Z   \n",
       "21   vacancy_type_internship  2024-12-16T19:24:48.598Z   \n",
       "22   vacancy_type_internship  2024-12-16T19:18:40.589Z   \n",
       "23   vacancy_type_internship  2024-12-16T19:15:27.208Z   \n",
       "24   vacancy_type_internship  2024-12-16T19:10:23.619Z   \n",
       "25   vacancy_type_internship  2024-12-16T19:00:11.541Z   \n",
       "26   vacancy_type_internship  2024-12-16T18:38:12.214Z   \n",
       "27  vacancy_type_talent_pool  2024-12-16T18:30:41.019Z   \n",
       "28   vacancy_type_internship  2024-12-16T18:13:30.480Z   \n",
       "29      vacancy_legal_entity  2024-12-16T18:11:48.074Z   \n",
       "30   vacancy_type_internship  2024-12-17T01:41:10.227Z   \n",
       "31    vacancy_type_effective  2024-12-16T21:32:15.199Z   \n",
       "32    vacancy_type_effective  2024-12-16T19:50:03.739Z   \n",
       "33    vacancy_type_effective  2024-12-16T18:36:53.750Z   \n",
       "34    vacancy_type_effective  2024-12-16T17:37:32.181Z   \n",
       "35    vacancy_type_effective  2024-12-16T16:49:58.121Z   \n",
       "36    vacancy_type_effective  2024-12-16T16:24:16.543Z   \n",
       "37   vacancy_type_internship  2024-12-16T14:26:56.032Z   \n",
       "38    vacancy_type_effective  2024-12-16T14:09:06.358Z   \n",
       "39    vacancy_type_effective  2024-12-16T14:01:41.998Z   \n",
       "40    vacancy_type_effective  2024-12-16T18:54:04.894Z   \n",
       "41    vacancy_type_effective  2024-12-13T22:47:53.139Z   \n",
       "42    vacancy_type_effective  2024-12-12T16:59:52.261Z   \n",
       "43    vacancy_type_associate  2024-12-11T13:46:24.953Z   \n",
       "44    vacancy_type_effective  2024-12-10T12:16:28.225Z   \n",
       "45    vacancy_type_effective  2024-12-10T12:08:32.528Z   \n",
       "46    vacancy_type_effective  2024-12-06T19:21:31.673Z   \n",
       "47    vacancy_type_effective  2024-12-05T14:41:56.421Z   \n",
       "48    vacancy_type_effective  2024-12-03T14:32:35.939Z   \n",
       "49    vacancy_type_effective  2024-12-01T22:42:41.403Z   \n",
       "\n",
       "         applicationDeadline  ...                 city                state  \\\n",
       "0   2025-02-14T00:00:00.000Z  ...         Campo Grande   Mato Grosso do Sul   \n",
       "1   2025-01-20T00:00:00.000Z  ...         Porto Alegre    Rio Grande do Sul   \n",
       "2   2025-01-24T00:00:00.000Z  ...       Jaraguá do Sul       Santa Catarina   \n",
       "3   2025-02-14T00:00:00.000Z  ...        Florianópolis       Santa Catarina   \n",
       "4   2025-02-14T00:00:00.000Z  ...       Rio de Janeiro       Rio de Janeiro   \n",
       "5   2025-02-14T00:00:00.000Z  ...           Cataguases         Minas Gerais   \n",
       "6   2025-02-01T00:00:00.000Z  ...  Dado Não Disponível  Dado Não Disponível   \n",
       "7   2025-02-14T00:00:00.000Z  ...            São Paulo            São Paulo   \n",
       "8   2025-02-14T00:00:00.000Z  ...            São Paulo            São Paulo   \n",
       "9   2025-01-06T00:00:00.000Z  ...                Crato                Ceará   \n",
       "10  2025-01-10T00:00:00.000Z  ...  Dado Não Disponível  Dado Não Disponível   \n",
       "11  2025-02-03T00:00:00.000Z  ...  Dado Não Disponível  Dado Não Disponível   \n",
       "12  2025-02-07T00:00:00.000Z  ...            São Paulo            São Paulo   \n",
       "13  2025-01-09T00:00:00.000Z  ...         Porto Alegre    Rio Grande do Sul   \n",
       "14  2025-02-02T00:00:00.000Z  ...            São Paulo            São Paulo   \n",
       "15  2025-01-20T00:00:00.000Z  ...           Vila Velha       Espírito Santo   \n",
       "16  2025-02-04T00:00:00.000Z  ...  Dado Não Disponível  Dado Não Disponível   \n",
       "17  2025-01-31T00:00:00.000Z  ...  Dado Não Disponível  Dado Não Disponível   \n",
       "18  2025-01-31T00:00:00.000Z  ...  Dado Não Disponível  Dado Não Disponível   \n",
       "19  2025-01-28T00:00:00.000Z  ...            São Paulo            São Paulo   \n",
       "20  2024-12-31T00:00:00.000Z  ...             Caieiras            São Paulo   \n",
       "21  2025-01-31T00:00:00.000Z  ...              Taubaté            São Paulo   \n",
       "22  2025-01-31T00:00:00.000Z  ...         Porto Alegre    Rio Grande do Sul   \n",
       "23  2025-02-14T00:00:00.000Z  ...            Guarulhos            São Paulo   \n",
       "24  2025-02-14T00:00:00.000Z  ...       Belo Horizonte         Minas Gerais   \n",
       "25  2025-02-14T00:00:00.000Z  ...              Vitória       Espírito Santo   \n",
       "26  2025-01-31T00:00:00.000Z  ...           Itatiaiuçu         Minas Gerais   \n",
       "27  2025-01-03T00:00:00.000Z  ...             Brasilia     Distrito Federal   \n",
       "28  2025-01-31T00:00:00.000Z  ...             Ipatinga         Minas Gerais   \n",
       "29  2025-02-14T00:00:00.000Z  ...              Goiânia                Goiás   \n",
       "30  2024-12-20T00:00:00.000Z  ...              Barueri            São Paulo   \n",
       "31  2025-01-10T00:00:00.000Z  ...            São Paulo            São Paulo   \n",
       "32  2025-02-14T00:00:00.000Z  ...       Belo Horizonte         Minas Gerais   \n",
       "33  2025-02-14T00:00:00.000Z  ...             Curitiba               Paraná   \n",
       "34  2025-01-15T00:00:00.000Z  ...         Campo Grande   Mato Grosso do Sul   \n",
       "35  2025-02-14T00:00:00.000Z  ...            Fortaleza                Ceará   \n",
       "36  2025-02-14T00:00:00.000Z  ...              Maringá               Paraná   \n",
       "37  2025-02-14T00:00:00.000Z  ...             Curitiba               Paraná   \n",
       "38  2025-02-14T00:00:00.000Z  ...              Biguaçu       Santa Catarina   \n",
       "39  2025-02-14T00:00:00.000Z  ...            São Paulo            São Paulo   \n",
       "40  2025-03-01T00:00:00.000Z  ...             Blumenau       Santa Catarina   \n",
       "41  2024-12-31T00:00:00.000Z  ...  Dado Não Disponível  Dado Não Disponível   \n",
       "42  2025-03-31T00:00:00.000Z  ...  Dado Não Disponível  Dado Não Disponível   \n",
       "43  2025-02-09T00:00:00.000Z  ...  Dado Não Disponível  Dado Não Disponível   \n",
       "44  2025-01-28T00:00:00.000Z  ...  Dado Não Disponível  Dado Não Disponível   \n",
       "45  2025-01-28T00:00:00.000Z  ...  Dado Não Disponível  Dado Não Disponível   \n",
       "46  2025-01-21T00:00:00.000Z  ...              Barueri            São Paulo   \n",
       "47  2025-02-02T00:00:00.000Z  ...  Dado Não Disponível  Dado Não Disponível   \n",
       "48  2025-02-01T00:00:00.000Z  ...  Dado Não Disponível  Dado Não Disponível   \n",
       "49  2025-02-24T00:00:00.000Z  ...  Dado Não Disponível  Dado Não Disponível   \n",
       "\n",
       "   country                                             jobUrl  \\\n",
       "0   Brasil  https://origoenergia.gupy.io/job/eyJqb2JJZCI6O...   \n",
       "1   Brasil  https://sicredi.gupy.io/job/eyJqb2JJZCI6ODEyOT...   \n",
       "2   Brasil  https://clinicorp.gupy.io/job/eyJqb2JJZCI6ODI2...   \n",
       "3   Brasil  https://dna-recursos-humanos.gupy.io/job/eyJqb...   \n",
       "4   Brasil  https://grupoenergisa.gupy.io/job/eyJqb2JJZCI6...   \n",
       "5   Brasil  https://grupoenergisa.gupy.io/job/eyJqb2JJZCI6...   \n",
       "6   Brasil  https://almapbbdo.gupy.io/job/eyJqb2JJZCI6ODIz...   \n",
       "7   Brasil  https://bmg.gupy.io/job/eyJqb2JJZCI6ODMwNjc3OS...   \n",
       "8   Brasil  https://kpmgbrasil.gupy.io/job/eyJqb2JJZCI6ODM...   \n",
       "9   Brasil  https://facapartegrendene.gupy.io/job/eyJqb2JJ...   \n",
       "10  Brasil  https://tivit.gupy.io/job/eyJqb2JJZCI6ODI1OTE1...   \n",
       "11  Brasil  https://minsait.gupy.io/job/eyJqb2JJZCI6ODI1MD...   \n",
       "12  Brasil  https://hypnobox.gupy.io/job/eyJqb2JJZCI6ODI2N...   \n",
       "13  Brasil  https://villelabrasilbank.gupy.io/job/eyJqb2JJ...   \n",
       "14  Brasil  https://akross.gupy.io/job/eyJqb2JJZCI6ODIzOTE...   \n",
       "15  Brasil  https://autoglassestagio.gupy.io/job/eyJqb2JJZ...   \n",
       "16  Brasil  https://1doc.gupy.io/job/eyJqb2JJZCI6ODI1NjE2M...   \n",
       "17  Brasil  https://1doc.gupy.io/job/eyJqb2JJZCI6ODIyNTk5M...   \n",
       "18  Brasil  https://dwsbrazil.gupy.io/job/eyJqb2JJZCI6ODIy...   \n",
       "19  Brasil  https://justalittledata.gupy.io/job/eyJqb2JJZC...   \n",
       "20  Brasil  https://querosersoftys.gupy.io/job/eyJqb2JJZCI...   \n",
       "21  Brasil  https://programasdeentradausiminas.gupy.io/job...   \n",
       "22  Brasil  https://programasdeentradausiminas.gupy.io/job...   \n",
       "23  Brasil  https://programasdeentradausiminas.gupy.io/job...   \n",
       "24  Brasil  https://programasdeentradausiminas.gupy.io/job...   \n",
       "25  Brasil  https://programasdeentradausiminas.gupy.io/job...   \n",
       "26  Brasil  https://programasdeentradausiminas.gupy.io/job...   \n",
       "27  Brasil  https://ucb.gupy.io/job/eyJqb2JJZCI6ODI3MDA0MC...   \n",
       "28  Brasil  https://programasdeentradausiminas.gupy.io/job...   \n",
       "29  Brasil  https://vbalimentos.gupy.io/job/eyJqb2JJZCI6OD...   \n",
       "30  Brasil  https://corebiz.gupy.io/job/eyJqb2JJZCI6ODIwOD...   \n",
       "31  Brasil  https://livrariadavila.gupy.io/job/eyJqb2JJZCI...   \n",
       "32  Brasil  https://pagconfid.gupy.io/job/eyJqb2JJZCI6ODMw...   \n",
       "33  Brasil  https://pagconfid.gupy.io/job/eyJqb2JJZCI6ODMw...   \n",
       "34  Brasil  https://gruposabin.gupy.io/job/eyJqb2JJZCI6ODM...   \n",
       "35  Brasil  https://acal.gupy.io/job/eyJqb2JJZCI6ODMwNjEwN...   \n",
       "36  Brasil  https://pagconfid.gupy.io/job/eyJqb2JJZCI6ODMw...   \n",
       "37  Brasil  https://bellinatiperez.gupy.io/job/eyJqb2JJZCI...   \n",
       "38  Brasil  https://lojaskoerich.gupy.io/job/eyJqb2JJZCI6O...   \n",
       "39  Brasil  https://bralimpia.gupy.io/job/eyJqb2JJZCI6ODMw...   \n",
       "40  Brasil  https://paytrack.gupy.io/job/eyJqb2JJZCI6ODMwN...   \n",
       "41  Brasil  https://softplan.gupy.io/job/eyJqb2JJZCI6ODE4N...   \n",
       "42  Brasil  https://vemserolxbrasil.gupy.io/job/eyJqb2JJZC...   \n",
       "43   Chile  https://tivitlatam.gupy.io/job/eyJqb2JJZCI6ODI...   \n",
       "44  Brasil  https://minsait.gupy.io/job/eyJqb2JJZCI6ODIxNz...   \n",
       "45  Brasil  https://minsait.gupy.io/job/eyJqb2JJZCI6ODIxNz...   \n",
       "46  Brasil  https://leomadeiras.gupy.io/job/eyJqb2JJZCI6OD...   \n",
       "47  Brasil  https://fcamara.gupy.io/job/eyJqb2JJZCI6ODIzOT...   \n",
       "48  Brasil  https://montreal.gupy.io/job/eyJqb2JJZCI6ODIyO...   \n",
       "49  Brasil  https://casarcom.gupy.io/job/eyJqb2JJZCI6ODIyM...   \n",
       "\n",
       "                      badges disabilities  workplaceType  \\\n",
       "0    {'friendlyBadge': True}         True        on-site   \n",
       "1    {'friendlyBadge': True}         True         hybrid   \n",
       "2    {'friendlyBadge': True}         True         hybrid   \n",
       "3   {'friendlyBadge': False}         True        on-site   \n",
       "4    {'friendlyBadge': True}         True         hybrid   \n",
       "5    {'friendlyBadge': True}         True         hybrid   \n",
       "6   {'friendlyBadge': False}         True         remote   \n",
       "7    {'friendlyBadge': True}         True         hybrid   \n",
       "8   {'friendlyBadge': False}         True        on-site   \n",
       "9    {'friendlyBadge': True}        False        on-site   \n",
       "10   {'friendlyBadge': True}         True         remote   \n",
       "11   {'friendlyBadge': True}         True         remote   \n",
       "12   {'friendlyBadge': True}         True         hybrid   \n",
       "13   {'friendlyBadge': True}        False        on-site   \n",
       "14   {'friendlyBadge': True}         True         hybrid   \n",
       "15   {'friendlyBadge': True}         True        on-site   \n",
       "16   {'friendlyBadge': True}        False         remote   \n",
       "17   {'friendlyBadge': True}        False         remote   \n",
       "18  {'friendlyBadge': False}         True         remote   \n",
       "19   {'friendlyBadge': True}         True         hybrid   \n",
       "20  {'friendlyBadge': False}         True         hybrid   \n",
       "21   {'friendlyBadge': True}         True        on-site   \n",
       "22   {'friendlyBadge': True}         True        on-site   \n",
       "23   {'friendlyBadge': True}         True        on-site   \n",
       "24   {'friendlyBadge': True}         True        on-site   \n",
       "25   {'friendlyBadge': True}         True        on-site   \n",
       "26   {'friendlyBadge': True}         True        on-site   \n",
       "27   {'friendlyBadge': True}         True        on-site   \n",
       "28   {'friendlyBadge': True}         True        on-site   \n",
       "29  {'friendlyBadge': False}        False        on-site   \n",
       "30   {'friendlyBadge': True}         True         hybrid   \n",
       "31   {'friendlyBadge': True}        False        on-site   \n",
       "32  {'friendlyBadge': False}         True        on-site   \n",
       "33  {'friendlyBadge': False}         True        on-site   \n",
       "34  {'friendlyBadge': False}         True        on-site   \n",
       "35  {'friendlyBadge': False}         True        on-site   \n",
       "36  {'friendlyBadge': False}         True        on-site   \n",
       "37   {'friendlyBadge': True}         True        on-site   \n",
       "38  {'friendlyBadge': False}         True        on-site   \n",
       "39  {'friendlyBadge': False}        False        on-site   \n",
       "40   {'friendlyBadge': True}         True         hybrid   \n",
       "41   {'friendlyBadge': True}         True         remote   \n",
       "42   {'friendlyBadge': True}         True         remote   \n",
       "43   {'friendlyBadge': True}        False         remote   \n",
       "44   {'friendlyBadge': True}         True         remote   \n",
       "45   {'friendlyBadge': True}         True         remote   \n",
       "46  {'friendlyBadge': False}        False         hybrid   \n",
       "47   {'friendlyBadge': True}         True         remote   \n",
       "48   {'friendlyBadge': True}         True         remote   \n",
       "49   {'friendlyBadge': True}        False         remote   \n",
       "\n",
       "                                        careerPageUrl job_type  \\\n",
       "0   https://origoenergia.gupy.io/eyJzb3VyY2UiOiJnd...    DADOS   \n",
       "1   https://sicredi.gupy.io/eyJzb3VyY2UiOiJndXB5X3...    DADOS   \n",
       "2   https://clinicorp.gupy.io/eyJzb3VyY2UiOiJndXB5...    DADOS   \n",
       "3   https://dna-recursos-humanos.gupy.io/eyJzb3VyY...    DADOS   \n",
       "4   https://grupoenergisa.gupy.io/eyJzb3VyY2UiOiJn...    DADOS   \n",
       "5   https://grupoenergisa.gupy.io/eyJzb3VyY2UiOiJn...    DADOS   \n",
       "6   https://almapbbdo.gupy.io/eyJzb3VyY2UiOiJndXB5...    DADOS   \n",
       "7   https://bmg.gupy.io/eyJzb3VyY2UiOiJndXB5X3Bvcn...    DADOS   \n",
       "8   https://kpmgbrasil.gupy.io/eyJzb3VyY2UiOiJndXB...    DADOS   \n",
       "9   https://facapartegrendene.gupy.io/eyJzb3VyY2Ui...    DADOS   \n",
       "10  https://tivit.gupy.io/eyJzb3VyY2UiOiJndXB5X3Bv...    UX/UI   \n",
       "11  https://minsait.gupy.io/eyJzb3VyY2UiOiJndXB5X3...    UX/UI   \n",
       "12  https://hypnobox.gupy.io/eyJzb3VyY2UiOiJndXB5X...    UX/UI   \n",
       "13  https://villelabrasilbank.gupy.io/eyJzb3VyY2Ui...    UX/UI   \n",
       "14  https://akross.gupy.io/eyJzb3VyY2UiOiJndXB5X3B...    UX/UI   \n",
       "15  https://autoglassestagio.gupy.io/eyJzb3VyY2UiO...    UX/UI   \n",
       "16  https://1doc.gupy.io/eyJzb3VyY2UiOiJndXB5X3Bvc...    UX/UI   \n",
       "17  https://1doc.gupy.io/eyJzb3VyY2UiOiJndXB5X3Bvc...    UX/UI   \n",
       "18  https://dwsbrazil.gupy.io/eyJzb3VyY2UiOiJndXB5...    UX/UI   \n",
       "19  https://justalittledata.gupy.io/eyJzb3VyY2UiOi...    UX/UI   \n",
       "20  https://querosersoftys.gupy.io/eyJzb3VyY2UiOiJ...      ADM   \n",
       "21  https://programasdeentradausiminas.gupy.io/eyJ...      ADM   \n",
       "22  https://programasdeentradausiminas.gupy.io/eyJ...      ADM   \n",
       "23  https://programasdeentradausiminas.gupy.io/eyJ...      ADM   \n",
       "24  https://programasdeentradausiminas.gupy.io/eyJ...      ADM   \n",
       "25  https://programasdeentradausiminas.gupy.io/eyJ...      ADM   \n",
       "26  https://programasdeentradausiminas.gupy.io/eyJ...      ADM   \n",
       "27  https://ucb.gupy.io/eyJzb3VyY2UiOiJndXB5X3Bvcn...      ADM   \n",
       "28  https://programasdeentradausiminas.gupy.io/eyJ...      ADM   \n",
       "29  https://vbalimentos.gupy.io/eyJzb3VyY2UiOiJndX...      ADM   \n",
       "30  https://corebiz.gupy.io/eyJzb3VyY2UiOiJndXB5X3...       RH   \n",
       "31  https://livrariadavila.gupy.io/eyJzb3VyY2UiOiJ...       RH   \n",
       "32  https://pagconfid.gupy.io/eyJzb3VyY2UiOiJndXB5...       RH   \n",
       "33  https://pagconfid.gupy.io/eyJzb3VyY2UiOiJndXB5...       RH   \n",
       "34  https://gruposabin.gupy.io/eyJzb3VyY2UiOiJndXB...       RH   \n",
       "35  https://acal.gupy.io/eyJzb3VyY2UiOiJndXB5X3Bvc...       RH   \n",
       "36  https://pagconfid.gupy.io/eyJzb3VyY2UiOiJndXB5...       RH   \n",
       "37  https://bellinatiperez.gupy.io/eyJzb3VyY2UiOiJ...       RH   \n",
       "38  https://lojaskoerich.gupy.io/eyJzb3VyY2UiOiJnd...       RH   \n",
       "39  https://bralimpia.gupy.io/eyJzb3VyY2UiOiJndXB5...       RH   \n",
       "40  https://paytrack.gupy.io/eyJzb3VyY2UiOiJndXB5X...   FRTEND   \n",
       "41  https://softplan.gupy.io/eyJzb3VyY2UiOiJndXB5X...   FRTEND   \n",
       "42  https://vemserolxbrasil.gupy.io/eyJzb3VyY2UiOi...   FRTEND   \n",
       "43  https://tivitlatam.gupy.io/eyJzb3VyY2UiOiJndXB...   FRTEND   \n",
       "44  https://minsait.gupy.io/eyJzb3VyY2UiOiJndXB5X3...   FRTEND   \n",
       "45  https://minsait.gupy.io/eyJzb3VyY2UiOiJndXB5X3...   FRTEND   \n",
       "46  https://leomadeiras.gupy.io/eyJzb3VyY2UiOiJndX...   FRTEND   \n",
       "47  https://fcamara.gupy.io/eyJzb3VyY2UiOiJndXB5X3...   FRTEND   \n",
       "48  https://montreal.gupy.io/eyJzb3VyY2UiOiJndXB5X...   FRTEND   \n",
       "49  https://casarcom.gupy.io/eyJzb3VyY2UiOiJndXB5X...   FRTEND   \n",
       "\n",
       "               experience  \n",
       "0                   PLENO  \n",
       "1                   PLENO  \n",
       "2                  SENIOR  \n",
       "3   DADO NÃO IDENTIFICADO  \n",
       "4   DADO NÃO IDENTIFICADO  \n",
       "5   DADO NÃO IDENTIFICADO  \n",
       "6                  JUNIOR  \n",
       "7                  SENIOR  \n",
       "8                  SENIOR  \n",
       "9   DADO NÃO IDENTIFICADO  \n",
       "10                 SENIOR  \n",
       "11                 SENIOR  \n",
       "12  DADO NÃO IDENTIFICADO  \n",
       "13  DADO NÃO IDENTIFICADO  \n",
       "14                 SENIOR  \n",
       "15                ESTAGIO  \n",
       "16                 JUNIOR  \n",
       "17                  PLENO  \n",
       "18                 SENIOR  \n",
       "19                  PLENO  \n",
       "20                 JUNIOR  \n",
       "21                ESTAGIO  \n",
       "22                ESTAGIO  \n",
       "23                ESTAGIO  \n",
       "24                ESTAGIO  \n",
       "25                ESTAGIO  \n",
       "26                ESTAGIO  \n",
       "27  DADO NÃO IDENTIFICADO  \n",
       "28                ESTAGIO  \n",
       "29  DADO NÃO IDENTIFICADO  \n",
       "30                ESTAGIO  \n",
       "31  DADO NÃO IDENTIFICADO  \n",
       "32  DADO NÃO IDENTIFICADO  \n",
       "33  DADO NÃO IDENTIFICADO  \n",
       "34  DADO NÃO IDENTIFICADO  \n",
       "35  DADO NÃO IDENTIFICADO  \n",
       "36  DADO NÃO IDENTIFICADO  \n",
       "37                ESTAGIO  \n",
       "38                 JUNIOR  \n",
       "39  DADO NÃO IDENTIFICADO  \n",
       "40                 SENIOR  \n",
       "41  DADO NÃO IDENTIFICADO  \n",
       "42                 JUNIOR  \n",
       "43  DADO NÃO IDENTIFICADO  \n",
       "44  DADO NÃO IDENTIFICADO  \n",
       "45  DADO NÃO IDENTIFICADO  \n",
       "46                 JUNIOR  \n",
       "47                 SENIOR  \n",
       "48                 SENIOR  \n",
       "49                  PLENO  \n",
       "\n",
       "[50 rows x 21 columns]"
      ]
     },
     "execution_count": 83,
     "metadata": {},
     "output_type": "execute_result"
    }
   ],
   "source": [
    "df_jobs"
   ]
  },
  {
   "cell_type": "code",
   "execution_count": null,
   "metadata": {},
   "outputs": [],
   "source": []
  }
 ],
 "metadata": {
  "kernelspec": {
   "display_name": ".venv",
   "language": "python",
   "name": "python3"
  },
  "language_info": {
   "codemirror_mode": {
    "name": "ipython",
    "version": 3
   },
   "file_extension": ".py",
   "mimetype": "text/x-python",
   "name": "python",
   "nbconvert_exporter": "python",
   "pygments_lexer": "ipython3",
   "version": "3.11.9"
  }
 },
 "nbformat": 4,
 "nbformat_minor": 2
}
